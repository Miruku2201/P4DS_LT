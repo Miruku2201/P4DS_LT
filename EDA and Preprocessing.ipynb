{
 "cells": [
  {
   "attachments": {},
   "cell_type": "markdown",
   "metadata": {},
   "source": [
    "# **<p style = \"text-align: center\">LẬP TRÌNH KHOA HỌC DỮ LIỆU</p>**\n",
    "## **<p style = \"text-align: center\">Đồ án Cuối kì</p>**\n",
    "## **<p style = \"text-align: center\">KHÁM PHÁ VÀ TIỀN XỬ LÝ DỮ LIỆU</p>**\n",
    "### <p style = \"text-align: center\"> <b>Đề tài:</b> KHÁM PHÁ, THỐNG KÊ CỦA TOP CÁC CA KHÚC TRÊN SPOTIFY</p>\n",
    "<p style = \"text-align: center\"> Sinh viên thực hiện </p>\n",
    "\n",
    "| Mã số sinh viên | Họ và tên |\n",
    "| --- | --- |\n",
    "| 20120040 | Nguyễn Quang Gia Bảo |\n",
    "| 20120127 | Trần Minh Tuấn Kiệt |\n",
    "| 20120136 | Huỳnh Tuấn Nam |\n",
    "| 20120158 | Trần Hoàng Anh Phi |"
   ]
  },
  {
   "attachments": {},
   "cell_type": "markdown",
   "metadata": {},
   "source": [
    "---"
   ]
  },
  {
   "attachments": {},
   "cell_type": "markdown",
   "metadata": {},
   "source": [
    "# **Install the package**"
   ]
  },
  {
   "attachments": {},
   "cell_type": "markdown",
   "metadata": {},
   "source": [
    "# **Import the package**"
   ]
  },
  {
   "cell_type": "code",
   "execution_count": 1,
   "metadata": {},
   "outputs": [],
   "source": [
    "import pandas as pd\n",
    "import numpy as np\n",
    "import matplotlib.pyplot as plt\n",
    "import seaborn as sns"
   ]
  },
  {
   "attachments": {},
   "cell_type": "markdown",
   "metadata": {},
   "source": [
    "# **Setting**"
   ]
  },
  {
   "cell_type": "code",
   "execution_count": 2,
   "metadata": {},
   "outputs": [],
   "source": [
    "sns.set_style(\"ticks\")\n",
    "a4size = (11.7, 8.27)\n",
    "a2size = (16.5, 23.4)\n",
    "a2size_ls = (23.4, 16.5)"
   ]
  },
  {
   "attachments": {},
   "cell_type": "markdown",
   "metadata": {},
   "source": [
    "# **Information of dataset**"
   ]
  },
  {
   "attachments": {},
   "cell_type": "markdown",
   "metadata": {},
   "source": [
    "- Dataset được lấy từ <a href = \"https://www.kaggle.com\"> Kaggle </a>. <br>\n",
    "- Dataset là thông tin giá cả của những căn nhà ở Hà Nội thông qua các đặc điểm của một căn nhà.<br>\n",
    "- Trang của Dataset <a herf = \"https://www.kaggle.com/datasets/ladcva/vietnam-housing-dataset-hanoi\"> https://www.kaggle.com/datasets/ladcva/vietnam-housing-dataset-hanoi</a>. <br>\n",
    "- Tác giả của Dataset: LE ANH DUC. <br>\n",
    "- License: CC BY-NC-SA 4.0\n"
   ]
  },
  {
   "attachments": {},
   "cell_type": "markdown",
   "metadata": {},
   "source": [
    "---"
   ]
  },
  {
   "attachments": {},
   "cell_type": "markdown",
   "metadata": {},
   "source": [
    "# **EDA and Preprocessing**"
   ]
  },
  {
   "attachments": {},
   "cell_type": "markdown",
   "metadata": {},
   "source": [
    "Dataset sau khi download về được lưu trong thư mục csv <br>\n",
    "\n",
    "Đưa dữ liệu DataFrame vào biến `housing_df`"
   ]
  },
  {
   "cell_type": "code",
   "execution_count": 3,
   "metadata": {},
   "outputs": [],
   "source": [
    "housing_df = pd.read_csv(\"csv/VN_housing.csv\").drop(columns=['Unnamed: 0'])"
   ]
  },
  {
   "cell_type": "code",
   "execution_count": 4,
   "metadata": {},
   "outputs": [
    {
     "data": {
      "text/html": [
       "<div>\n",
       "<style scoped>\n",
       "    .dataframe tbody tr th:only-of-type {\n",
       "        vertical-align: middle;\n",
       "    }\n",
       "\n",
       "    .dataframe tbody tr th {\n",
       "        vertical-align: top;\n",
       "    }\n",
       "\n",
       "    .dataframe thead th {\n",
       "        text-align: right;\n",
       "    }\n",
       "</style>\n",
       "<table border=\"1\" class=\"dataframe\">\n",
       "  <thead>\n",
       "    <tr style=\"text-align: right;\">\n",
       "      <th></th>\n",
       "      <th>Ngày</th>\n",
       "      <th>Địa chỉ</th>\n",
       "      <th>Quận</th>\n",
       "      <th>Huyện</th>\n",
       "      <th>Loại hình nhà ở</th>\n",
       "      <th>Giấy tờ pháp lý</th>\n",
       "      <th>Số tầng</th>\n",
       "      <th>Số phòng ngủ</th>\n",
       "      <th>Diện tích</th>\n",
       "      <th>Dài</th>\n",
       "      <th>Rộng</th>\n",
       "      <th>Giá/m2</th>\n",
       "    </tr>\n",
       "  </thead>\n",
       "  <tbody>\n",
       "    <tr>\n",
       "      <th>0</th>\n",
       "      <td>2020-08-05</td>\n",
       "      <td>Đường Hoàng Quốc Việt, Phường Nghĩa Đô, Quận C...</td>\n",
       "      <td>Quận Cầu Giấy</td>\n",
       "      <td>Phường Nghĩa Đô</td>\n",
       "      <td>Nhà ngõ, hẻm</td>\n",
       "      <td>Đã có sổ</td>\n",
       "      <td>4</td>\n",
       "      <td>5 phòng</td>\n",
       "      <td>46 m²</td>\n",
       "      <td>NaN</td>\n",
       "      <td>NaN</td>\n",
       "      <td>86,96 triệu/m²</td>\n",
       "    </tr>\n",
       "    <tr>\n",
       "      <th>1</th>\n",
       "      <td>2020-08-05</td>\n",
       "      <td>Đường Kim Giang, Phường Kim Giang, Quận Thanh ...</td>\n",
       "      <td>Quận Thanh Xuân</td>\n",
       "      <td>Phường Kim Giang</td>\n",
       "      <td>Nhà mặt phố, mặt tiền</td>\n",
       "      <td>NaN</td>\n",
       "      <td>NaN</td>\n",
       "      <td>3 phòng</td>\n",
       "      <td>37 m²</td>\n",
       "      <td>NaN</td>\n",
       "      <td>NaN</td>\n",
       "      <td>116,22 triệu/m²</td>\n",
       "    </tr>\n",
       "    <tr>\n",
       "      <th>2</th>\n",
       "      <td>2020-08-05</td>\n",
       "      <td>phố minh khai, Phường Minh Khai, Quận Hai Bà T...</td>\n",
       "      <td>Quận Hai Bà Trưng</td>\n",
       "      <td>Phường Minh Khai</td>\n",
       "      <td>Nhà ngõ, hẻm</td>\n",
       "      <td>Đã có sổ</td>\n",
       "      <td>4</td>\n",
       "      <td>4 phòng</td>\n",
       "      <td>40 m²</td>\n",
       "      <td>10 m</td>\n",
       "      <td>4 m</td>\n",
       "      <td>65 triệu/m²</td>\n",
       "    </tr>\n",
       "    <tr>\n",
       "      <th>3</th>\n",
       "      <td>2020-08-05</td>\n",
       "      <td>Đường Võng Thị, Phường Thụy Khuê, Quận Tây Hồ,...</td>\n",
       "      <td>Quận Tây Hồ</td>\n",
       "      <td>Phường Thụy Khuê</td>\n",
       "      <td>Nhà ngõ, hẻm</td>\n",
       "      <td>Đã có sổ</td>\n",
       "      <td>NaN</td>\n",
       "      <td>6 phòng</td>\n",
       "      <td>51 m²</td>\n",
       "      <td>12.75 m</td>\n",
       "      <td>4 m</td>\n",
       "      <td>100 triệu/m²</td>\n",
       "    </tr>\n",
       "    <tr>\n",
       "      <th>4</th>\n",
       "      <td>2020-08-05</td>\n",
       "      <td>Đường Kim Giang, Phường Kim Giang, Quận Thanh ...</td>\n",
       "      <td>Quận Thanh Xuân</td>\n",
       "      <td>Phường Kim Giang</td>\n",
       "      <td>Nhà ngõ, hẻm</td>\n",
       "      <td>NaN</td>\n",
       "      <td>NaN</td>\n",
       "      <td>4 phòng</td>\n",
       "      <td>36 m²</td>\n",
       "      <td>9 m</td>\n",
       "      <td>4 m</td>\n",
       "      <td>86,11 triệu/m²</td>\n",
       "    </tr>\n",
       "  </tbody>\n",
       "</table>\n",
       "</div>"
      ],
      "text/plain": [
       "         Ngày                                            Địa chỉ  \\\n",
       "0  2020-08-05  Đường Hoàng Quốc Việt, Phường Nghĩa Đô, Quận C...   \n",
       "1  2020-08-05  Đường Kim Giang, Phường Kim Giang, Quận Thanh ...   \n",
       "2  2020-08-05  phố minh khai, Phường Minh Khai, Quận Hai Bà T...   \n",
       "3  2020-08-05  Đường Võng Thị, Phường Thụy Khuê, Quận Tây Hồ,...   \n",
       "4  2020-08-05  Đường Kim Giang, Phường Kim Giang, Quận Thanh ...   \n",
       "\n",
       "                Quận             Huyện        Loại hình nhà ở Giấy tờ pháp lý  \\\n",
       "0      Quận Cầu Giấy   Phường Nghĩa Đô           Nhà ngõ, hẻm        Đã có sổ   \n",
       "1    Quận Thanh Xuân  Phường Kim Giang  Nhà mặt phố, mặt tiền             NaN   \n",
       "2  Quận Hai Bà Trưng  Phường Minh Khai           Nhà ngõ, hẻm        Đã có sổ   \n",
       "3        Quận Tây Hồ  Phường Thụy Khuê           Nhà ngõ, hẻm        Đã có sổ   \n",
       "4    Quận Thanh Xuân  Phường Kim Giang           Nhà ngõ, hẻm             NaN   \n",
       "\n",
       "  Số tầng Số phòng ngủ Diện tích      Dài Rộng           Giá/m2  \n",
       "0       4      5 phòng     46 m²      NaN  NaN   86,96 triệu/m²  \n",
       "1     NaN      3 phòng     37 m²      NaN  NaN  116,22 triệu/m²  \n",
       "2       4      4 phòng     40 m²     10 m  4 m      65 triệu/m²  \n",
       "3     NaN      6 phòng     51 m²  12.75 m  4 m     100 triệu/m²  \n",
       "4     NaN      4 phòng     36 m²      9 m  4 m   86,11 triệu/m²  "
      ]
     },
     "execution_count": 4,
     "metadata": {},
     "output_type": "execute_result"
    }
   ],
   "source": [
    "housing_df.head()"
   ]
  },
  {
   "attachments": {},
   "cell_type": "markdown",
   "metadata": {},
   "source": [
    "### **1. Khám phá, tiền xử lí cho toàn bộ dữ liệu**"
   ]
  },
  {
   "attachments": {},
   "cell_type": "markdown",
   "metadata": {},
   "source": [
    "- **1.1 Số chiều của DataFrame**"
   ]
  },
  {
   "cell_type": "code",
   "execution_count": 5,
   "metadata": {},
   "outputs": [
    {
     "data": {
      "text/plain": [
       "(82497, 12)"
      ]
     },
     "execution_count": 5,
     "metadata": {},
     "output_type": "execute_result"
    }
   ],
   "source": [
    "housing_df.shape"
   ]
  },
  {
   "attachments": {},
   "cell_type": "markdown",
   "metadata": {},
   "source": [
    "Dữ liệu gồm có `82497` dòng và `13` cột"
   ]
  },
  {
   "attachments": {},
   "cell_type": "markdown",
   "metadata": {},
   "source": [
    "- **1.2 Các dòng của Dataframe**"
   ]
  },
  {
   "cell_type": "code",
   "execution_count": 6,
   "metadata": {},
   "outputs": [
    {
     "data": {
      "image/png": "[encoded data removed]",
      "text/plain": [
       "<Figure size 640x480 with 1 Axes>"
      ]
     },
     "metadata": {},
     "output_type": "display_data"
    }
   ],
   "source": [
    "num_duplicated = housing_df.duplicated().sum()\n",
    "duplicated_df = pd.Series({\n",
    "    \"num_duplicated\": num_duplicated,\n",
    "    \"num_nonduplicated\": housing_df.shape[0] - num_duplicated\n",
    "}).to_frame()\n",
    "\n",
    "fig, ax = plt.subplots()\n",
    "duplicated_df.plot.bar(rot = 0, ax = ax)\n",
    "for i in ax.containers:\n",
    "    ax.bar_label(i,)\n",
    "\n",
    "plt.show()"
   ]
  },
  {
   "attachments": {},
   "cell_type": "markdown",
   "metadata": {},
   "source": [
    "Có 815 hàng bị trùng. Ta sẽ tiến hành xoá đi các hàng này."
   ]
  },
  {
   "cell_type": "code",
   "execution_count": 7,
   "metadata": {},
   "outputs": [
    {
     "data": {
      "text/plain": [
       "0"
      ]
     },
     "execution_count": 7,
     "metadata": {},
     "output_type": "execute_result"
    }
   ],
   "source": [
    "housing_df.drop_duplicates(ignore_index=True, inplace=True)\n",
    "housing_df.duplicated().sum()"
   ]
  },
  {
   "attachments": {},
   "cell_type": "markdown",
   "metadata": {},
   "source": [
    "- **1.3 Các cột của Dataframe**"
   ]
  },
  {
   "cell_type": "code",
   "execution_count": 8,
   "metadata": {},
   "outputs": [
    {
     "data": {
      "text/plain": [
       "Index(['Ngày', 'Địa chỉ', 'Quận', 'Huyện', 'Loại hình nhà ở',\n",
       "       'Giấy tờ pháp lý', 'Số tầng', 'Số phòng ngủ', 'Diện tích', 'Dài',\n",
       "       'Rộng', 'Giá/m2'],\n",
       "      dtype='object')"
      ]
     },
     "execution_count": 8,
     "metadata": {},
     "output_type": "execute_result"
    }
   ],
   "source": [
    "housing_df.columns"
   ]
  },
  {
   "attachments": {},
   "cell_type": "markdown",
   "metadata": {},
   "source": [
    "##### **Vì các cột có tên Tiếng Việt có dấu, nên có một ít \"khó chịu\" trong quá trình thực hiện đồ án. Nên ta sẽ thay đổi các tên cột.**\n"
   ]
  },
  {
   "cell_type": "code",
   "execution_count": 9,
   "metadata": {},
   "outputs": [],
   "source": [
    "housing_df = housing_df.rename(columns = {\n",
    "    \"Ngày\": \"Date\",\n",
    "    \"Địa chỉ\": \"Address\",\n",
    "    \"Quận\": \"District\", # Quận\n",
    "    \"Huyện\": \"Ward\", # Phường, Huyện\n",
    "    \"Loại hình nhà ở\": \"Type\",\n",
    "    \"Giấy tờ pháp lý\": \"Legal\",\n",
    "    \"Số tầng\": \"Number of floors\",\n",
    "    \"Số phòng ngủ\": \"Number of bedrooms\",\n",
    "    \"Diện tích\": \"Area\",\n",
    "    \"Dài\": \"Length\",\n",
    "    \"Rộng\": \"Width\",\n",
    "    \"Giá/m2\": \"Price/m2\"\n",
    "})"
   ]
  },
  {
   "cell_type": "code",
   "execution_count": 10,
   "metadata": {},
   "outputs": [
    {
     "data": {
      "text/html": [
       "<div>\n",
       "<style scoped>\n",
       "    .dataframe tbody tr th:only-of-type {\n",
       "        vertical-align: middle;\n",
       "    }\n",
       "\n",
       "    .dataframe tbody tr th {\n",
       "        vertical-align: top;\n",
       "    }\n",
       "\n",
       "    .dataframe thead th {\n",
       "        text-align: right;\n",
       "    }\n",
       "</style>\n",
       "<table border=\"1\" class=\"dataframe\">\n",
       "  <thead>\n",
       "    <tr style=\"text-align: right;\">\n",
       "      <th></th>\n",
       "      <th>num_missing</th>\n",
       "      <th>missing_ratio (%)</th>\n",
       "    </tr>\n",
       "  </thead>\n",
       "  <tbody>\n",
       "    <tr>\n",
       "      <th>Date</th>\n",
       "      <td>1</td>\n",
       "      <td>0.001224</td>\n",
       "    </tr>\n",
       "    <tr>\n",
       "      <th>Address</th>\n",
       "      <td>48</td>\n",
       "      <td>0.058764</td>\n",
       "    </tr>\n",
       "    <tr>\n",
       "      <th>District</th>\n",
       "      <td>2</td>\n",
       "      <td>0.002449</td>\n",
       "    </tr>\n",
       "    <tr>\n",
       "      <th>Ward</th>\n",
       "      <td>48</td>\n",
       "      <td>0.058764</td>\n",
       "    </tr>\n",
       "    <tr>\n",
       "      <th>Type</th>\n",
       "      <td>32</td>\n",
       "      <td>0.039176</td>\n",
       "    </tr>\n",
       "    <tr>\n",
       "      <th>Legal</th>\n",
       "      <td>28422</td>\n",
       "      <td>34.795916</td>\n",
       "    </tr>\n",
       "    <tr>\n",
       "      <th>Number of floors</th>\n",
       "      <td>45463</td>\n",
       "      <td>55.658529</td>\n",
       "    </tr>\n",
       "    <tr>\n",
       "      <th>Number of bedrooms</th>\n",
       "      <td>39</td>\n",
       "      <td>0.047746</td>\n",
       "    </tr>\n",
       "    <tr>\n",
       "      <th>Area</th>\n",
       "      <td>2</td>\n",
       "      <td>0.002449</td>\n",
       "    </tr>\n",
       "    <tr>\n",
       "      <th>Length</th>\n",
       "      <td>61934</td>\n",
       "      <td>75.823315</td>\n",
       "    </tr>\n",
       "    <tr>\n",
       "      <th>Width</th>\n",
       "      <td>46385</td>\n",
       "      <td>56.787297</td>\n",
       "    </tr>\n",
       "    <tr>\n",
       "      <th>Price/m2</th>\n",
       "      <td>13</td>\n",
       "      <td>0.015915</td>\n",
       "    </tr>\n",
       "  </tbody>\n",
       "</table>\n",
       "</div>"
      ],
      "text/plain": [
       "                    num_missing  missing_ratio (%)\n",
       "Date                          1           0.001224\n",
       "Address                      48           0.058764\n",
       "District                      2           0.002449\n",
       "Ward                         48           0.058764\n",
       "Type                         32           0.039176\n",
       "Legal                     28422          34.795916\n",
       "Number of floors          45463          55.658529\n",
       "Number of bedrooms           39           0.047746\n",
       "Area                          2           0.002449\n",
       "Length                    61934          75.823315\n",
       "Width                     46385          56.787297\n",
       "Price/m2                     13           0.015915"
      ]
     },
     "execution_count": 10,
     "metadata": {},
     "output_type": "execute_result"
    }
   ],
   "source": [
    "missing_dictionary = {\n",
    "    \"num_missing\": housing_df.isna().sum(),\n",
    "    \"missing_ratio (%)\": housing_df.isna().sum()*100/len(housing_df)\n",
    "}\n",
    "missing_df = pd.DataFrame(missing_dictionary)\n",
    "missing_df"
   ]
  },
  {
   "cell_type": "code",
   "execution_count": 11,
   "metadata": {},
   "outputs": [
    {
     "data": {
      "image/png": "[encoded data removed]",
      "text/plain": [
       "<Figure size 1170x827 with 1 Axes>"
      ]
     },
     "metadata": {},
     "output_type": "display_data"
    }
   ],
   "source": [
    "fig, ax = plt.subplots()\n",
    "#The size of A4 paper\n",
    "fig.set_size_inches(11.7, 8.27)\n",
    "sns.barplot(y = missing_df[\"num_missing\"], x = missing_df.index, data = missing_df, ax = ax)\n",
    "#Set rotation of x label\n",
    "ax.tick_params(axis = 'x', rotation = 45)\n",
    "\n",
    "#Add the value for each container\n",
    "for i in ax.containers:\n",
    "    ax.bar_label(i,)\n",
    "plt.show()"
   ]
  },
  {
   "attachments": {},
   "cell_type": "markdown",
   "metadata": {},
   "source": [
    "**Nhận xét**<br>\n",
    "Các cột `Legal`, `Number of floors`, `Length`, `Width` có dữ liệu thiếu rất nhiều."
   ]
  },
  {
   "attachments": {},
   "cell_type": "markdown",
   "metadata": {},
   "source": [
    "##### **Tìm hiểu có những kiểu dữ liệu gì bên trong một cột**"
   ]
  },
  {
   "cell_type": "code",
   "execution_count": 12,
   "metadata": {},
   "outputs": [],
   "source": [
    "def open_object_dtype(series):\n",
    "    setType = list(set(series.apply(lambda x: type(x))))\n",
    "    return setType"
   ]
  },
  {
   "cell_type": "code",
   "execution_count": 13,
   "metadata": {},
   "outputs": [
    {
     "data": {
      "text/html": [
       "<div>\n",
       "<style scoped>\n",
       "    .dataframe tbody tr th:only-of-type {\n",
       "        vertical-align: middle;\n",
       "    }\n",
       "\n",
       "    .dataframe tbody tr th {\n",
       "        vertical-align: top;\n",
       "    }\n",
       "\n",
       "    .dataframe thead th {\n",
       "        text-align: right;\n",
       "    }\n",
       "</style>\n",
       "<table border=\"1\" class=\"dataframe\">\n",
       "  <thead>\n",
       "    <tr style=\"text-align: right;\">\n",
       "      <th></th>\n",
       "      <th>Date</th>\n",
       "      <th>Address</th>\n",
       "      <th>District</th>\n",
       "      <th>Ward</th>\n",
       "      <th>Type</th>\n",
       "      <th>Legal</th>\n",
       "      <th>Number of floors</th>\n",
       "      <th>Number of bedrooms</th>\n",
       "      <th>Area</th>\n",
       "      <th>Length</th>\n",
       "      <th>Width</th>\n",
       "      <th>Price/m2</th>\n",
       "    </tr>\n",
       "  </thead>\n",
       "  <tbody>\n",
       "    <tr>\n",
       "      <th>0</th>\n",
       "      <td>&lt;class 'str'&gt;</td>\n",
       "      <td>&lt;class 'str'&gt;</td>\n",
       "      <td>&lt;class 'str'&gt;</td>\n",
       "      <td>&lt;class 'str'&gt;</td>\n",
       "      <td>&lt;class 'str'&gt;</td>\n",
       "      <td>&lt;class 'str'&gt;</td>\n",
       "      <td>&lt;class 'str'&gt;</td>\n",
       "      <td>&lt;class 'str'&gt;</td>\n",
       "      <td>&lt;class 'str'&gt;</td>\n",
       "      <td>&lt;class 'str'&gt;</td>\n",
       "      <td>&lt;class 'str'&gt;</td>\n",
       "      <td>&lt;class 'str'&gt;</td>\n",
       "    </tr>\n",
       "    <tr>\n",
       "      <th>1</th>\n",
       "      <td>&lt;class 'float'&gt;</td>\n",
       "      <td>&lt;class 'float'&gt;</td>\n",
       "      <td>&lt;class 'float'&gt;</td>\n",
       "      <td>&lt;class 'float'&gt;</td>\n",
       "      <td>&lt;class 'float'&gt;</td>\n",
       "      <td>&lt;class 'float'&gt;</td>\n",
       "      <td>&lt;class 'float'&gt;</td>\n",
       "      <td>&lt;class 'float'&gt;</td>\n",
       "      <td>&lt;class 'float'&gt;</td>\n",
       "      <td>&lt;class 'float'&gt;</td>\n",
       "      <td>&lt;class 'float'&gt;</td>\n",
       "      <td>&lt;class 'float'&gt;</td>\n",
       "    </tr>\n",
       "  </tbody>\n",
       "</table>\n",
       "</div>"
      ],
      "text/plain": [
       "              Date          Address         District             Ward  \\\n",
       "0    <class 'str'>    <class 'str'>    <class 'str'>    <class 'str'>   \n",
       "1  <class 'float'>  <class 'float'>  <class 'float'>  <class 'float'>   \n",
       "\n",
       "              Type            Legal Number of floors Number of bedrooms  \\\n",
       "0    <class 'str'>    <class 'str'>    <class 'str'>      <class 'str'>   \n",
       "1  <class 'float'>  <class 'float'>  <class 'float'>    <class 'float'>   \n",
       "\n",
       "              Area           Length            Width         Price/m2  \n",
       "0    <class 'str'>    <class 'str'>    <class 'str'>    <class 'str'>  \n",
       "1  <class 'float'>  <class 'float'>  <class 'float'>  <class 'float'>  "
      ]
     },
     "execution_count": 13,
     "metadata": {},
     "output_type": "execute_result"
    }
   ],
   "source": [
    "columns = housing_df.columns\n",
    "housing_df[columns].apply(open_object_dtype)"
   ]
  },
  {
   "attachments": {},
   "cell_type": "markdown",
   "metadata": {},
   "source": [
    "Tất cả các cột đều có 2 kiểu dữ liệu là `float` và `string`. <br>\n",
    "Truy xuất vào từng cột dữ liệu `nghi ngờ` để khám phá và xử lí nó"
   ]
  },
  {
   "attachments": {},
   "cell_type": "markdown",
   "metadata": {},
   "source": [
    "##### **Tìm hiểu từng cột dữ liệu**"
   ]
  },
  {
   "attachments": {},
   "cell_type": "markdown",
   "metadata": {},
   "source": [
    "- **Date**<br>"
   ]
  },
  {
   "cell_type": "code",
   "execution_count": 14,
   "metadata": {},
   "outputs": [
    {
     "data": {
      "text/plain": [
       "0    2020-08-05\n",
       "1    2020-08-05\n",
       "2    2020-08-05\n",
       "3    2020-08-05\n",
       "4    2020-08-05\n",
       "Name: Date, dtype: object"
      ]
     },
     "execution_count": 14,
     "metadata": {},
     "output_type": "execute_result"
    }
   ],
   "source": [
    "housing_df['Date'].head(5)"
   ]
  },
  {
   "attachments": {},
   "cell_type": "markdown",
   "metadata": {},
   "source": [
    "Có một giá trị trong cột này bị thiếu."
   ]
  },
  {
   "cell_type": "code",
   "execution_count": 15,
   "metadata": {},
   "outputs": [
    {
     "data": {
      "text/html": [
       "<div>\n",
       "<style scoped>\n",
       "    .dataframe tbody tr th:only-of-type {\n",
       "        vertical-align: middle;\n",
       "    }\n",
       "\n",
       "    .dataframe tbody tr th {\n",
       "        vertical-align: top;\n",
       "    }\n",
       "\n",
       "    .dataframe thead th {\n",
       "        text-align: right;\n",
       "    }\n",
       "</style>\n",
       "<table border=\"1\" class=\"dataframe\">\n",
       "  <thead>\n",
       "    <tr style=\"text-align: right;\">\n",
       "      <th></th>\n",
       "      <th>Date</th>\n",
       "      <th>Address</th>\n",
       "      <th>District</th>\n",
       "      <th>Ward</th>\n",
       "      <th>Type</th>\n",
       "      <th>Legal</th>\n",
       "      <th>Number of floors</th>\n",
       "      <th>Number of bedrooms</th>\n",
       "      <th>Area</th>\n",
       "      <th>Length</th>\n",
       "      <th>Width</th>\n",
       "      <th>Price/m2</th>\n",
       "    </tr>\n",
       "  </thead>\n",
       "  <tbody>\n",
       "    <tr>\n",
       "      <th>81681</th>\n",
       "      <td>NaN</td>\n",
       "      <td>NaN</td>\n",
       "      <td>NaN</td>\n",
       "      <td>NaN</td>\n",
       "      <td>NaN</td>\n",
       "      <td>NaN</td>\n",
       "      <td>NaN</td>\n",
       "      <td>NaN</td>\n",
       "      <td>NaN</td>\n",
       "      <td>NaN</td>\n",
       "      <td>NaN</td>\n",
       "      <td>NaN</td>\n",
       "    </tr>\n",
       "  </tbody>\n",
       "</table>\n",
       "</div>"
      ],
      "text/plain": [
       "      Date Address District Ward Type Legal Number of floors  \\\n",
       "81681  NaN     NaN      NaN  NaN  NaN   NaN              NaN   \n",
       "\n",
       "      Number of bedrooms Area Length Width Price/m2  \n",
       "81681                NaN  NaN    NaN   NaN      NaN  "
      ]
     },
     "execution_count": 15,
     "metadata": {},
     "output_type": "execute_result"
    }
   ],
   "source": [
    "housing_df[housing_df.Date.isna()]"
   ]
  },
  {
   "cell_type": "code",
   "execution_count": 16,
   "metadata": {},
   "outputs": [
    {
     "data": {
      "text/plain": [
       "81681"
      ]
     },
     "execution_count": 16,
     "metadata": {},
     "output_type": "execute_result"
    }
   ],
   "source": [
    "housing_df.index.max()"
   ]
  },
  {
   "attachments": {},
   "cell_type": "markdown",
   "metadata": {},
   "source": [
    "Chỉ số `index` của dòng này bằng với số lượng dòng của Dataframe - 1<br>\n",
    "Nên đây là dòng cuối cùng của Dataframe. Và đây là dòng duy nhất bị full `NaN`"
   ]
  },
  {
   "attachments": {},
   "cell_type": "markdown",
   "metadata": {},
   "source": [
    "**Xóa dòng cuối cùng của Dataframe**"
   ]
  },
  {
   "cell_type": "code",
   "execution_count": 17,
   "metadata": {},
   "outputs": [],
   "source": [
    "housing_df = housing_df.iloc[:-1]"
   ]
  },
  {
   "attachments": {},
   "cell_type": "markdown",
   "metadata": {},
   "source": [
    "**Theo quan sát, cột `Date` chứa thông tin của các ngày, tuy nhiên kiểu dữ liệu của cột này là `object`. Nên cần thay đổi kiểu dữ liệu của cột này thành `datetime`.**"
   ]
  },
  {
   "cell_type": "code",
   "execution_count": 18,
   "metadata": {},
   "outputs": [],
   "source": [
    "housing_df.Date = pd.to_datetime(housing_df.Date, errors = 'coerce')"
   ]
  },
  {
   "cell_type": "code",
   "execution_count": 19,
   "metadata": {},
   "outputs": [
    {
     "data": {
      "image/png": "[encoded data removed]",
      "text/plain": [
       "<Figure size 1170x827 with 1 Axes>"
      ]
     },
     "metadata": {},
     "output_type": "display_data"
    }
   ],
   "source": [
    "nat_df = pd.Series({\n",
    "    \"num_NaT\": housing_df.Date.isnull().sum(),\n",
    "    \"num_nonNaT\": len(housing_df) -  housing_df.Date.isnull().sum()\n",
    "})\n",
    "\n",
    "fig, ax  = plt.subplots()\n",
    "fig.set_size_inches(a4size)\n",
    "\n",
    "nat_df.plot.bar(rot = 0, ax = ax)\n",
    "for i in ax.containers:\n",
    "    ax.bar_label(i,)\n",
    "plt.show()\n"
   ]
  },
  {
   "cell_type": "code",
   "execution_count": 20,
   "metadata": {},
   "outputs": [
    {
     "data": {
      "text/plain": [
       "Date                  datetime64[ns]\n",
       "Address                       object\n",
       "District                      object\n",
       "Ward                          object\n",
       "Type                          object\n",
       "Legal                         object\n",
       "Number of floors              object\n",
       "Number of bedrooms            object\n",
       "Area                          object\n",
       "Length                        object\n",
       "Width                         object\n",
       "Price/m2                      object\n",
       "dtype: object"
      ]
     },
     "execution_count": 20,
     "metadata": {},
     "output_type": "execute_result"
    }
   ],
   "source": [
    "housing_df.dtypes"
   ]
  },
  {
   "attachments": {},
   "cell_type": "markdown",
   "metadata": {},
   "source": [
    "Như vậy các giá trị của cột `Date` đều đã chuyển đổi thành công sang kiểu dữ liệu `datetime`  và không có dữ liệu nào là `NaT`"
   ]
  },
  {
   "attachments": {},
   "cell_type": "markdown",
   "metadata": {},
   "source": [
    "- **Address - District - Ward**<br>"
   ]
  },
  {
   "cell_type": "code",
   "execution_count": 21,
   "metadata": {},
   "outputs": [],
   "source": [
    "columns = [\"Address\", \"District\", \"Ward\"]"
   ]
  },
  {
   "cell_type": "code",
   "execution_count": 22,
   "metadata": {},
   "outputs": [],
   "source": [
    "address_df = housing_df[columns].copy()"
   ]
  },
  {
   "cell_type": "code",
   "execution_count": 23,
   "metadata": {},
   "outputs": [
    {
     "data": {
      "text/html": [
       "<div>\n",
       "<style scoped>\n",
       "    .dataframe tbody tr th:only-of-type {\n",
       "        vertical-align: middle;\n",
       "    }\n",
       "\n",
       "    .dataframe tbody tr th {\n",
       "        vertical-align: top;\n",
       "    }\n",
       "\n",
       "    .dataframe thead th {\n",
       "        text-align: right;\n",
       "    }\n",
       "</style>\n",
       "<table border=\"1\" class=\"dataframe\">\n",
       "  <thead>\n",
       "    <tr style=\"text-align: right;\">\n",
       "      <th></th>\n",
       "      <th>Address</th>\n",
       "      <th>District</th>\n",
       "      <th>Ward</th>\n",
       "    </tr>\n",
       "  </thead>\n",
       "  <tbody>\n",
       "    <tr>\n",
       "      <th>0</th>\n",
       "      <td>Đường Hoàng Quốc Việt, Phường Nghĩa Đô, Quận C...</td>\n",
       "      <td>Quận Cầu Giấy</td>\n",
       "      <td>Phường Nghĩa Đô</td>\n",
       "    </tr>\n",
       "    <tr>\n",
       "      <th>1</th>\n",
       "      <td>Đường Kim Giang, Phường Kim Giang, Quận Thanh ...</td>\n",
       "      <td>Quận Thanh Xuân</td>\n",
       "      <td>Phường Kim Giang</td>\n",
       "    </tr>\n",
       "    <tr>\n",
       "      <th>2</th>\n",
       "      <td>phố minh khai, Phường Minh Khai, Quận Hai Bà T...</td>\n",
       "      <td>Quận Hai Bà Trưng</td>\n",
       "      <td>Phường Minh Khai</td>\n",
       "    </tr>\n",
       "    <tr>\n",
       "      <th>3</th>\n",
       "      <td>Đường Võng Thị, Phường Thụy Khuê, Quận Tây Hồ,...</td>\n",
       "      <td>Quận Tây Hồ</td>\n",
       "      <td>Phường Thụy Khuê</td>\n",
       "    </tr>\n",
       "    <tr>\n",
       "      <th>4</th>\n",
       "      <td>Đường Kim Giang, Phường Kim Giang, Quận Thanh ...</td>\n",
       "      <td>Quận Thanh Xuân</td>\n",
       "      <td>Phường Kim Giang</td>\n",
       "    </tr>\n",
       "    <tr>\n",
       "      <th>...</th>\n",
       "      <td>...</td>\n",
       "      <td>...</td>\n",
       "      <td>...</td>\n",
       "    </tr>\n",
       "    <tr>\n",
       "      <th>81676</th>\n",
       "      <td>Đường Hồ Tùng Mậu, Phường Phúc Diễn, Quận Bắc ...</td>\n",
       "      <td>Quận Bắc Từ Liêm</td>\n",
       "      <td>Phường Phúc Diễn</td>\n",
       "    </tr>\n",
       "    <tr>\n",
       "      <th>81677</th>\n",
       "      <td>Đường Trần Quốc Hoàn, Phường Quan Hoa, Quận Cầ...</td>\n",
       "      <td>Quận Cầu Giấy</td>\n",
       "      <td>Phường Quan Hoa</td>\n",
       "    </tr>\n",
       "    <tr>\n",
       "      <th>81678</th>\n",
       "      <td>Đường Nguyễn Khánh Toàn, Phường Quan Hoa, Quận...</td>\n",
       "      <td>Quận Cầu Giấy</td>\n",
       "      <td>Phường Quan Hoa</td>\n",
       "    </tr>\n",
       "    <tr>\n",
       "      <th>81679</th>\n",
       "      <td>Đường Quan Hoa, Phường Quan Hoa, Quận Cầu Giấy...</td>\n",
       "      <td>Quận Cầu Giấy</td>\n",
       "      <td>Phường Quan Hoa</td>\n",
       "    </tr>\n",
       "    <tr>\n",
       "      <th>81680</th>\n",
       "      <td>Đường Hồ Tùng Mậu, Phường Mai Dịch, Quận Cầu G...</td>\n",
       "      <td>Quận Cầu Giấy</td>\n",
       "      <td>Phường Mai Dịch</td>\n",
       "    </tr>\n",
       "  </tbody>\n",
       "</table>\n",
       "<p>81681 rows × 3 columns</p>\n",
       "</div>"
      ],
      "text/plain": [
       "                                                 Address           District  \\\n",
       "0      Đường Hoàng Quốc Việt, Phường Nghĩa Đô, Quận C...      Quận Cầu Giấy   \n",
       "1      Đường Kim Giang, Phường Kim Giang, Quận Thanh ...    Quận Thanh Xuân   \n",
       "2      phố minh khai, Phường Minh Khai, Quận Hai Bà T...  Quận Hai Bà Trưng   \n",
       "3      Đường Võng Thị, Phường Thụy Khuê, Quận Tây Hồ,...        Quận Tây Hồ   \n",
       "4      Đường Kim Giang, Phường Kim Giang, Quận Thanh ...    Quận Thanh Xuân   \n",
       "...                                                  ...                ...   \n",
       "81676  Đường Hồ Tùng Mậu, Phường Phúc Diễn, Quận Bắc ...   Quận Bắc Từ Liêm   \n",
       "81677  Đường Trần Quốc Hoàn, Phường Quan Hoa, Quận Cầ...      Quận Cầu Giấy   \n",
       "81678  Đường Nguyễn Khánh Toàn, Phường Quan Hoa, Quận...      Quận Cầu Giấy   \n",
       "81679  Đường Quan Hoa, Phường Quan Hoa, Quận Cầu Giấy...      Quận Cầu Giấy   \n",
       "81680  Đường Hồ Tùng Mậu, Phường Mai Dịch, Quận Cầu G...      Quận Cầu Giấy   \n",
       "\n",
       "                   Ward  \n",
       "0       Phường Nghĩa Đô  \n",
       "1      Phường Kim Giang  \n",
       "2      Phường Minh Khai  \n",
       "3      Phường Thụy Khuê  \n",
       "4      Phường Kim Giang  \n",
       "...                 ...  \n",
       "81676  Phường Phúc Diễn  \n",
       "81677   Phường Quan Hoa  \n",
       "81678   Phường Quan Hoa  \n",
       "81679   Phường Quan Hoa  \n",
       "81680   Phường Mai Dịch  \n",
       "\n",
       "[81681 rows x 3 columns]"
      ]
     },
     "execution_count": 23,
     "metadata": {},
     "output_type": "execute_result"
    }
   ],
   "source": [
    "address_df"
   ]
  },
  {
   "cell_type": "code",
   "execution_count": 24,
   "metadata": {},
   "outputs": [
    {
     "data": {
      "text/plain": [
       "'Đường Kim Giang, Phường Kim Giang, Quận Thanh Xuân, Hà Nội'"
      ]
     },
     "execution_count": 24,
     "metadata": {},
     "output_type": "execute_result"
    }
   ],
   "source": [
    "housing_df.Address.iloc[1]"
   ]
  },
  {
   "cell_type": "code",
   "execution_count": 25,
   "metadata": {},
   "outputs": [
    {
     "name": "stderr",
     "output_type": "stream",
     "text": [
      "/var/folders/gg/4_1r0r1n6nn2sslng47v_j180000gn/T/ipykernel_2447/1704001112.py:2: FutureWarning: Passing a negative integer is deprecated in version 1.0 and will not be supported in future version. Instead, use None to not limit the column width.\n",
      "  pd.set_option('max_colwidth', -1)\n"
     ]
    }
   ],
   "source": [
    "# adr_test = housing_df.Address.apply(lambda x: x.str.split(\", \", expand = False) if isinstance(x, str) else [x,x,x,x])\n",
    "pd.set_option('max_colwidth', -1)\n",
    "adr_test = housing_df.Address.str.split(', ').apply(lambda x: [x,x,x,x] if isinstance(x, float) else x).to_frame()"
   ]
  },
  {
   "cell_type": "code",
   "execution_count": 26,
   "metadata": {},
   "outputs": [
    {
     "data": {
      "text/html": [
       "<div>\n",
       "<style scoped>\n",
       "    .dataframe tbody tr th:only-of-type {\n",
       "        vertical-align: middle;\n",
       "    }\n",
       "\n",
       "    .dataframe tbody tr th {\n",
       "        vertical-align: top;\n",
       "    }\n",
       "\n",
       "    .dataframe thead th {\n",
       "        text-align: right;\n",
       "    }\n",
       "</style>\n",
       "<table border=\"1\" class=\"dataframe\">\n",
       "  <thead>\n",
       "    <tr style=\"text-align: right;\">\n",
       "      <th></th>\n",
       "      <th>Address</th>\n",
       "      <th>len</th>\n",
       "    </tr>\n",
       "  </thead>\n",
       "  <tbody>\n",
       "    <tr>\n",
       "      <th>0</th>\n",
       "      <td>[Đường Hoàng Quốc Việt, Phường Nghĩa Đô, Quận Cầu Giấy, Hà Nội]</td>\n",
       "      <td>4</td>\n",
       "    </tr>\n",
       "    <tr>\n",
       "      <th>1</th>\n",
       "      <td>[Đường Kim Giang, Phường Kim Giang, Quận Thanh Xuân, Hà Nội]</td>\n",
       "      <td>4</td>\n",
       "    </tr>\n",
       "    <tr>\n",
       "      <th>2</th>\n",
       "      <td>[phố minh khai, Phường Minh Khai, Quận Hai Bà Trưng, Hà Nội]</td>\n",
       "      <td>4</td>\n",
       "    </tr>\n",
       "    <tr>\n",
       "      <th>3</th>\n",
       "      <td>[Đường Võng Thị, Phường Thụy Khuê, Quận Tây Hồ, Hà Nội]</td>\n",
       "      <td>4</td>\n",
       "    </tr>\n",
       "    <tr>\n",
       "      <th>4</th>\n",
       "      <td>[Đường Kim Giang, Phường Kim Giang, Quận Thanh Xuân, Hà Nội]</td>\n",
       "      <td>4</td>\n",
       "    </tr>\n",
       "    <tr>\n",
       "      <th>...</th>\n",
       "      <td>...</td>\n",
       "      <td>...</td>\n",
       "    </tr>\n",
       "    <tr>\n",
       "      <th>81676</th>\n",
       "      <td>[Đường Hồ Tùng Mậu, Phường Phúc Diễn, Quận Bắc Từ Liêm, Hà Nội]</td>\n",
       "      <td>4</td>\n",
       "    </tr>\n",
       "    <tr>\n",
       "      <th>81677</th>\n",
       "      <td>[Đường Trần Quốc Hoàn, Phường Quan Hoa, Quận Cầu Giấy, Hà Nội]</td>\n",
       "      <td>4</td>\n",
       "    </tr>\n",
       "    <tr>\n",
       "      <th>81678</th>\n",
       "      <td>[Đường Nguyễn Khánh Toàn, Phường Quan Hoa, Quận Cầu Giấy, Hà Nội]</td>\n",
       "      <td>4</td>\n",
       "    </tr>\n",
       "    <tr>\n",
       "      <th>81679</th>\n",
       "      <td>[Đường Quan Hoa, Phường Quan Hoa, Quận Cầu Giấy, Hà Nội]</td>\n",
       "      <td>4</td>\n",
       "    </tr>\n",
       "    <tr>\n",
       "      <th>81680</th>\n",
       "      <td>[Đường Hồ Tùng Mậu, Phường Mai Dịch, Quận Cầu Giấy, Hà Nội]</td>\n",
       "      <td>4</td>\n",
       "    </tr>\n",
       "  </tbody>\n",
       "</table>\n",
       "<p>81681 rows × 2 columns</p>\n",
       "</div>"
      ],
      "text/plain": [
       "                                                                 Address  len\n",
       "0      [Đường Hoàng Quốc Việt, Phường Nghĩa Đô, Quận Cầu Giấy, Hà Nội]    4  \n",
       "1      [Đường Kim Giang, Phường Kim Giang, Quận Thanh Xuân, Hà Nội]       4  \n",
       "2      [phố minh khai, Phường Minh Khai, Quận Hai Bà Trưng, Hà Nội]       4  \n",
       "3      [Đường Võng Thị, Phường Thụy Khuê, Quận Tây Hồ, Hà Nội]            4  \n",
       "4      [Đường Kim Giang, Phường Kim Giang, Quận Thanh Xuân, Hà Nội]       4  \n",
       "...                                                             ...      ..  \n",
       "81676  [Đường Hồ Tùng Mậu, Phường Phúc Diễn, Quận Bắc Từ Liêm, Hà Nội]    4  \n",
       "81677  [Đường Trần Quốc Hoàn, Phường Quan Hoa, Quận Cầu Giấy, Hà Nội]     4  \n",
       "81678  [Đường Nguyễn Khánh Toàn, Phường Quan Hoa, Quận Cầu Giấy, Hà Nội]  4  \n",
       "81679  [Đường Quan Hoa, Phường Quan Hoa, Quận Cầu Giấy, Hà Nội]           4  \n",
       "81680  [Đường Hồ Tùng Mậu, Phường Mai Dịch, Quận Cầu Giấy, Hà Nội]        4  \n",
       "\n",
       "[81681 rows x 2 columns]"
      ]
     },
     "execution_count": 26,
     "metadata": {},
     "output_type": "execute_result"
    }
   ],
   "source": [
    "adr_test[\"len\"] = adr_test[\"Address\"].apply(lambda x: len(x))\n",
    "adr_test"
   ]
  },
  {
   "cell_type": "code",
   "execution_count": 27,
   "metadata": {},
   "outputs": [
    {
     "data": {
      "text/plain": [
       "array([4, 5, 1, 3, 6, 7, 8, 9, 2])"
      ]
     },
     "execution_count": 27,
     "metadata": {},
     "output_type": "execute_result"
    }
   ],
   "source": [
    "adr_test[\"len\"].unique()"
   ]
  },
  {
   "cell_type": "code",
   "execution_count": 28,
   "metadata": {},
   "outputs": [
    {
     "data": {
      "text/html": [
       "<div>\n",
       "<style scoped>\n",
       "    .dataframe tbody tr th:only-of-type {\n",
       "        vertical-align: middle;\n",
       "    }\n",
       "\n",
       "    .dataframe tbody tr th {\n",
       "        vertical-align: top;\n",
       "    }\n",
       "\n",
       "    .dataframe thead th {\n",
       "        text-align: right;\n",
       "    }\n",
       "</style>\n",
       "<table border=\"1\" class=\"dataframe\">\n",
       "  <thead>\n",
       "    <tr style=\"text-align: right;\">\n",
       "      <th></th>\n",
       "      <th>Address</th>\n",
       "      <th>len</th>\n",
       "    </tr>\n",
       "  </thead>\n",
       "  <tbody>\n",
       "    <tr>\n",
       "      <th>29</th>\n",
       "      <td>[180/61/5, Đường Tây Mỗ, Phường Tây Mỗ, Quận Nam Từ Liêm, Hà Nội]</td>\n",
       "      <td>5</td>\n",
       "    </tr>\n",
       "    <tr>\n",
       "      <th>42</th>\n",
       "      <td>[Ngách 6A, Đường Tả Thanh Oai, Xã Tả Thanh Oai, Huyện Thanh Trì, Hà Nội]</td>\n",
       "      <td>5</td>\n",
       "    </tr>\n",
       "    <tr>\n",
       "      <th>44</th>\n",
       "      <td>[4, Đường Kim Giang, Phường Đại Kim, Quận Hoàng Mai, Hà Nội]</td>\n",
       "      <td>5</td>\n",
       "    </tr>\n",
       "    <tr>\n",
       "      <th>50</th>\n",
       "      <td>[88, Đường Phạm Văn Đồng, Phường Cổ Nhuế 1, Quận Bắc Từ Liêm, Hà Nội]</td>\n",
       "      <td>5</td>\n",
       "    </tr>\n",
       "    <tr>\n",
       "      <th>82</th>\n",
       "      <td>[1, Đường Nguyễn Khánh Toàn, Phường Quan Hoa, Quận Cầu Giấy, Hà Nội]</td>\n",
       "      <td>5</td>\n",
       "    </tr>\n",
       "    <tr>\n",
       "      <th>...</th>\n",
       "      <td>...</td>\n",
       "      <td>...</td>\n",
       "    </tr>\n",
       "    <tr>\n",
       "      <th>81530</th>\n",
       "      <td>[285, Đường Đội Cấn, Phường Đội Cấn, Quận Ba Đình, Hà Nội]</td>\n",
       "      <td>5</td>\n",
       "    </tr>\n",
       "    <tr>\n",
       "      <th>81535</th>\n",
       "      <td>[25, 25 Đường Vũ Ngọc Phan, Phường Láng Hạ, Quận Đống Đa, Hà Nội]</td>\n",
       "      <td>5</td>\n",
       "    </tr>\n",
       "    <tr>\n",
       "      <th>81586</th>\n",
       "      <td>[Đường Lê Trọng Tấn Hoài Đức, Hà Nội, Xã Vân Canh, Huyện Hoài Đức, Hà Nội]</td>\n",
       "      <td>5</td>\n",
       "    </tr>\n",
       "    <tr>\n",
       "      <th>81607</th>\n",
       "      <td>[Đường Lạc Long Quân Tây Hồ, Hà Nội, Phường Phú Thượng, Quận Tây Hồ, Hà Nội]</td>\n",
       "      <td>5</td>\n",
       "    </tr>\n",
       "    <tr>\n",
       "      <th>81621</th>\n",
       "      <td>[Số 7 Đường Đại lộ Thăng Long Nam Từ Liêm, Hà Nội, Phường Mễ Trì, Quận Nam Từ Liêm, Hà Nội]</td>\n",
       "      <td>5</td>\n",
       "    </tr>\n",
       "  </tbody>\n",
       "</table>\n",
       "<p>4789 rows × 2 columns</p>\n",
       "</div>"
      ],
      "text/plain": [
       "                                                                                           Address  \\\n",
       "29     [180/61/5, Đường Tây Mỗ, Phường Tây Mỗ, Quận Nam Từ Liêm, Hà Nội]                             \n",
       "42     [Ngách 6A, Đường Tả Thanh Oai, Xã Tả Thanh Oai, Huyện Thanh Trì, Hà Nội]                      \n",
       "44     [4, Đường Kim Giang, Phường Đại Kim, Quận Hoàng Mai, Hà Nội]                                  \n",
       "50     [88, Đường Phạm Văn Đồng, Phường Cổ Nhuế 1, Quận Bắc Từ Liêm, Hà Nội]                         \n",
       "82     [1, Đường Nguyễn Khánh Toàn, Phường Quan Hoa, Quận Cầu Giấy, Hà Nội]                          \n",
       "...                                                                     ...                          \n",
       "81530  [285, Đường Đội Cấn, Phường Đội Cấn, Quận Ba Đình, Hà Nội]                                    \n",
       "81535  [25, 25 Đường Vũ Ngọc Phan, Phường Láng Hạ, Quận Đống Đa, Hà Nội]                             \n",
       "81586  [Đường Lê Trọng Tấn Hoài Đức, Hà Nội, Xã Vân Canh, Huyện Hoài Đức, Hà Nội]                    \n",
       "81607  [Đường Lạc Long Quân Tây Hồ, Hà Nội, Phường Phú Thượng, Quận Tây Hồ, Hà Nội]                  \n",
       "81621  [Số 7 Đường Đại lộ Thăng Long Nam Từ Liêm, Hà Nội, Phường Mễ Trì, Quận Nam Từ Liêm, Hà Nội]   \n",
       "\n",
       "       len  \n",
       "29     5    \n",
       "42     5    \n",
       "44     5    \n",
       "50     5    \n",
       "82     5    \n",
       "...   ..    \n",
       "81530  5    \n",
       "81535  5    \n",
       "81586  5    \n",
       "81607  5    \n",
       "81621  5    \n",
       "\n",
       "[4789 rows x 2 columns]"
      ]
     },
     "execution_count": 28,
     "metadata": {},
     "output_type": "execute_result"
    }
   ],
   "source": [
    "adr_test[adr_test[\"len\"]==5]"
   ]
  },
  {
   "attachments": {},
   "cell_type": "markdown",
   "metadata": {},
   "source": [
    "Có rất nhiều địa chỉ trong chỗ địa chỉ nhà ngoài trừ số nhà còn có tên đường tọa lạc. Giá trị này sẽ được xử lí nếu có sử dụng trong phần `ĐẶT CÂU HỎI`"
   ]
  },
  {
   "attachments": {},
   "cell_type": "markdown",
   "metadata": {},
   "source": [
    "- **Type (Loại nhà)**"
   ]
  },
  {
   "cell_type": "code",
   "execution_count": 29,
   "metadata": {},
   "outputs": [],
   "source": [
    "type_df = housing_df[\"Type\"].copy()"
   ]
  },
  {
   "cell_type": "code",
   "execution_count": 30,
   "metadata": {},
   "outputs": [],
   "source": [
    "num_type_df = type_df.value_counts().to_frame()"
   ]
  },
  {
   "cell_type": "code",
   "execution_count": 31,
   "metadata": {},
   "outputs": [],
   "source": [
    "labels = num_type_df.index.tolist()\n",
    "colors = sns.color_palette('bright')\n",
    "explode = np.zeros(len(labels)) + 0.02\n",
    "explode[labels.index(max(labels))] = 0.03"
   ]
  },
  {
   "cell_type": "code",
   "execution_count": 32,
   "metadata": {},
   "outputs": [
    {
     "data": {
      "image/png": "[encoded data removed]",
      "text/plain": [
       "<Figure size 2340x1650 with 2 Axes>"
      ]
     },
     "metadata": {},
     "output_type": "display_data"
    }
   ],
   "source": [
    "fig, ax = plt.subplots(2,1)\n",
    "fig.set_size_inches(a2size_ls)\n",
    "\n",
    "ax[1].pie(\n",
    "    num_type_df.Type,\n",
    "    labels = labels,\n",
    "    colors = colors,\n",
    "    autopct = '%0.0f%%',\n",
    "    explode = explode,\n",
    "    # shadow= True,\n",
    "    # startangle = 90,\n",
    "    textprops = {'color': 'Black','fontsize':16},\n",
    "    wedgeprops = {'linewidth': 10},\n",
    "    rotatelabels = 'true',\n",
    ")\n",
    "ax[1].set_title(\"Biểu đồ thể hiện tỉ lệ số lượng của loại nhà\", fontsize = 30)\n",
    "\n",
    "num_type_df.plot.bar(ax = ax[0], rot= 0)\n",
    "for i in ax[0].containers:\n",
    "    ax[0].bar_label(i,)\n",
    "ax[0].set_xlabel(\"Loại nhà\", fontsize = 20)\n",
    "ax[0].set_ylabel(\"Số Lượng\", fontsize = 20)\n",
    "ax[0].set_title(\"Biểu đồ cột thể hiện số lượng của loại nhà\", fontsize = 30)\n",
    "\n",
    "plt.tight_layout(pad = 5.0)\n",
    "plt.show()"
   ]
  },
  {
   "attachments": {},
   "cell_type": "markdown",
   "metadata": {},
   "source": [
    "Số lượng `Nhà ngõ, hẻm` có nhiều nhất, chiếm đến 76% dữ liệu (không tính các giá trị `NaN`). Tuy Số lượng `NaN` rất ít nhưng vẫn có thể làm thay đổi các giá trị bên trên."
   ]
  },
  {
   "attachments": {},
   "cell_type": "markdown",
   "metadata": {},
   "source": [
    "- **Legal**"
   ]
  },
  {
   "cell_type": "code",
   "execution_count": 33,
   "metadata": {},
   "outputs": [
    {
     "data": {
      "text/plain": [
       "0    Đã có sổ\n",
       "1    NaN     \n",
       "2    Đã có sổ\n",
       "3    Đã có sổ\n",
       "4    NaN     \n",
       "Name: Legal, dtype: object"
      ]
     },
     "execution_count": 33,
     "metadata": {},
     "output_type": "execute_result"
    }
   ],
   "source": [
    "legal_df = housing_df.Legal.copy()\n",
    "legal_df.head()"
   ]
  },
  {
   "cell_type": "code",
   "execution_count": 34,
   "metadata": {},
   "outputs": [
    {
     "data": {
      "text/plain": [
       "array(['Đã có sổ', nan, 'Đang chờ sổ', 'Giấy tờ khác'], dtype=object)"
      ]
     },
     "execution_count": 34,
     "metadata": {},
     "output_type": "execute_result"
    }
   ],
   "source": [
    "legal_df.unique()"
   ]
  },
  {
   "attachments": {},
   "cell_type": "markdown",
   "metadata": {},
   "source": [
    "Giá trị `NaN` trong cột này không biết mang ý nghĩa gì, vì thông tin trong Dataset không đề cập tới, cũng không có thông tin cách thu thập. Nên giá trị `NaN` này sẽ được hiểu dưới ý nghĩa là `Không có thông tin`."
   ]
  },
  {
   "cell_type": "code",
   "execution_count": 35,
   "metadata": {},
   "outputs": [],
   "source": [
    "num_legal_df = legal_df.value_counts().to_frame()"
   ]
  },
  {
   "cell_type": "code",
   "execution_count": 36,
   "metadata": {},
   "outputs": [],
   "source": [
    "labels = num_legal_df.index.tolist()\n",
    "colors = sns.color_palette('bright')\n",
    "explode = np.zeros(len(labels)) + 0.02\n",
    "explode[labels.index(max(labels))] = 0.0"
   ]
  },
  {
   "cell_type": "code",
   "execution_count": 37,
   "metadata": {},
   "outputs": [
    {
     "data": {
      "image/png": "[encoded data removed]",
      "text/plain": [
       "<Figure size 1170x827 with 1 Axes>"
      ]
     },
     "metadata": {},
     "output_type": "display_data"
    }
   ],
   "source": [
    "fig, ax = plt.subplots()\n",
    "fig.set_size_inches(a4size)\n",
    "\n",
    "num_legal_df.plot.bar(ax = ax, rot= 0)\n",
    "for i in ax.containers:\n",
    "    ax.bar_label(i,)\n",
    "ax.set_xlabel(\"Loại nhà\", fontsize = 20)\n",
    "ax.set_ylabel(\"Số Lượng\", fontsize = 20)\n",
    "ax.set_title(\"Biểu đồ cột thể hiện số lượng của hiện trạng giấy tờ pháp lý\", fontsize = 30)\n",
    "\n",
    "plt.tight_layout(pad = 5.0)\n",
    "plt.show()"
   ]
  },
  {
   "attachments": {},
   "cell_type": "markdown",
   "metadata": {},
   "source": [
    "- **Number of bedrooms**"
   ]
  },
  {
   "cell_type": "code",
   "execution_count": 38,
   "metadata": {},
   "outputs": [
    {
     "data": {
      "text/plain": [
       "array(['5 phòng', '3 phòng', '4 phòng', '6 phòng', 'nhiều hơn 10 phòng',\n",
       "       '8 phòng', '2 phòng', '7 phòng', '9 phòng', '1 phòng', '10 phòng',\n",
       "       nan], dtype=object)"
      ]
     },
     "execution_count": 38,
     "metadata": {},
     "output_type": "execute_result"
    }
   ],
   "source": [
    "housing_df[\"Number of bedrooms\"].unique()"
   ]
  },
  {
   "cell_type": "code",
   "execution_count": 39,
   "metadata": {},
   "outputs": [
    {
     "data": {
      "text/plain": [
       "5        nhiều hơn 10 phòng\n",
       "17       nhiều hơn 10 phòng\n",
       "56       nhiều hơn 10 phòng\n",
       "170      nhiều hơn 10 phòng\n",
       "284      nhiều hơn 10 phòng\n",
       "                ...        \n",
       "81489    nhiều hơn 10 phòng\n",
       "81541    nhiều hơn 10 phòng\n",
       "81593    nhiều hơn 10 phòng\n",
       "81626    nhiều hơn 10 phòng\n",
       "81641    nhiều hơn 10 phòng\n",
       "Name: Number of bedrooms, Length: 865, dtype: object"
      ]
     },
     "execution_count": 39,
     "metadata": {},
     "output_type": "execute_result"
    }
   ],
   "source": [
    "housing_df[\"Number of bedrooms\"][housing_df[\"Number of bedrooms\"] == 'nhiều hơn 10 phòng']"
   ]
  },
  {
   "attachments": {},
   "cell_type": "markdown",
   "metadata": {},
   "source": [
    "Các giá trị bên trong cột `Number of bedrooms` được định dạng `<Số phòng>` + ` 'phòng'` <br>\n",
    "Ta đưa cột này trở về dạng số để dễ cho học máy hoặc trực quan hóa dữ liệu (nếu có)<br>\n",
    "\n",
    "Trong dữ liệu có một giá trị `nhiều hơn 10 phòng` sẽ được định dạng là số `11`"
   ]
  },
  {
   "attachments": {},
   "cell_type": "markdown",
   "metadata": {},
   "source": [
    "**Thay đổi các giá trị cột `Number of bedrooms` theo định dạng trên.**"
   ]
  },
  {
   "cell_type": "code",
   "execution_count": 40,
   "metadata": {},
   "outputs": [],
   "source": [
    "def change_number_bedrooms(value):\n",
    "    if isinstance(value, str):\n",
    "        first = value.split(\" \")[0]\n",
    "        if first.isnumeric():\n",
    "            return int(first)\n",
    "        else:\n",
    "            return 11\n",
    "    else:\n",
    "        return value"
   ]
  },
  {
   "attachments": {},
   "cell_type": "markdown",
   "metadata": {},
   "source": [
    "Test hàm"
   ]
  },
  {
   "cell_type": "code",
   "execution_count": 41,
   "metadata": {},
   "outputs": [],
   "source": [
    "assert change_number_bedrooms(\"10 phòng\") == 10\n",
    "assert change_number_bedrooms(\"nhiều hơn 10 phòng\") == 11"
   ]
  },
  {
   "attachments": {},
   "cell_type": "markdown",
   "metadata": {},
   "source": [
    "**Thay đổi giá trị cột `number of bedrooms` trong Dataframe chính - `housing_df`**"
   ]
  },
  {
   "cell_type": "code",
   "execution_count": 42,
   "metadata": {},
   "outputs": [],
   "source": [
    "housing_df[\"Number of bedrooms\"] = housing_df[\"Number of bedrooms\"].apply(change_number_bedrooms)"
   ]
  },
  {
   "attachments": {},
   "cell_type": "markdown",
   "metadata": {},
   "source": [
    "- **Number of floors**"
   ]
  },
  {
   "cell_type": "code",
   "execution_count": 43,
   "metadata": {},
   "outputs": [],
   "source": [
    "numF_df = housing_df[\"Number of floors\"]"
   ]
  },
  {
   "cell_type": "code",
   "execution_count": 44,
   "metadata": {},
   "outputs": [
    {
     "data": {
      "text/plain": [
       "array(['4', nan, '6', '5', '7', '2', '3', '8', '1', '9', '50', '38', '35',\n",
       "       '10', 'Nhiều hơn 10', '45', '33', '42', '25', '73', '12', '65',\n",
       "       '55', '30', '14', '40', '52', '54', '32', '29'], dtype=object)"
      ]
     },
     "execution_count": 44,
     "metadata": {},
     "output_type": "execute_result"
    }
   ],
   "source": [
    "numF_df.unique()"
   ]
  },
  {
   "attachments": {},
   "cell_type": "markdown",
   "metadata": {},
   "source": [
    "Tại sao có nhà `73, 65, ...` tầng, nhưng lại có nhà `Nhiều hơn 10 tầng` ??? "
   ]
  },
  {
   "cell_type": "code",
   "execution_count": 45,
   "metadata": {},
   "outputs": [],
   "source": [
    "morethan10F = [ '45', '33', '42', '25', '73', '12', '65', '55', '30', '14', '40', '52', '54', '32', '29', '50', '38', '35']"
   ]
  },
  {
   "cell_type": "code",
   "execution_count": 46,
   "metadata": {},
   "outputs": [
    {
     "data": {
      "text/html": [
       "<div>\n",
       "<style scoped>\n",
       "    .dataframe tbody tr th:only-of-type {\n",
       "        vertical-align: middle;\n",
       "    }\n",
       "\n",
       "    .dataframe tbody tr th {\n",
       "        vertical-align: top;\n",
       "    }\n",
       "\n",
       "    .dataframe thead th {\n",
       "        text-align: right;\n",
       "    }\n",
       "</style>\n",
       "<table border=\"1\" class=\"dataframe\">\n",
       "  <thead>\n",
       "    <tr style=\"text-align: right;\">\n",
       "      <th></th>\n",
       "      <th>Date</th>\n",
       "      <th>Address</th>\n",
       "      <th>District</th>\n",
       "      <th>Ward</th>\n",
       "      <th>Type</th>\n",
       "      <th>Legal</th>\n",
       "      <th>Number of floors</th>\n",
       "      <th>Number of bedrooms</th>\n",
       "      <th>Area</th>\n",
       "      <th>Length</th>\n",
       "      <th>Width</th>\n",
       "      <th>Price/m2</th>\n",
       "    </tr>\n",
       "  </thead>\n",
       "  <tbody>\n",
       "    <tr>\n",
       "      <th>4717</th>\n",
       "      <td>2020-08-02</td>\n",
       "      <td>Đường Lê Đức Thọ, Phường Mỹ Đình 1, Quận Nam Từ Liêm, Hà Nội</td>\n",
       "      <td>Quận Nam Từ Liêm</td>\n",
       "      <td>Phường Mỹ Đình 1</td>\n",
       "      <td>Nhà mặt phố, mặt tiền</td>\n",
       "      <td>Đã có sổ</td>\n",
       "      <td>Nhiều hơn 10</td>\n",
       "      <td>9.0</td>\n",
       "      <td>146 m²</td>\n",
       "      <td>18 m</td>\n",
       "      <td>8.2 m</td>\n",
       "      <td>421,92 triệu/m²</td>\n",
       "    </tr>\n",
       "    <tr>\n",
       "      <th>38211</th>\n",
       "      <td>2020-07-11</td>\n",
       "      <td>Phố Dương Khuê, Phường Mai Dịch, Quận Cầu Giấy, Hà Nội</td>\n",
       "      <td>Quận Cầu Giấy</td>\n",
       "      <td>Phường Mai Dịch</td>\n",
       "      <td>Nhà mặt phố, mặt tiền</td>\n",
       "      <td>Đã có sổ</td>\n",
       "      <td>Nhiều hơn 10</td>\n",
       "      <td>11.0</td>\n",
       "      <td>60 m²</td>\n",
       "      <td>NaN</td>\n",
       "      <td>NaN</td>\n",
       "      <td>240 triệu/m²</td>\n",
       "    </tr>\n",
       "    <tr>\n",
       "      <th>63229</th>\n",
       "      <td>2020-06-21</td>\n",
       "      <td>Đường Hàng Bài, Phường Hàng Bài, Quận Hoàn Kiếm, Hà Nội</td>\n",
       "      <td>Quận Hoàn Kiếm</td>\n",
       "      <td>Phường Hàng Bài</td>\n",
       "      <td>Nhà mặt phố, mặt tiền</td>\n",
       "      <td>Đã có sổ</td>\n",
       "      <td>Nhiều hơn 10</td>\n",
       "      <td>11.0</td>\n",
       "      <td>399 m²</td>\n",
       "      <td>39 m</td>\n",
       "      <td>10 m</td>\n",
       "      <td>601,5 triệu/m²</td>\n",
       "    </tr>\n",
       "    <tr>\n",
       "      <th>67837</th>\n",
       "      <td>2020-06-17</td>\n",
       "      <td>Đường Bưởi, Phường Vĩnh Phúc, Quận Ba Đình, Hà Nội</td>\n",
       "      <td>Quận Ba Đình</td>\n",
       "      <td>Phường Vĩnh Phúc</td>\n",
       "      <td>Nhà mặt phố, mặt tiền</td>\n",
       "      <td>Đã có sổ</td>\n",
       "      <td>Nhiều hơn 10</td>\n",
       "      <td>11.0</td>\n",
       "      <td>600 m²</td>\n",
       "      <td>NaN</td>\n",
       "      <td>NaN</td>\n",
       "      <td>400 triệu/m²</td>\n",
       "    </tr>\n",
       "    <tr>\n",
       "      <th>70365</th>\n",
       "      <td>2020-06-16</td>\n",
       "      <td>Đường Trấn Vũ, Phường Trúc Bạch, Quận Ba Đình, Hà Nội</td>\n",
       "      <td>Quận Ba Đình</td>\n",
       "      <td>Phường Trúc Bạch</td>\n",
       "      <td>Nhà mặt phố, mặt tiền</td>\n",
       "      <td>Đã có sổ</td>\n",
       "      <td>Nhiều hơn 10</td>\n",
       "      <td>11.0</td>\n",
       "      <td>211 m²</td>\n",
       "      <td>26 m</td>\n",
       "      <td>8 m</td>\n",
       "      <td>417,06 triệu/m²</td>\n",
       "    </tr>\n",
       "    <tr>\n",
       "      <th>78499</th>\n",
       "      <td>2020-06-08</td>\n",
       "      <td>Đường Dương Khuê, Phường Mai Dịch, Quận Cầu Giấy, Hà Nội</td>\n",
       "      <td>Quận Cầu Giấy</td>\n",
       "      <td>Phường Mai Dịch</td>\n",
       "      <td>Nhà mặt phố, mặt tiền</td>\n",
       "      <td>Đã có sổ</td>\n",
       "      <td>Nhiều hơn 10</td>\n",
       "      <td>11.0</td>\n",
       "      <td>60 m²</td>\n",
       "      <td>NaN</td>\n",
       "      <td>NaN</td>\n",
       "      <td>283,33 triệu/m²</td>\n",
       "    </tr>\n",
       "    <tr>\n",
       "      <th>81046</th>\n",
       "      <td>2020-06-06</td>\n",
       "      <td>Đường Cầu Giấy, Phường Quan Hoa, Quận Cầu Giấy, Hà Nội</td>\n",
       "      <td>Quận Cầu Giấy</td>\n",
       "      <td>Phường Quan Hoa</td>\n",
       "      <td>Nhà mặt phố, mặt tiền</td>\n",
       "      <td>Đã có sổ</td>\n",
       "      <td>Nhiều hơn 10</td>\n",
       "      <td>11.0</td>\n",
       "      <td>179 m²</td>\n",
       "      <td>NaN</td>\n",
       "      <td>9 m</td>\n",
       "      <td>256,98 triệu/m²</td>\n",
       "    </tr>\n",
       "  </tbody>\n",
       "</table>\n",
       "</div>"
      ],
      "text/plain": [
       "            Date  \\\n",
       "4717  2020-08-02   \n",
       "38211 2020-07-11   \n",
       "63229 2020-06-21   \n",
       "67837 2020-06-17   \n",
       "70365 2020-06-16   \n",
       "78499 2020-06-08   \n",
       "81046 2020-06-06   \n",
       "\n",
       "                                                            Address  \\\n",
       "4717   Đường Lê Đức Thọ, Phường Mỹ Đình 1, Quận Nam Từ Liêm, Hà Nội   \n",
       "38211  Phố Dương Khuê, Phường Mai Dịch, Quận Cầu Giấy, Hà Nội         \n",
       "63229  Đường Hàng Bài, Phường Hàng Bài, Quận Hoàn Kiếm, Hà Nội        \n",
       "67837  Đường Bưởi, Phường Vĩnh Phúc, Quận Ba Đình, Hà Nội             \n",
       "70365  Đường Trấn Vũ, Phường Trúc Bạch, Quận Ba Đình, Hà Nội          \n",
       "78499  Đường Dương Khuê, Phường Mai Dịch, Quận Cầu Giấy, Hà Nội       \n",
       "81046  Đường Cầu Giấy, Phường Quan Hoa, Quận Cầu Giấy, Hà Nội         \n",
       "\n",
       "               District              Ward                   Type     Legal  \\\n",
       "4717   Quận Nam Từ Liêm  Phường Mỹ Đình 1  Nhà mặt phố, mặt tiền  Đã có sổ   \n",
       "38211  Quận Cầu Giấy     Phường Mai Dịch   Nhà mặt phố, mặt tiền  Đã có sổ   \n",
       "63229  Quận Hoàn Kiếm    Phường Hàng Bài   Nhà mặt phố, mặt tiền  Đã có sổ   \n",
       "67837  Quận Ba Đình      Phường Vĩnh Phúc  Nhà mặt phố, mặt tiền  Đã có sổ   \n",
       "70365  Quận Ba Đình      Phường Trúc Bạch  Nhà mặt phố, mặt tiền  Đã có sổ   \n",
       "78499  Quận Cầu Giấy     Phường Mai Dịch   Nhà mặt phố, mặt tiền  Đã có sổ   \n",
       "81046  Quận Cầu Giấy     Phường Quan Hoa   Nhà mặt phố, mặt tiền  Đã có sổ   \n",
       "\n",
       "      Number of floors  Number of bedrooms    Area Length  Width  \\\n",
       "4717   Nhiều hơn 10     9.0                 146 m²  18 m   8.2 m   \n",
       "38211  Nhiều hơn 10     11.0                60 m²   NaN    NaN     \n",
       "63229  Nhiều hơn 10     11.0                399 m²  39 m   10 m    \n",
       "67837  Nhiều hơn 10     11.0                600 m²  NaN    NaN     \n",
       "70365  Nhiều hơn 10     11.0                211 m²  26 m   8 m     \n",
       "78499  Nhiều hơn 10     11.0                60 m²   NaN    NaN     \n",
       "81046  Nhiều hơn 10     11.0                179 m²  NaN    9 m     \n",
       "\n",
       "              Price/m2  \n",
       "4717   421,92 triệu/m²  \n",
       "38211  240 triệu/m²     \n",
       "63229  601,5 triệu/m²   \n",
       "67837  400 triệu/m²     \n",
       "70365  417,06 triệu/m²  \n",
       "78499  283,33 triệu/m²  \n",
       "81046  256,98 triệu/m²  "
      ]
     },
     "execution_count": 46,
     "metadata": {},
     "output_type": "execute_result"
    }
   ],
   "source": [
    "housing_df[housing_df[\"Number of floors\"] == \"Nhiều hơn 10\"]"
   ]
  },
  {
   "cell_type": "code",
   "execution_count": 47,
   "metadata": {},
   "outputs": [
    {
     "data": {
      "text/html": [
       "<div>\n",
       "<style scoped>\n",
       "    .dataframe tbody tr th:only-of-type {\n",
       "        vertical-align: middle;\n",
       "    }\n",
       "\n",
       "    .dataframe tbody tr th {\n",
       "        vertical-align: top;\n",
       "    }\n",
       "\n",
       "    .dataframe thead th {\n",
       "        text-align: right;\n",
       "    }\n",
       "</style>\n",
       "<table border=\"1\" class=\"dataframe\">\n",
       "  <thead>\n",
       "    <tr style=\"text-align: right;\">\n",
       "      <th></th>\n",
       "      <th>Date</th>\n",
       "      <th>Address</th>\n",
       "      <th>District</th>\n",
       "      <th>Ward</th>\n",
       "      <th>Type</th>\n",
       "      <th>Legal</th>\n",
       "      <th>Number of floors</th>\n",
       "      <th>Number of bedrooms</th>\n",
       "      <th>Area</th>\n",
       "      <th>Length</th>\n",
       "      <th>Width</th>\n",
       "      <th>Price/m2</th>\n",
       "    </tr>\n",
       "  </thead>\n",
       "  <tbody>\n",
       "    <tr>\n",
       "      <th>35396</th>\n",
       "      <td>2020-07-14</td>\n",
       "      <td>Đường Võng Thị, Phường Thụy Khuê, Quận Tây Hồ, Hà Nội</td>\n",
       "      <td>Quận Tây Hồ</td>\n",
       "      <td>Phường Thụy Khuê</td>\n",
       "      <td>Nhà biệt thự</td>\n",
       "      <td>Đã có sổ</td>\n",
       "      <td>73</td>\n",
       "      <td>6.0</td>\n",
       "      <td>73 m²</td>\n",
       "      <td>14 m</td>\n",
       "      <td>5 m</td>\n",
       "      <td>81,37 triệu/m²</td>\n",
       "    </tr>\n",
       "  </tbody>\n",
       "</table>\n",
       "</div>"
      ],
      "text/plain": [
       "            Date                                                Address  \\\n",
       "35396 2020-07-14  Đường Võng Thị, Phường Thụy Khuê, Quận Tây Hồ, Hà Nội   \n",
       "\n",
       "          District              Ward          Type     Legal Number of floors  \\\n",
       "35396  Quận Tây Hồ  Phường Thụy Khuê  Nhà biệt thự  Đã có sổ  73                \n",
       "\n",
       "       Number of bedrooms   Area Length Width        Price/m2  \n",
       "35396  6.0                 73 m²  14 m   5 m   81,37 triệu/m²  "
      ]
     },
     "execution_count": 47,
     "metadata": {},
     "output_type": "execute_result"
    }
   ],
   "source": [
    "housing_df[housing_df[\"Number of floors\"] == \"73\"]"
   ]
  },
  {
   "cell_type": "code",
   "execution_count": 48,
   "metadata": {},
   "outputs": [
    {
     "data": {
      "text/html": [
       "<div>\n",
       "<style scoped>\n",
       "    .dataframe tbody tr th:only-of-type {\n",
       "        vertical-align: middle;\n",
       "    }\n",
       "\n",
       "    .dataframe tbody tr th {\n",
       "        vertical-align: top;\n",
       "    }\n",
       "\n",
       "    .dataframe thead th {\n",
       "        text-align: right;\n",
       "    }\n",
       "</style>\n",
       "<table border=\"1\" class=\"dataframe\">\n",
       "  <thead>\n",
       "    <tr style=\"text-align: right;\">\n",
       "      <th></th>\n",
       "      <th>Date</th>\n",
       "      <th>Address</th>\n",
       "      <th>District</th>\n",
       "      <th>Ward</th>\n",
       "      <th>Type</th>\n",
       "      <th>Legal</th>\n",
       "      <th>Number of floors</th>\n",
       "      <th>Number of bedrooms</th>\n",
       "      <th>Area</th>\n",
       "      <th>Length</th>\n",
       "      <th>Width</th>\n",
       "      <th>Price/m2</th>\n",
       "    </tr>\n",
       "  </thead>\n",
       "  <tbody>\n",
       "    <tr>\n",
       "      <th>41174</th>\n",
       "      <td>2020-07-09</td>\n",
       "      <td>Đường An Hòa, Phường Mộ Lao, Quận Hà Đông, Hà Nội</td>\n",
       "      <td>Quận Hà Đông</td>\n",
       "      <td>Phường Mộ Lao</td>\n",
       "      <td>Nhà ngõ, hẻm</td>\n",
       "      <td>Đã có sổ</td>\n",
       "      <td>65</td>\n",
       "      <td>6.0</td>\n",
       "      <td>98 m²</td>\n",
       "      <td>NaN</td>\n",
       "      <td>8 m</td>\n",
       "      <td>66,33 triệu/m²</td>\n",
       "    </tr>\n",
       "  </tbody>\n",
       "</table>\n",
       "</div>"
      ],
      "text/plain": [
       "            Date                                            Address  \\\n",
       "41174 2020-07-09  Đường An Hòa, Phường Mộ Lao, Quận Hà Đông, Hà Nội   \n",
       "\n",
       "           District           Ward          Type     Legal Number of floors  \\\n",
       "41174  Quận Hà Đông  Phường Mộ Lao  Nhà ngõ, hẻm  Đã có sổ  65                \n",
       "\n",
       "       Number of bedrooms   Area Length Width        Price/m2  \n",
       "41174  6.0                 98 m²  NaN    8 m   66,33 triệu/m²  "
      ]
     },
     "execution_count": 48,
     "metadata": {},
     "output_type": "execute_result"
    }
   ],
   "source": [
    "housing_df[housing_df[\"Number of floors\"] == \"65\"]"
   ]
  },
  {
   "cell_type": "code",
   "execution_count": 49,
   "metadata": {},
   "outputs": [
    {
     "data": {
      "text/html": [
       "<div>\n",
       "<style scoped>\n",
       "    .dataframe tbody tr th:only-of-type {\n",
       "        vertical-align: middle;\n",
       "    }\n",
       "\n",
       "    .dataframe tbody tr th {\n",
       "        vertical-align: top;\n",
       "    }\n",
       "\n",
       "    .dataframe thead th {\n",
       "        text-align: right;\n",
       "    }\n",
       "</style>\n",
       "<table border=\"1\" class=\"dataframe\">\n",
       "  <thead>\n",
       "    <tr style=\"text-align: right;\">\n",
       "      <th></th>\n",
       "      <th>Date</th>\n",
       "      <th>Address</th>\n",
       "      <th>District</th>\n",
       "      <th>Ward</th>\n",
       "      <th>Type</th>\n",
       "      <th>Legal</th>\n",
       "      <th>Number of floors</th>\n",
       "      <th>Number of bedrooms</th>\n",
       "      <th>Area</th>\n",
       "      <th>Length</th>\n",
       "      <th>Width</th>\n",
       "      <th>Price/m2</th>\n",
       "    </tr>\n",
       "  </thead>\n",
       "  <tbody>\n",
       "    <tr>\n",
       "      <th>39083</th>\n",
       "      <td>2020-07-10</td>\n",
       "      <td>12, Đường Nguyễn Phúc Lai, Phường Ô Chợ Dừa, Quận Đống Đa, Hà Nội</td>\n",
       "      <td>Quận Đống Đa</td>\n",
       "      <td>Phường Ô Chợ Dừa</td>\n",
       "      <td>Nhà phố liền kề</td>\n",
       "      <td>Đã có sổ</td>\n",
       "      <td>12</td>\n",
       "      <td>5.0</td>\n",
       "      <td>59 m²</td>\n",
       "      <td>11 m</td>\n",
       "      <td>5 m</td>\n",
       "      <td>144,07 triệu/m²</td>\n",
       "    </tr>\n",
       "    <tr>\n",
       "      <th>81299</th>\n",
       "      <td>2020-06-03</td>\n",
       "      <td>Đường Đường Láng, Phường Láng Thượng, Quận Đống Đa, Hà Nội</td>\n",
       "      <td>Quận Đống Đa</td>\n",
       "      <td>Phường Láng Thượng</td>\n",
       "      <td>Nhà mặt phố, mặt tiền</td>\n",
       "      <td>Đã có sổ</td>\n",
       "      <td>12</td>\n",
       "      <td>11.0</td>\n",
       "      <td>170 m²</td>\n",
       "      <td>NaN</td>\n",
       "      <td>8.5 m</td>\n",
       "      <td>273,53 triệu/m²</td>\n",
       "    </tr>\n",
       "  </tbody>\n",
       "</table>\n",
       "</div>"
      ],
      "text/plain": [
       "            Date  \\\n",
       "39083 2020-07-10   \n",
       "81299 2020-06-03   \n",
       "\n",
       "                                                                 Address  \\\n",
       "39083  12, Đường Nguyễn Phúc Lai, Phường Ô Chợ Dừa, Quận Đống Đa, Hà Nội   \n",
       "81299  Đường Đường Láng, Phường Láng Thượng, Quận Đống Đa, Hà Nội          \n",
       "\n",
       "           District                Ward                   Type     Legal  \\\n",
       "39083  Quận Đống Đa  Phường Ô Chợ Dừa    Nhà phố liền kề        Đã có sổ   \n",
       "81299  Quận Đống Đa  Phường Láng Thượng  Nhà mặt phố, mặt tiền  Đã có sổ   \n",
       "\n",
       "      Number of floors  Number of bedrooms    Area Length  Width  \\\n",
       "39083  12               5.0                 59 m²   11 m   5 m     \n",
       "81299  12               11.0                170 m²  NaN    8.5 m   \n",
       "\n",
       "              Price/m2  \n",
       "39083  144,07 triệu/m²  \n",
       "81299  273,53 triệu/m²  "
      ]
     },
     "execution_count": 49,
     "metadata": {},
     "output_type": "execute_result"
    }
   ],
   "source": [
    "housing_df[housing_df[\"Number of floors\"] == \"12\"]"
   ]
  },
  {
   "cell_type": "code",
   "execution_count": 50,
   "metadata": {},
   "outputs": [
    {
     "data": {
      "text/plain": [
       "33"
      ]
     },
     "execution_count": 50,
     "metadata": {},
     "output_type": "execute_result"
    }
   ],
   "source": [
    "housing_df[housing_df[\"Number of floors\"].isin(morethan10F)].shape[0]"
   ]
  },
  {
   "attachments": {},
   "cell_type": "markdown",
   "metadata": {},
   "source": [
    "Không biết đây có phải là các dữ liệu mâu thuẫn, gây nhiễu hay không. Ta sẽ tiến hành thay đổi như sau:\n",
    "- Chuỗi \"`Nhiều hơn 10`\" chuyển thành `11`.\n",
    "- Các giá trị khác giữ nguyên."
   ]
  },
  {
   "cell_type": "code",
   "execution_count": 51,
   "metadata": {},
   "outputs": [],
   "source": [
    "def change_number_F(value):\n",
    "    if type(value) in (int, float):\n",
    "        return value\n",
    "    elif value.isnumeric():\n",
    "        return value\n",
    "    else: return 11 "
   ]
  },
  {
   "attachments": {},
   "cell_type": "markdown",
   "metadata": {},
   "source": [
    "**Thay đổi giá trị cột `Number of floors`**"
   ]
  },
  {
   "cell_type": "code",
   "execution_count": 52,
   "metadata": {},
   "outputs": [],
   "source": [
    "# housing_df[\"Number of floors\"] = housing_df[\"Number of floors\"].apply(change_number_F)\n",
    "housing_df[\"Number of floors\"] = housing_df[\"Number of floors\"].str.replace('Nhiều hơn 10', '11')"
   ]
  },
  {
   "cell_type": "code",
   "execution_count": 53,
   "metadata": {},
   "outputs": [],
   "source": [
    "numF_count = housing_df[\"Number of floors\"].value_counts()\n",
    "numF_count.index = numF_count.index.astype(int)\n",
    "numF_count.sort_index(inplace=True)"
   ]
  },
  {
   "cell_type": "code",
   "execution_count": 54,
   "metadata": {},
   "outputs": [
    {
     "data": {
      "image/png": "[encoded data removed]",
      "text/plain": [
       "<Figure size 1170x827 with 1 Axes>"
      ]
     },
     "metadata": {},
     "output_type": "display_data"
    }
   ],
   "source": [
    "fig, ax = plt.subplots()\n",
    "fig.set_size_inches(a4size)\n",
    "\n",
    "numF_count.plot.bar(rot = 0, ax = ax)\n",
    "ax.set_xlabel(\"SốTầng\", fontsize = 20)\n",
    "ax.set_ylabel(\"Count\", fontsize = 20)\n",
    "ax.set_title(\"Biểu đồ cột thể hiện số lượng của số tầng\", fontsize =30)\n",
    "\n",
    "for i in ax.containers:\n",
    "    ax.bar_label(i,)\n",
    "plt.show()"
   ]
  },
  {
   "attachments": {},
   "cell_type": "markdown",
   "metadata": {},
   "source": [
    "Số tầng lớn hơn 10 không quá nhiều, có lẻ không ảnh hưởng mấy đến các quá trình sau."
   ]
  },
  {
   "attachments": {},
   "cell_type": "markdown",
   "metadata": {},
   "source": [
    "- **Length - Width - Area - Price/m2**"
   ]
  },
  {
   "cell_type": "code",
   "execution_count": 55,
   "metadata": {},
   "outputs": [
    {
     "data": {
      "text/plain": [
       "2        10 m   \n",
       "3        12.75 m\n",
       "4        9 m    \n",
       "5        12.1 m \n",
       "8        12 m   \n",
       "         ...    \n",
       "81540    13 m   \n",
       "81541    16 m   \n",
       "81544    14 m   \n",
       "81546    20 m   \n",
       "81547    20 m   \n",
       "Name: Length, Length: 19748, dtype: object"
      ]
     },
     "execution_count": 55,
     "metadata": {},
     "output_type": "execute_result"
    }
   ],
   "source": [
    "housing_df[~housing_df.Length.isna()].Length"
   ]
  },
  {
   "attachments": {},
   "cell_type": "markdown",
   "metadata": {},
   "source": [
    "Ta nhận thấy ngoài giá trị `NaN`, các giá trị còn lại được định dạng theo `<số kích thước>` `\"m\"`"
   ]
  },
  {
   "attachments": {},
   "cell_type": "markdown",
   "metadata": {},
   "source": [
    "Xây dựng một hàm để tách số ra khỏi `m`"
   ]
  },
  {
   "cell_type": "code",
   "execution_count": 56,
   "metadata": {},
   "outputs": [],
   "source": [
    "# housing_df.Length = housing_df.Length.apply(split_size)\n",
    "housing_df['Length'] = housing_df['Length'].str.replace('m', '').astype(float)"
   ]
  },
  {
   "cell_type": "code",
   "execution_count": 57,
   "metadata": {},
   "outputs": [
    {
     "data": {
      "text/plain": [
       "<AxesSubplot:>"
      ]
     },
     "execution_count": 57,
     "metadata": {},
     "output_type": "execute_result"
    },
    {
     "data": {
      "image/png": "[encoded data removed]",
      "text/plain": [
       "<Figure size 640x480 with 1 Axes>"
      ]
     },
     "metadata": {},
     "output_type": "display_data"
    }
   ],
   "source": [
    "num_type = housing_df.Length.apply(lambda x: type(x))\n",
    "num_type.value_counts().plot.bar(rot = 0)"
   ]
  },
  {
   "attachments": {},
   "cell_type": "markdown",
   "metadata": {},
   "source": [
    "Như vậy các giá trị của cột `Length` đều đã chuyển thành công sang dạng float và bỏ qua chữ `m`. Không có giá trị bị nhiễu, vì nếu có thì biểu đồ ở trên sẽ trả ra 2 kiểu dữ liệu là `float` và `string`."
   ]
  },
  {
   "cell_type": "code",
   "execution_count": 58,
   "metadata": {},
   "outputs": [
    {
     "data": {
      "text/plain": [
       "2        4 m  \n",
       "3        4 m  \n",
       "4        4 m  \n",
       "5        3.8 m\n",
       "6        4.5 m\n",
       "         ...  \n",
       "81542    4 m  \n",
       "81544    5 m  \n",
       "81545    3 m  \n",
       "81546    4 m  \n",
       "81547    4 m  \n",
       "Name: Width, Length: 35297, dtype: object"
      ]
     },
     "execution_count": 58,
     "metadata": {},
     "output_type": "execute_result"
    }
   ],
   "source": [
    "housing_df[~housing_df.Width.isna()].Width"
   ]
  },
  {
   "attachments": {},
   "cell_type": "markdown",
   "metadata": {},
   "source": [
    "Vậy có thể cột `Width` cũng giống như `Length`"
   ]
  },
  {
   "cell_type": "code",
   "execution_count": 59,
   "metadata": {},
   "outputs": [],
   "source": [
    "housing_df['Width'] = housing_df['Width'].str.replace('m', '').astype(float)"
   ]
  },
  {
   "cell_type": "code",
   "execution_count": 60,
   "metadata": {},
   "outputs": [
    {
     "data": {
      "text/plain": [
       "<AxesSubplot:>"
      ]
     },
     "execution_count": 60,
     "metadata": {},
     "output_type": "execute_result"
    },
    {
     "data": {
      "image/png": "[encoded data removed]",
      "text/plain": [
       "<Figure size 640x480 with 1 Axes>"
      ]
     },
     "metadata": {},
     "output_type": "display_data"
    }
   ],
   "source": [
    "num_type = housing_df.Width.apply(lambda x: type(x))\n",
    "num_type.value_counts().plot.bar(rot = 0)"
   ]
  },
  {
   "attachments": {},
   "cell_type": "markdown",
   "metadata": {},
   "source": [
    "Cột **Area**:"
   ]
  },
  {
   "cell_type": "code",
   "execution_count": 61,
   "metadata": {},
   "outputs": [
    {
     "data": {
      "text/plain": [
       "0        46 m²\n",
       "1        37 m²\n",
       "2        40 m²\n",
       "3        51 m²\n",
       "4        36 m²\n",
       "         ...  \n",
       "81676    38 m²\n",
       "81677    50 m²\n",
       "81678    41 m²\n",
       "81679    60 m²\n",
       "81680    45 m²\n",
       "Name: Area, Length: 81680, dtype: object"
      ]
     },
     "execution_count": 61,
     "metadata": {},
     "output_type": "execute_result"
    }
   ],
   "source": [
    "housing_df[~housing_df.Area.isna()].Area"
   ]
  },
  {
   "attachments": {},
   "cell_type": "markdown",
   "metadata": {},
   "source": [
    "Chuyển m² về dạng float"
   ]
  },
  {
   "cell_type": "code",
   "execution_count": 62,
   "metadata": {},
   "outputs": [],
   "source": [
    "housing_df['Area'] = housing_df['Area'].str.replace('m²', '').astype(float)\n",
    "# housing_df['Area'].astype(float)"
   ]
  },
  {
   "cell_type": "code",
   "execution_count": 63,
   "metadata": {},
   "outputs": [
    {
     "data": {
      "text/plain": [
       "<AxesSubplot:>"
      ]
     },
     "execution_count": 63,
     "metadata": {},
     "output_type": "execute_result"
    },
    {
     "data": {
      "image/png": "[encoded data removed]",
      "text/plain": [
       "<Figure size 640x480 with 1 Axes>"
      ]
     },
     "metadata": {},
     "output_type": "display_data"
    }
   ],
   "source": [
    "num_type = housing_df.Area.apply(lambda x: type(x))\n",
    "num_type.value_counts().plot.bar(rot = 0)"
   ]
  },
  {
   "attachments": {},
   "cell_type": "markdown",
   "metadata": {},
   "source": [
    "Cột **Price/m²**:"
   ]
  },
  {
   "cell_type": "code",
   "execution_count": 64,
   "metadata": {},
   "outputs": [
    {
     "data": {
      "text/plain": [
       "<AxesSubplot:>"
      ]
     },
     "execution_count": 64,
     "metadata": {},
     "output_type": "execute_result"
    },
    {
     "data": {
      "image/png": "[encoded data removed]",
      "text/plain": [
       "<Figure size 640x480 with 1 Axes>"
      ]
     },
     "metadata": {},
     "output_type": "display_data"
    }
   ],
   "source": [
    "num_type = housing_df[\"Price/m2\"].apply(lambda x: type(x))\n",
    "num_type.value_counts().plot.bar(rot = 0)"
   ]
  },
  {
   "cell_type": "code",
   "execution_count": 65,
   "metadata": {},
   "outputs": [
    {
     "data": {
      "text/plain": [
       "0        86,96 triệu/m² \n",
       "1        116,22 triệu/m²\n",
       "2        65 triệu/m²    \n",
       "3        100 triệu/m²   \n",
       "4        86,11 triệu/m² \n",
       "              ...       \n",
       "81676    81,58 triệu/m² \n",
       "81677    292 triệu/m²   \n",
       "81678    341,46 triệu/m²\n",
       "81679    101,67 triệu/m²\n",
       "81680    102,22 triệu/m²\n",
       "Name: Price/m2, Length: 81681, dtype: object"
      ]
     },
     "execution_count": 65,
     "metadata": {},
     "output_type": "execute_result"
    }
   ],
   "source": [
    "housing_df[\"Price/m2\"]"
   ]
  },
  {
   "cell_type": "code",
   "execution_count": 66,
   "metadata": {},
   "outputs": [
    {
     "data": {
      "text/plain": [
       "array(['1,202777777 tỷ/m²', '1,142857142 tỷ/m²', '1,96 tỷ/m²',\n",
       "       '1,557142857 tỷ/m²', '1,316666666 tỷ/m²', '1,2 tỷ/m²',\n",
       "       '1,111111111 tỷ/m²', '1,8 tỷ/m²', '2,2 tỷ/m²', '2,28 tỷ/m²',\n",
       "       '1,166666666 tỷ/m²', '1,324324324 tỷ/m²', '1,297297297 tỷ/m²',\n",
       "       '1,06 tỷ/m²', '3,536585365 tỷ/m²', '1,133333333 tỷ/m²',\n",
       "       '2,1001 tỷ/m²', '1 tỷ/m²', '2,65 tỷ/m²', '1,153846153 tỷ/m²',\n",
       "       '1,594405594 tỷ/m²', '1,597222222 tỷ/m²', '11,5 tỷ/m²',\n",
       "       '10,416666666 tỷ/m²', '6,5 tỷ/m²', '1,446153846 tỷ/m²',\n",
       "       '8,333333333 tỷ/m²', '7,894736842 tỷ/m²', '1,114285714 tỷ/m²',\n",
       "       '1,008333333 tỷ/m²', '6,833333333 tỷ/m²', '1,023809523 tỷ/m²',\n",
       "       '1,586206896 tỷ/m²', '1,52 tỷ/m²', '124 tỷ/m²', '52,5 tỷ/m²',\n",
       "       '1,3 tỷ/m²', '16,7 tỷ/m²', '1,14 tỷ/m²', '8,9 tỷ/m²',\n",
       "       '1,2875 tỷ/m²', '1,25 tỷ/m²', '1,076923076 tỷ/m²',\n",
       "       '1,777777777 tỷ/m²', '1,79245283 tỷ/m²', '1,083333333 tỷ/m²',\n",
       "       '3,898305084 tỷ/m²', '1,125 tỷ/m²', '6,666666666 tỷ/m²',\n",
       "       '1,033333333 tỷ/m²', '1,063829787 tỷ/m²', '1,26 tỷ/m²',\n",
       "       '70,70694445 tỷ/m²', '1,05 tỷ/m²', '1,688888888 tỷ/m²',\n",
       "       '1,333333333 tỷ/m²', '1,55 tỷ/m²', '1,09375 tỷ/m²',\n",
       "       '66,666666666 tỷ/m²', '8 tỷ/m²', '8,571428571 tỷ/m²',\n",
       "       '9,375 tỷ/m²', '9,516129032 tỷ/m²', '1,362068965 tỷ/m²',\n",
       "       '112,697142857 tỷ/m²', '1,11111 tỷ/m²', '5,666666666 tỷ/m²',\n",
       "       '1,419354838 tỷ/m²', '7,5 tỷ/m²', '2,0625 tỷ/m²',\n",
       "       '2,888888888 tỷ/m²', '88,96 tỷ/m²', '2.222,22220022 tỷ/m²',\n",
       "       '1,46 tỷ/m²', '1,122448979 tỷ/m²', '6,93877551 tỷ/m²',\n",
       "       '1,04 tỷ/m²', '1,066666666 tỷ/m²', '728.000,00728 tỷ/m²',\n",
       "       '69.736,842105263 tỷ/m²', '1,514285714 tỷ/m²', '1,525 tỷ/m²',\n",
       "       '1,875 tỷ/m²', '1,409090909 tỷ/m²', '2,346938775 tỷ/m²',\n",
       "       '1,75 tỷ/m²', '1,0625 tỷ/m²', '1,041666666 tỷ/m²',\n",
       "       '9,833333333 tỷ/m²', '5,375 tỷ/m²', '1,925 tỷ/m²', '1,625 tỷ/m²',\n",
       "       '7,692307692 tỷ/m²', '1,4 tỷ/m²', '1,117647058 tỷ/m²', '10 tỷ/m²',\n",
       "       '5,833333333 tỷ/m²', '1,0125 tỷ/m²', '1,706666666 tỷ/m²',\n",
       "       '1,5 tỷ/m²', '2,538461538 tỷ/m²'], dtype=object)"
      ]
     },
     "execution_count": 66,
     "metadata": {},
     "output_type": "execute_result"
    }
   ],
   "source": [
    "housing_df[housing_df[\"Price/m2\"].str.contains('tỷ/m²', na=False)][\"Price/m2\"].unique()"
   ]
  },
  {
   "attachments": {},
   "cell_type": "markdown",
   "metadata": {},
   "source": [
    "Các giá tiền có một chút bị `lỗi`, thay vì dấu \".\", cột này lại định dạng theo dấu \",\". Tuy nhiên, một vài giá trị lại vừa có \".\" vừa có \",\"?\n",
    "- Dấu chấm là dấu phân cách giữa hàng nghìn\n",
    "- Dấu phẩy là dấu thập phân\n",
    "\n",
    "Ta sẽ xoá các dấu chấm sau đó thay đổi dấu phẩy thành dấu chấm (biểu diễn cho số thực)"
   ]
  },
  {
   "cell_type": "code",
   "execution_count": 67,
   "metadata": {},
   "outputs": [
    {
     "name": "stderr",
     "output_type": "stream",
     "text": [
      "/var/folders/gg/4_1r0r1n6nn2sslng47v_j180000gn/T/ipykernel_2447/1912939602.py:1: FutureWarning: The default value of regex will change from True to False in a future version. In addition, single character regular expressions will*not* be treated as literal strings when regex=True.\n",
      "  housing_df[\"Price/m2\"] = housing_df[\"Price/m2\"].str.replace('.', '').str.replace(',', '.')\n"
     ]
    },
    {
     "data": {
      "text/plain": [
       "0        86.96 triệu/m² \n",
       "1        116.22 triệu/m²\n",
       "2        65 triệu/m²    \n",
       "3        100 triệu/m²   \n",
       "4        86.11 triệu/m² \n",
       "              ...       \n",
       "81676    81.58 triệu/m² \n",
       "81677    292 triệu/m²   \n",
       "81678    341.46 triệu/m²\n",
       "81679    101.67 triệu/m²\n",
       "81680    102.22 triệu/m²\n",
       "Name: Price/m2, Length: 81681, dtype: object"
      ]
     },
     "execution_count": 67,
     "metadata": {},
     "output_type": "execute_result"
    }
   ],
   "source": [
    "housing_df[\"Price/m2\"] = housing_df[\"Price/m2\"].str.replace('.', '').str.replace(',', '.')\n",
    "housing_df[\"Price/m2\"]"
   ]
  },
  {
   "cell_type": "code",
   "execution_count": 68,
   "metadata": {},
   "outputs": [
    {
     "name": "stdout",
     "output_type": "stream",
     "text": [
      "triệu/m²    80813\n",
      "đ/m²        738  \n",
      "tỷ/m²       118  \n",
      "dtype: int64\n"
     ]
    },
    {
     "data": {
      "text/plain": [
       "<AxesSubplot:title={'center':'Các loại giá trị nằm trong cột Price/m²'}, xlabel='0'>"
      ]
     },
     "execution_count": 68,
     "metadata": {},
     "output_type": "execute_result"
    },
    {
     "data": {
      "image/png": "[encoded data removed]",
      "text/plain": [
       "<Figure size 640x480 with 1 Axes>"
      ]
     },
     "metadata": {},
     "output_type": "display_data"
    }
   ],
   "source": [
    "unit = housing_df[\"Price/m2\"].str.extract('[\\d.,]+\\s([\\w/]+)').value_counts()\n",
    "print(unit)\n",
    "unit.plot.bar(rot=0, title='Các loại giá trị nằm trong cột Price/m²')"
   ]
  },
  {
   "attachments": {},
   "cell_type": "markdown",
   "metadata": {},
   "source": [
    "Như vậy có 3 đơn vị giá tiền trong cột. Đó là `triệu/m2`, `đ/m2` và `tỷ/m2`"
   ]
  },
  {
   "cell_type": "code",
   "execution_count": 69,
   "metadata": {},
   "outputs": [],
   "source": [
    "housing_df['Unit'] = housing_df[\"Price/m2\"].str.extract('[\\d.,]+\\s([\\w/]+)')"
   ]
  },
  {
   "attachments": {},
   "cell_type": "markdown",
   "metadata": {},
   "source": [
    "Có rất nhiều cách để thể hiện mức giá. Một trong các cách có thể là: xử lý các giá trị này bằng cách thay các đơn vị giá tiền thành số thực:\n",
    "- Ví dụ: 1 triệu/m² = 1e6, 1 tỷ/m² = 1e9\n",
    "- Nhân giá tiền với các số thực trên"
   ]
  },
  {
   "cell_type": "code",
   "execution_count": 70,
   "metadata": {},
   "outputs": [],
   "source": [
    "def change_currency(val):\n",
    "    if isinstance(val, str):\n",
    "        if len(val.split()) > 1:\n",
    "            return val[0]\n",
    "    return val   \n",
    " \n",
    "housing_df['Price/m2'] = housing_df['Price/m2'].replace(\n",
    "    {' đ/m²': '*1e1', ' triệu/m²': '*1e6', ' tỷ/m²': '*1e9', np.nan: 0.0}, regex=True).map(pd.eval)"
   ]
  },
  {
   "cell_type": "code",
   "execution_count": 71,
   "metadata": {},
   "outputs": [
    {
     "name": "stderr",
     "output_type": "stream",
     "text": [
      "/Users/marconguyen0802/opt/miniconda3/envs/min_ds-env/lib/python3.8/site-packages/seaborn/_decorators.py:36: FutureWarning: Pass the following variable as a keyword arg: x. From version 0.12, the only valid positional argument will be `data`, and passing other arguments without an explicit keyword will result in an error or misinterpretation.\n",
      "  warnings.warn(\n"
     ]
    },
    {
     "data": {
      "text/plain": [
       "Text(0.5, 1.0, 'Biểu đồ phân bố giá của các căn nhà ở Hà Nội')"
      ]
     },
     "execution_count": 71,
     "metadata": {},
     "output_type": "execute_result"
    },
    {
     "data": {
      "image/png": "[encoded data removed]",
      "text/plain": [
       "<Figure size 640x480 with 1 Axes>"
      ]
     },
     "metadata": {},
     "output_type": "display_data"
    }
   ],
   "source": [
    "fig, ax = plt.subplots()\n",
    "sns.boxenplot(housing_df['Price/m2'], ax=ax)\n",
    "ax.set_yscale('log')\n",
    "ax.set_ylabel('Giá (đ/m²)')\n",
    "ax.set_title('Biểu đồ phân bố giá của các căn nhà ở Hà Nội')"
   ]
  },
  {
   "attachments": {},
   "cell_type": "markdown",
   "metadata": {},
   "source": [
    "# **Thông tin các cột**"
   ]
  },
  {
   "attachments": {},
   "cell_type": "markdown",
   "metadata": {},
   "source": [
    "| Tên cột | Kiểu dữ liệu | Mô tả | \n",
    "| --- | --- | --- |\n",
    "| Date | datetime | Ngày đăng bán | \n",
    "| Address | string | Địa chỉ căn nhà | \n",
    "| District | string | Quận |\n",
    "| Ward | string | Huyện | \n",
    "| Type | string | Kiểu nhà ở |\n",
    "| Legal | string | Giấy tờ pháp lý của nhà ở |  \n",
    "| Number of floors | float | Số tầng | \n",
    "| Number of bedrooms | float | Số phòng ngủ |\n",
    "| Area | float | Diện tích căn nhà |\n",
    "| Length | float | Chiều dài căn nhà |\n",
    "| Width | float | Chiều rộng căn nhà |\n",
    "| Price/m2 | string | Số tiền mua căn nhà | \n",
    "| Unit | string | Đơn vị của giá tiền |\n"
   ]
  },
  {
   "cell_type": "code",
   "execution_count": 72,
   "metadata": {},
   "outputs": [
    {
     "name": "stdout",
     "output_type": "stream",
     "text": [
      "<class 'pandas.core.frame.DataFrame'>\n",
      "RangeIndex: 81681 entries, 0 to 81680\n",
      "Data columns (total 13 columns):\n",
      " #   Column              Non-Null Count  Dtype         \n",
      "---  ------              --------------  -----         \n",
      " 0   Date                81681 non-null  datetime64[ns]\n",
      " 1   Address             81634 non-null  object        \n",
      " 2   District            81680 non-null  object        \n",
      " 3   Ward                81634 non-null  object        \n",
      " 4   Type                81650 non-null  object        \n",
      " 5   Legal               53260 non-null  object        \n",
      " 6   Number of floors    36219 non-null  object        \n",
      " 7   Number of bedrooms  81643 non-null  float64       \n",
      " 8   Area                81680 non-null  float64       \n",
      " 9   Length              19748 non-null  float64       \n",
      " 10  Width               35297 non-null  float64       \n",
      " 11  Price/m2            81681 non-null  float64       \n",
      " 12  Unit                81669 non-null  object        \n",
      "dtypes: datetime64[ns](1), float64(5), object(7)\n",
      "memory usage: 8.1+ MB\n"
     ]
    }
   ],
   "source": [
    "housing_df.info()"
   ]
  },
  {
   "cell_type": "code",
   "execution_count": 73,
   "metadata": {},
   "outputs": [
    {
     "data": {
      "text/plain": [
       "Index(['Date', 'Address', 'District', 'Ward', 'Type', 'Legal',\n",
       "       'Number of floors', 'Number of bedrooms', 'Area', 'Length', 'Width',\n",
       "       'Price/m2', 'Unit'],\n",
       "      dtype='object')"
      ]
     },
     "execution_count": 73,
     "metadata": {},
     "output_type": "execute_result"
    }
   ],
   "source": [
    "housing_df.columns"
   ]
  },
  {
   "attachments": {},
   "cell_type": "markdown",
   "metadata": {},
   "source": [
    "Thông tin các giá trị của các cột `categorical`:"
   ]
  },
  {
   "cell_type": "code",
   "execution_count": 74,
   "metadata": {},
   "outputs": [
    {
     "data": {
      "text/html": [
       "<div>\n",
       "<style scoped>\n",
       "    .dataframe tbody tr th:only-of-type {\n",
       "        vertical-align: middle;\n",
       "    }\n",
       "\n",
       "    .dataframe tbody tr th {\n",
       "        vertical-align: top;\n",
       "    }\n",
       "\n",
       "    .dataframe thead th {\n",
       "        text-align: right;\n",
       "    }\n",
       "</style>\n",
       "<table border=\"1\" class=\"dataframe\">\n",
       "  <thead>\n",
       "    <tr style=\"text-align: right;\">\n",
       "      <th></th>\n",
       "      <th>missing_ratio</th>\n",
       "      <th>num_diff_vals</th>\n",
       "      <th>diff vals</th>\n",
       "    </tr>\n",
       "  </thead>\n",
       "  <tbody>\n",
       "    <tr>\n",
       "      <th>Address</th>\n",
       "      <td>0.057541</td>\n",
       "      <td>13957</td>\n",
       "      <td>[Đường Hoàng Quốc Việt, Phường Nghĩa Đô, Quận Cầu Giấy, Hà Nội, Đường Kim Giang, Phường Kim Giang, Quận Thanh Xuân, Hà Nội, phố minh khai, Phường Minh Khai, Quận Hai Bà Trưng, Hà Nội, Đường Võng Thị, Phường Thụy Khuê, Quận Tây Hồ, Hà Nội, Đường Yên Hòa, Phường Yên Hoà, Quận Cầu Giấy, Hà Nội, Đường Tây Sơn, Phường Trung Liệt, Quận Đống Đa, Hà Nội, Đường Lò Đúc, Phường Đống Mác, Quận Hai Bà Trưng, Hà Nội, Đường Xuân La, Phường Xuân La, Quận Tây Hồ, Hà Nội, Đường 19/5, Phường Văn Quán, Quận Hà Đông, Hà Nội, Đường Tựu Liệt, Thị trấn Văn Điển, Huyện Thanh Trì, Hà Nội, Đường Định Công Hạ, Phường Định Công, Quận Hoàng Mai, Hà Nội, Đường Bồ Đề, Phường Bồ Đề, Quận Long Biên, Hà Nội, Đường Quang Trung, Phường Quang Trung, Quận Hà Đông, Hà Nội, Đường Đê Trần Khát Chân, Phường Thanh Lương, Quận Hai Bà Trưng, Hà Nội, Đường Khương Trung, Phường Khương Trung, Quận Thanh Xuân, Hà Nội, Đường Phúc Tân, Phường Phúc Tân, Quận Hoàn Kiếm, Hà Nội, Đường Nguyễn Văn Cừ, Phường Gia Thụy, Quận Long Biên, Hà Nội, Đường Khương Đình, Phường Khương Đình, Quận Thanh Xuân, Hà Nội, Đường Phương Canh, Phường Phương Canh, Quận Nam Từ Liêm, Hà Nội, Đường Trần Phú, Phường Văn Quán, Quận Hà Đông, Hà Nội, Đường Trương Định, Phường Tương Mai, Quận Hoàng Mai, Hà Nội, Đường Tố Hữu, Phường La Khê, Quận Hà Đông, Hà Nội, Đường Đồng Me, Phường Mễ Trì, Quận Nam Từ Liêm, Hà Nội, Đường Lê Trọng Tấn, Phường Khương Mai, Quận Thanh Xuân, Hà Nội, Đường Láng Hạ, Phường Láng Hạ, Quận Đống Đa, Hà Nội, Đường Nguyễn Khánh Toàn, Phường Quan Hoa, Quận Cầu Giấy, Hà Nội, 180/61/5, Đường Tây Mỗ, Phường Tây Mỗ, Quận Nam Từ Liêm, Hà Nội, Đường Núi Trúc, Phường Ngọc Khánh, Quận Ba Đình, Hà Nội, Đường Tô Hiệu, Phường Quang Trung, Quận Hà Đông, Hà Nội, Đường Ngọc Trục, Phường Đại Mỗ, Quận Nam Từ Liêm, Hà Nội, Đường Lạc Long Quân, Phường Nghĩa Đô, Quận Cầu Giấy, Hà Nội, Đường Tả Thanh Oai, Xã Tả Thanh Oai, Huyện Thanh Trì, Hà Nội, Đường Mỹ Đình, Phường Mỹ Đình 1, Quận Nam Từ Liêm, Hà Nội, Đường Nguyễn Chí Thanh, Phường Láng Hạ, Quận Đống Đa, Hà Nội, Đường Vĩnh Quỳnh, Xã Tam Hiệp, Huyện Thanh Trì, Hà Nội, Đội Cấn, Phường Cống Vị, Quận Ba Đình, Hà Nội, Đường Phố Vọng, Phường Bách Khoa, Quận Hai Bà Trưng, Hà Nội, Đường Vĩnh Phúc, Phường Vĩnh Phúc, Quận Ba Đình, Hà Nội, Ngách 6A, Đường Tả Thanh Oai, Xã Tả Thanh Oai, Huyện Thanh Trì, Hà Nội, Đường Yên Vĩnh, Xã Kim Chung, Huyện Hoài Đức, Hà Nội, 4, Đường Kim Giang, Phường Đại Kim, Quận Hoàng Mai, Hà Nội, Bùi Xương Trạch, Phường Khương Đình, Quận Thanh Xuân, Hà Nội, Đường Lĩnh Nam, Phường Mai Động, Quận Hoàng Mai, Hà Nội, Đường Tôn Thất Tùng, Phường Trung Tự, Quận Đống Đa, Hà Nội, văn phu, Phường Kiến Hưng, Quận Hà Đông, Hà Nội, Đường Núi Trúc, Phường Trúc Bạch, Quận Ba Đình, Hà Nội, 88, Đường Phạm Văn Đồng, Phường Cổ Nhuế 1, Quận Bắc Từ Liêm, Hà Nội, Đường Đào Tấn, Phường Cống Vị, Quận Ba Đình, Hà Nội, đức giang, Phường Đức Giang, Quận Long Biên, Hà Nội, Đường Nguyễn Cơ Thạch, Phường Mỹ Đình 2, Quận Nam Từ Liêm, Hà Nội, Đường Lạc Long Quân, Phường Bưởi, Quận Tây Hồ, Hà Nội, Đường Minh Khai, Phường Minh Khai, Quận Hai Bà Trưng, Hà Nội, Đường Chùa Láng, Phường Láng Hạ, Quận Đống Đa, Hà Nội, Khương Hạ, Phường Khương Đình, Quận Thanh Xuân, Hà Nội, tả thanh oai, Xã Tả Thanh Oai, Huyện Thanh Trì, Hà Nội, Đường Xã Đàn 2, Phường Ô Chợ Dừa, Quận Đống Đa, Hà Nội, Đường Bùi Xương Trạch, Phường Khương Đình, Quận Thanh Xuân, Hà Nội, Đường Phố Trạm, Phường Long Biên, Quận Long Biên, Hà Nội, Đường Đền Lừ, Phường Hoàng Văn Thụ, Quận Hoàng Mai, Hà Nội, Đường Doãn Kế Thiện, Phường Mai Dịch, Quận Cầu Giấy, Hà Nội, Đường Hoàng Mai, Phường Hoàng Văn Thụ, Quận Hoàng Mai, Hà Nội, Đường Quan Nhân, Phường Nhân Chính, Quận Thanh Xuân, Hà Nội, Đường Gốc Đề, Phường Minh Khai, Quận Hai Bà Trưng, Hà Nội, Đường Vạn Phúc, Phường Vạn Phúc, Quận Hà Đông, Hà Nội, Đường Ngọc Hà, Phường Ngọc Hà, Quận Ba Đình, Hà Nội, Đường Hào Nam, Phường Ô Chợ Dừa, Quận Đống Đa, Hà Nội, Lĩnh nam, Phường Lĩnh Nam, Quận Hoàng Mai, Hà Nội, Đường Khương Hạ, Phường Khương Đình, Quận Thanh Xuân, Hà Nội, Xuân Đinh, Phường Xuân Đỉnh, Quận Bắc Từ Liêm, Hà Nội, Đường Phú Đô, Phường Phú Đô, Quận Nam Từ Liêm, Hà Nội, Đường Văn Cao, Phường Liễu Giai, Quận Ba Đình, Hà Nội, 1, Đường Nguyễn Khánh Toàn, Phường Quan Hoa, Quận Cầu Giấy, Hà Nội, Nguyễn Thái Học, Thị trấn Phùng, Huyện Đan Phượng, Hà Nội, Đường Đê La Thành, Phường Kim Liên, Quận Đống Đa, Hà Nội, Đường Đức Diễn, Phường Phúc Diễn, Quận Bắc Từ Liêm, Hà Nội, Đường Kim Mã, Phường Kim Mã, Quận Ba Đình, Hà Nội, Đường Trung Phụng, Phường Trung Phụng, Quận Đống Đa, Hà Nội, Đường Lĩnh Nam, Phường Lĩnh Nam, Quận Hoàng Mai, Hà Nội, Đường Đền Lừ 1, Phường Tân Mai, Quận Hoàng Mai, Hà Nội, Đường Hàm Nghi, Phường Cầu Diễn, Quận Nam Từ Liêm, Hà Nội, Văn Phú, Phường La Khê, Quận Hà Đông, Hà Nội, Tây Sơn, Phường Ngã Tư Sở, Quận Đống Đa, Hà Nội, Đường Phùng Khoang, Phường Trung Văn, Quận Nam Từ Liêm, Hà Nội, Đường Nguyễn Trãi, Phường Thượng Đình, Quận Thanh Xuân, Hà Nội, Đường Tây Sơn, Phường Ngã Tư Sở, Quận Đống Đa, Hà Nội, Đường Thái Hà, Phường Trung Liệt, Quận Đống Đa, Hà Nội, Đường Bằng B, NHÂN MỸ, Phường Mỹ Đình 2, Quận Nam Từ Liêm, Hà Nội, Đường Quốc lộ 32, Phường Minh Khai, Quận Bắc Từ Liêm, Hà Nội, Đường Giáp Nhị, Phường Thịnh Liệt, Quận Hoàng Mai, Hà Nội, tôn đức thắng, Phường Quốc Tử Giám, Quận Đống Đa, Hà Nội, Đường Trích Sài, Phường Thụy Khuê, Quận Tây Hồ, Hà Nội, Đường Văn Quán, Phường Văn Quán, Quận Hà Đông, Hà Nội, Đường Khâm Thiên, Phường Khâm Thiên, Quận Đống Đa, Hà Nội, Đường Trương Định, Phường Trương Định, Quận Hai Bà Trưng, Hà Nội, Đường Huỳnh Thúc Kháng, Phường Láng Hạ, Quận Đống Đa, Hà Nội, Đường Phạm Văn Đồng, Phường Cổ Nhuế 1, Quận Bắc Từ Liêm, Hà Nội, Đường Khâm Thiên||377, Phường Khâm Thiên, Quận Đống Đa, Hà Nội, Đường Phú Diễn, Phường Phú Diễn, Quận Bắc Từ Liêm, Hà Nội, Đường Thái Thịnh 1, Phường Trung Liệt, Quận Đống Đa, Hà Nội, ...]</td>\n",
       "    </tr>\n",
       "    <tr>\n",
       "      <th>District</th>\n",
       "      <td>0.001224</td>\n",
       "      <td>29</td>\n",
       "      <td>[Quận Cầu Giấy, Quận Thanh Xuân, Quận Hai Bà Trưng, Quận Tây Hồ, Quận Đống Đa, Quận Hà Đông, Huyện Thanh Trì, Quận Hoàng Mai, Quận Long Biên, Quận Hoàn Kiếm, Quận Nam Từ Liêm, Quận Ba Đình, Huyện Hoài Đức, Quận Bắc Từ Liêm, Huyện Đan Phượng, Huyện Thanh Oai, Huyện Sóc Sơn, Huyện Gia Lâm, Huyện Chương Mỹ, Huyện Đông Anh, Huyện Thường Tín, Thị xã Sơn Tây, Huyện Mê Linh, Huyện Thạch Thất, Huyện Quốc Oai, Huyện Phúc Thọ, Huyện Phú Xuyên, Huyện Ba Vì, Huyện Mỹ Đức]</td>\n",
       "    </tr>\n",
       "    <tr>\n",
       "      <th>Legal</th>\n",
       "      <td>34.795118</td>\n",
       "      <td>3</td>\n",
       "      <td>[Đã có sổ, Đang chờ sổ, Giấy tờ khác]</td>\n",
       "    </tr>\n",
       "    <tr>\n",
       "      <th>Number of bedrooms</th>\n",
       "      <td>0.046522</td>\n",
       "      <td>11</td>\n",
       "      <td>[5.0, 3.0, 4.0, 6.0, 11.0, 8.0, 2.0, 7.0, 9.0, 1.0, 10.0]</td>\n",
       "    </tr>\n",
       "    <tr>\n",
       "      <th>Number of floors</th>\n",
       "      <td>55.657987</td>\n",
       "      <td>29</td>\n",
       "      <td>[4, 6, 5, 7, 2, 3, 8, 1, 9, 50, 38, 35, 10, 11, 45, 33, 42, 25, 73, 12, 65, 55, 30, 14, 40, 52, 54, 32, 29]</td>\n",
       "    </tr>\n",
       "    <tr>\n",
       "      <th>Type</th>\n",
       "      <td>0.037953</td>\n",
       "      <td>4</td>\n",
       "      <td>[Nhà ngõ, hẻm, Nhà mặt phố, mặt tiền, Nhà biệt thự, Nhà phố liền kề]</td>\n",
       "    </tr>\n",
       "    <tr>\n",
       "      <th>Unit</th>\n",
       "      <td>0.014691</td>\n",
       "      <td>3</td>\n",
       "      <td>[triệu/m², đ/m², tỷ/m²]</td>\n",
       "    </tr>\n",
       "    <tr>\n",
       "      <th>Ward</th>\n",
       "      <td>0.057541</td>\n",
       "      <td>309</td>\n",
       "      <td>[Phường Nghĩa Đô, Phường Kim Giang, Phường Minh Khai, Phường Thụy Khuê, Phường Yên Hoà, Phường Trung Liệt, Phường Đống Mác, Phường Xuân La, Phường Văn Quán, Thị trấn Văn Điển, Phường Định Công, Phường Bồ Đề, Phường Quang Trung, Phường Thanh Lương, Phường Khương Trung, Phường Phúc Tân, Phường Gia Thụy, Phường Khương Đình, Phường Phương Canh, Phường Tương Mai, Phường La Khê, Phường Mễ Trì, Phường Khương Mai, Phường Láng Hạ, Phường Quan Hoa, Phường Tây Mỗ, Phường Ngọc Khánh, Phường Đại Mỗ, Xã Tả Thanh Oai, Phường Mỹ Đình 1, Xã Tam Hiệp, Phường Cống Vị, Phường Bách Khoa, Phường Vĩnh Phúc, Xã Kim Chung, Phường Đại Kim, Phường Mai Động, Phường Trung Tự, Phường Kiến Hưng, Phường Trúc Bạch, Phường Cổ Nhuế 1, Phường Đức Giang, Phường Mỹ Đình 2, Phường Bưởi, Phường Ô Chợ Dừa, Phường Long Biên, Phường Hoàng Văn Thụ, Phường Mai Dịch, Phường Nhân Chính, Phường Vạn Phúc, Phường Ngọc Hà, Phường Lĩnh Nam, Phường Xuân Đỉnh, Phường Phú Đô, Phường Liễu Giai, Thị trấn Phùng, Phường Kim Liên, Phường Phúc Diễn, Phường Kim Mã, Phường Trung Phụng, Phường Tân Mai, Phường Cầu Diễn, Phường Ngã Tư Sở, Phường Trung Văn, Phường Thượng Đình, Phường Hoàng Liệt, Phường Thịnh Liệt, Phường Quốc Tử Giám, Phường Khâm Thiên, Phường Trương Định, Phường Phú Diễn, Phường Thạch Bàn, Phường Ngọc Thụy, Phường Cầu Dền, Phường Phú Lương, Phường Bạch Đằng, Phường Phú La, Phường Hà Cầu, Phường Láng Thượng, Phường Phương Liệt, Phường Vĩnh Hưng, Phường Thanh Nhàn, Phường Cự Khối, Phường Đội Cấn, Phường Thịnh Quang, Phường Trung Hoà, Phường Quỳnh Mai, Phường Nam Đồng, Phường Dịch Vọng Hậu, Phường Nghĩa Tân, Xã Cự Khê, Phường Vĩnh Tuy, Phường Quảng An, Phường Yên Nghĩa, Phường Thành Công, Phường Giáp Bát, Phường Dịch Vọng, Phường Thanh Xuân Bắc, Phường Phương Mai, Phường Bạch Mai, ...]</td>\n",
       "    </tr>\n",
       "  </tbody>\n",
       "</table>\n",
       "</div>"
      ],
      "text/plain": [
       "                    missing_ratio  num_diff_vals  \\\n",
       "Address             0.057541       13957           \n",
       "District            0.001224       29              \n",
       "Legal               34.795118      3               \n",
       "Number of bedrooms  0.046522       11              \n",
       "Number of floors    55.657987      29              \n",
       "Type                0.037953       4               \n",
       "Unit                0.014691       3               \n",
       "Ward                0.057541       309             \n",
       "\n",
       "                                                                                                                                                                                                                                                                                                                                                                                                                                                                                                                                                                                                                                                                                                                                                                                                                                                                                                                                                                                                                                                                                                                                                                                                                                                                                                                                                                                                                                                                                                                                                                                                                                                                                                                                                                                                                                                                                                                                                                                                                                                                                                                                                                                                                                                                                                                                                                                                                                                                                                                                                                                                                                                                                                                                                                                                                                                                                                                                                                                                                                                                                                                                                                                                                                                                                                                                                                                                                                                                                                                                                                                                                                                                                                                                                                                                                                                                                                                                                                                                                                                                                                                                                                                                                                                                                                                                                                                                                                                                                                                                                                                                                                                                                                                                                                                                                                                                                                                                                                                                                                                                                                                                                                                                                                                                                                                                                                                                                                                                                                                                                                                                                                                                                                                                                                                                                                                                                                                                                                                                                                                                       diff vals  \n",
       "Address             [Đường Hoàng Quốc Việt, Phường Nghĩa Đô, Quận Cầu Giấy, Hà Nội, Đường Kim Giang, Phường Kim Giang, Quận Thanh Xuân, Hà Nội, phố minh khai, Phường Minh Khai, Quận Hai Bà Trưng, Hà Nội, Đường Võng Thị, Phường Thụy Khuê, Quận Tây Hồ, Hà Nội, Đường Yên Hòa, Phường Yên Hoà, Quận Cầu Giấy, Hà Nội, Đường Tây Sơn, Phường Trung Liệt, Quận Đống Đa, Hà Nội, Đường Lò Đúc, Phường Đống Mác, Quận Hai Bà Trưng, Hà Nội, Đường Xuân La, Phường Xuân La, Quận Tây Hồ, Hà Nội, Đường 19/5, Phường Văn Quán, Quận Hà Đông, Hà Nội, Đường Tựu Liệt, Thị trấn Văn Điển, Huyện Thanh Trì, Hà Nội, Đường Định Công Hạ, Phường Định Công, Quận Hoàng Mai, Hà Nội, Đường Bồ Đề, Phường Bồ Đề, Quận Long Biên, Hà Nội, Đường Quang Trung, Phường Quang Trung, Quận Hà Đông, Hà Nội, Đường Đê Trần Khát Chân, Phường Thanh Lương, Quận Hai Bà Trưng, Hà Nội, Đường Khương Trung, Phường Khương Trung, Quận Thanh Xuân, Hà Nội, Đường Phúc Tân, Phường Phúc Tân, Quận Hoàn Kiếm, Hà Nội, Đường Nguyễn Văn Cừ, Phường Gia Thụy, Quận Long Biên, Hà Nội, Đường Khương Đình, Phường Khương Đình, Quận Thanh Xuân, Hà Nội, Đường Phương Canh, Phường Phương Canh, Quận Nam Từ Liêm, Hà Nội, Đường Trần Phú, Phường Văn Quán, Quận Hà Đông, Hà Nội, Đường Trương Định, Phường Tương Mai, Quận Hoàng Mai, Hà Nội, Đường Tố Hữu, Phường La Khê, Quận Hà Đông, Hà Nội, Đường Đồng Me, Phường Mễ Trì, Quận Nam Từ Liêm, Hà Nội, Đường Lê Trọng Tấn, Phường Khương Mai, Quận Thanh Xuân, Hà Nội, Đường Láng Hạ, Phường Láng Hạ, Quận Đống Đa, Hà Nội, Đường Nguyễn Khánh Toàn, Phường Quan Hoa, Quận Cầu Giấy, Hà Nội, 180/61/5, Đường Tây Mỗ, Phường Tây Mỗ, Quận Nam Từ Liêm, Hà Nội, Đường Núi Trúc, Phường Ngọc Khánh, Quận Ba Đình, Hà Nội, Đường Tô Hiệu, Phường Quang Trung, Quận Hà Đông, Hà Nội, Đường Ngọc Trục, Phường Đại Mỗ, Quận Nam Từ Liêm, Hà Nội, Đường Lạc Long Quân, Phường Nghĩa Đô, Quận Cầu Giấy, Hà Nội, Đường Tả Thanh Oai, Xã Tả Thanh Oai, Huyện Thanh Trì, Hà Nội, Đường Mỹ Đình, Phường Mỹ Đình 1, Quận Nam Từ Liêm, Hà Nội, Đường Nguyễn Chí Thanh, Phường Láng Hạ, Quận Đống Đa, Hà Nội, Đường Vĩnh Quỳnh, Xã Tam Hiệp, Huyện Thanh Trì, Hà Nội, Đội Cấn, Phường Cống Vị, Quận Ba Đình, Hà Nội, Đường Phố Vọng, Phường Bách Khoa, Quận Hai Bà Trưng, Hà Nội, Đường Vĩnh Phúc, Phường Vĩnh Phúc, Quận Ba Đình, Hà Nội, Ngách 6A, Đường Tả Thanh Oai, Xã Tả Thanh Oai, Huyện Thanh Trì, Hà Nội, Đường Yên Vĩnh, Xã Kim Chung, Huyện Hoài Đức, Hà Nội, 4, Đường Kim Giang, Phường Đại Kim, Quận Hoàng Mai, Hà Nội, Bùi Xương Trạch, Phường Khương Đình, Quận Thanh Xuân, Hà Nội, Đường Lĩnh Nam, Phường Mai Động, Quận Hoàng Mai, Hà Nội, Đường Tôn Thất Tùng, Phường Trung Tự, Quận Đống Đa, Hà Nội, văn phu, Phường Kiến Hưng, Quận Hà Đông, Hà Nội, Đường Núi Trúc, Phường Trúc Bạch, Quận Ba Đình, Hà Nội, 88, Đường Phạm Văn Đồng, Phường Cổ Nhuế 1, Quận Bắc Từ Liêm, Hà Nội, Đường Đào Tấn, Phường Cống Vị, Quận Ba Đình, Hà Nội, đức giang, Phường Đức Giang, Quận Long Biên, Hà Nội, Đường Nguyễn Cơ Thạch, Phường Mỹ Đình 2, Quận Nam Từ Liêm, Hà Nội, Đường Lạc Long Quân, Phường Bưởi, Quận Tây Hồ, Hà Nội, Đường Minh Khai, Phường Minh Khai, Quận Hai Bà Trưng, Hà Nội, Đường Chùa Láng, Phường Láng Hạ, Quận Đống Đa, Hà Nội, Khương Hạ, Phường Khương Đình, Quận Thanh Xuân, Hà Nội, tả thanh oai, Xã Tả Thanh Oai, Huyện Thanh Trì, Hà Nội, Đường Xã Đàn 2, Phường Ô Chợ Dừa, Quận Đống Đa, Hà Nội, Đường Bùi Xương Trạch, Phường Khương Đình, Quận Thanh Xuân, Hà Nội, Đường Phố Trạm, Phường Long Biên, Quận Long Biên, Hà Nội, Đường Đền Lừ, Phường Hoàng Văn Thụ, Quận Hoàng Mai, Hà Nội, Đường Doãn Kế Thiện, Phường Mai Dịch, Quận Cầu Giấy, Hà Nội, Đường Hoàng Mai, Phường Hoàng Văn Thụ, Quận Hoàng Mai, Hà Nội, Đường Quan Nhân, Phường Nhân Chính, Quận Thanh Xuân, Hà Nội, Đường Gốc Đề, Phường Minh Khai, Quận Hai Bà Trưng, Hà Nội, Đường Vạn Phúc, Phường Vạn Phúc, Quận Hà Đông, Hà Nội, Đường Ngọc Hà, Phường Ngọc Hà, Quận Ba Đình, Hà Nội, Đường Hào Nam, Phường Ô Chợ Dừa, Quận Đống Đa, Hà Nội, Lĩnh nam, Phường Lĩnh Nam, Quận Hoàng Mai, Hà Nội, Đường Khương Hạ, Phường Khương Đình, Quận Thanh Xuân, Hà Nội, Xuân Đinh, Phường Xuân Đỉnh, Quận Bắc Từ Liêm, Hà Nội, Đường Phú Đô, Phường Phú Đô, Quận Nam Từ Liêm, Hà Nội, Đường Văn Cao, Phường Liễu Giai, Quận Ba Đình, Hà Nội, 1, Đường Nguyễn Khánh Toàn, Phường Quan Hoa, Quận Cầu Giấy, Hà Nội, Nguyễn Thái Học, Thị trấn Phùng, Huyện Đan Phượng, Hà Nội, Đường Đê La Thành, Phường Kim Liên, Quận Đống Đa, Hà Nội, Đường Đức Diễn, Phường Phúc Diễn, Quận Bắc Từ Liêm, Hà Nội, Đường Kim Mã, Phường Kim Mã, Quận Ba Đình, Hà Nội, Đường Trung Phụng, Phường Trung Phụng, Quận Đống Đa, Hà Nội, Đường Lĩnh Nam, Phường Lĩnh Nam, Quận Hoàng Mai, Hà Nội, Đường Đền Lừ 1, Phường Tân Mai, Quận Hoàng Mai, Hà Nội, Đường Hàm Nghi, Phường Cầu Diễn, Quận Nam Từ Liêm, Hà Nội, Văn Phú, Phường La Khê, Quận Hà Đông, Hà Nội, Tây Sơn, Phường Ngã Tư Sở, Quận Đống Đa, Hà Nội, Đường Phùng Khoang, Phường Trung Văn, Quận Nam Từ Liêm, Hà Nội, Đường Nguyễn Trãi, Phường Thượng Đình, Quận Thanh Xuân, Hà Nội, Đường Tây Sơn, Phường Ngã Tư Sở, Quận Đống Đa, Hà Nội, Đường Thái Hà, Phường Trung Liệt, Quận Đống Đa, Hà Nội, Đường Bằng B, NHÂN MỸ, Phường Mỹ Đình 2, Quận Nam Từ Liêm, Hà Nội, Đường Quốc lộ 32, Phường Minh Khai, Quận Bắc Từ Liêm, Hà Nội, Đường Giáp Nhị, Phường Thịnh Liệt, Quận Hoàng Mai, Hà Nội, tôn đức thắng, Phường Quốc Tử Giám, Quận Đống Đa, Hà Nội, Đường Trích Sài, Phường Thụy Khuê, Quận Tây Hồ, Hà Nội, Đường Văn Quán, Phường Văn Quán, Quận Hà Đông, Hà Nội, Đường Khâm Thiên, Phường Khâm Thiên, Quận Đống Đa, Hà Nội, Đường Trương Định, Phường Trương Định, Quận Hai Bà Trưng, Hà Nội, Đường Huỳnh Thúc Kháng, Phường Láng Hạ, Quận Đống Đa, Hà Nội, Đường Phạm Văn Đồng, Phường Cổ Nhuế 1, Quận Bắc Từ Liêm, Hà Nội, Đường Khâm Thiên||377, Phường Khâm Thiên, Quận Đống Đa, Hà Nội, Đường Phú Diễn, Phường Phú Diễn, Quận Bắc Từ Liêm, Hà Nội, Đường Thái Thịnh 1, Phường Trung Liệt, Quận Đống Đa, Hà Nội, ...]  \n",
       "District            [Quận Cầu Giấy, Quận Thanh Xuân, Quận Hai Bà Trưng, Quận Tây Hồ, Quận Đống Đa, Quận Hà Đông, Huyện Thanh Trì, Quận Hoàng Mai, Quận Long Biên, Quận Hoàn Kiếm, Quận Nam Từ Liêm, Quận Ba Đình, Huyện Hoài Đức, Quận Bắc Từ Liêm, Huyện Đan Phượng, Huyện Thanh Oai, Huyện Sóc Sơn, Huyện Gia Lâm, Huyện Chương Mỹ, Huyện Đông Anh, Huyện Thường Tín, Thị xã Sơn Tây, Huyện Mê Linh, Huyện Thạch Thất, Huyện Quốc Oai, Huyện Phúc Thọ, Huyện Phú Xuyên, Huyện Ba Vì, Huyện Mỹ Đức]                                                                                                                                                                                                                                                                                                                                                                                                                                                                                                                                                                                                                                                                                                                                                                                                                                                                                                                                                                                                                                                                                                                                                                                                                                                                                                                                                                                                                                                                                                                                                                                                                                                                                                                                                                                                                                                                                                                                                                                                                                                                                                                                                                                                                                                                                                                                                                                                                                                                                                                                                                                                                                                                                                                                                                                                                                                                                                                                                                                                                                                                                                                                                                                                                                                                                                                                                                                                                                                                                                                                                                                                                                                                                                                                                                                                                                                                                                                                                                                                                                                                                                                                                                                                                                                                                                                                                                                                                                                                                                                                                                                                                                                                                                                                                                                                                                                                                                                                                                                                                                                                                                                                                                                                                                                                                                                                                                                                                                                                                                                                                                              \n",
       "Legal               [Đã có sổ, Đang chờ sổ, Giấy tờ khác]                                                                                                                                                                                                                                                                                                                                                                                                                                                                                                                                                                                                                                                                                                                                                                                                                                                                                                                                                                                                                                                                                                                                                                                                                                                                                                                                                                                                                                                                                                                                                                                                                                                                                                                                                                                                                                                                                                                                                                                                                                                                                                                                                                                                                                                                                                                                                                                                                                                                                                                                                                                                                                                                                                                                                                                                                                                                                                                                                                                                                                                                                                                                                                                                                                                                                                                                                                                                                                                                                                                                                                                                                                                                                                                                                                                                                                                                                                                                                                                                                                                                                                                                                                                                                                                                                                                                                                                                                                                                                                                                                                                                                                                                                                                                                                                                                                                                                                                                                                                                                                                                                                                                                                                                                                                                                                                                                                                                                                                                                                                                                                                                                                                                                                                                                                                                                                                                                                                                                                                                                         \n",
       "Number of bedrooms  [5.0, 3.0, 4.0, 6.0, 11.0, 8.0, 2.0, 7.0, 9.0, 1.0, 10.0]                                                                                                                                                                                                                                                                                                                                                                                                                                                                                                                                                                                                                                                                                                                                                                                                                                                                                                                                                                                                                                                                                                                                                                                                                                                                                                                                                                                                                                                                                                                                                                                                                                                                                                                                                                                                                                                                                                                                                                                                                                                                                                                                                                                                                                                                                                                                                                                                                                                                                                                                                                                                                                                                                                                                                                                                                                                                                                                                                                                                                                                                                                                                                                                                                                                                                                                                                                                                                                                                                                                                                                                                                                                                                                                                                                                                                                                                                                                                                                                                                                                                                                                                                                                                                                                                                                                                                                                                                                                                                                                                                                                                                                                                                                                                                                                                                                                                                                                                                                                                                                                                                                                                                                                                                                                                                                                                                                                                                                                                                                                                                                                                                                                                                                                                                                                                                                                                                                                                                                                                     \n",
       "Number of floors    [4, 6, 5, 7, 2, 3, 8, 1, 9, 50, 38, 35, 10, 11, 45, 33, 42, 25, 73, 12, 65, 55, 30, 14, 40, 52, 54, 32, 29]                                                                                                                                                                                                                                                                                                                                                                                                                                                                                                                                                                                                                                                                                                                                                                                                                                                                                                                                                                                                                                                                                                                                                                                                                                                                                                                                                                                                                                                                                                                                                                                                                                                                                                                                                                                                                                                                                                                                                                                                                                                                                                                                                                                                                                                                                                                                                                                                                                                                                                                                                                                                                                                                                                                                                                                                                                                                                                                                                                                                                                                                                                                                                                                                                                                                                                                                                                                                                                                                                                                                                                                                                                                                                                                                                                                                                                                                                                                                                                                                                                                                                                                                                                                                                                                                                                                                                                                                                                                                                                                                                                                                                                                                                                                                                                                                                                                                                                                                                                                                                                                                                                                                                                                                                                                                                                                                                                                                                                                                                                                                                                                                                                                                                                                                                                                                                                                                                                                                                   \n",
       "Type                [Nhà ngõ, hẻm, Nhà mặt phố, mặt tiền, Nhà biệt thự, Nhà phố liền kề]                                                                                                                                                                                                                                                                                                                                                                                                                                                                                                                                                                                                                                                                                                                                                                                                                                                                                                                                                                                                                                                                                                                                                                                                                                                                                                                                                                                                                                                                                                                                                                                                                                                                                                                                                                                                                                                                                                                                                                                                                                                                                                                                                                                                                                                                                                                                                                                                                                                                                                                                                                                                                                                                                                                                                                                                                                                                                                                                                                                                                                                                                                                                                                                                                                                                                                                                                                                                                                                                                                                                                                                                                                                                                                                                                                                                                                                                                                                                                                                                                                                                                                                                                                                                                                                                                                                                                                                                                                                                                                                                                                                                                                                                                                                                                                                                                                                                                                                                                                                                                                                                                                                                                                                                                                                                                                                                                                                                                                                                                                                                                                                                                                                                                                                                                                                                                                                                                                                                                                                          \n",
       "Unit                [triệu/m², đ/m², tỷ/m²]                                                                                                                                                                                                                                                                                                                                                                                                                                                                                                                                                                                                                                                                                                                                                                                                                                                                                                                                                                                                                                                                                                                                                                                                                                                                                                                                                                                                                                                                                                                                                                                                                                                                                                                                                                                                                                                                                                                                                                                                                                                                                                                                                                                                                                                                                                                                                                                                                                                                                                                                                                                                                                                                                                                                                                                                                                                                                                                                                                                                                                                                                                                                                                                                                                                                                                                                                                                                                                                                                                                                                                                                                                                                                                                                                                                                                                                                                                                                                                                                                                                                                                                                                                                                                                                                                                                                                                                                                                                                                                                                                                                                                                                                                                                                                                                                                                                                                                                                                                                                                                                                                                                                                                                                                                                                                                                                                                                                                                                                                                                                                                                                                                                                                                                                                                                                                                                                                                                                                                                                                                       \n",
       "Ward                [Phường Nghĩa Đô, Phường Kim Giang, Phường Minh Khai, Phường Thụy Khuê, Phường Yên Hoà, Phường Trung Liệt, Phường Đống Mác, Phường Xuân La, Phường Văn Quán, Thị trấn Văn Điển, Phường Định Công, Phường Bồ Đề, Phường Quang Trung, Phường Thanh Lương, Phường Khương Trung, Phường Phúc Tân, Phường Gia Thụy, Phường Khương Đình, Phường Phương Canh, Phường Tương Mai, Phường La Khê, Phường Mễ Trì, Phường Khương Mai, Phường Láng Hạ, Phường Quan Hoa, Phường Tây Mỗ, Phường Ngọc Khánh, Phường Đại Mỗ, Xã Tả Thanh Oai, Phường Mỹ Đình 1, Xã Tam Hiệp, Phường Cống Vị, Phường Bách Khoa, Phường Vĩnh Phúc, Xã Kim Chung, Phường Đại Kim, Phường Mai Động, Phường Trung Tự, Phường Kiến Hưng, Phường Trúc Bạch, Phường Cổ Nhuế 1, Phường Đức Giang, Phường Mỹ Đình 2, Phường Bưởi, Phường Ô Chợ Dừa, Phường Long Biên, Phường Hoàng Văn Thụ, Phường Mai Dịch, Phường Nhân Chính, Phường Vạn Phúc, Phường Ngọc Hà, Phường Lĩnh Nam, Phường Xuân Đỉnh, Phường Phú Đô, Phường Liễu Giai, Thị trấn Phùng, Phường Kim Liên, Phường Phúc Diễn, Phường Kim Mã, Phường Trung Phụng, Phường Tân Mai, Phường Cầu Diễn, Phường Ngã Tư Sở, Phường Trung Văn, Phường Thượng Đình, Phường Hoàng Liệt, Phường Thịnh Liệt, Phường Quốc Tử Giám, Phường Khâm Thiên, Phường Trương Định, Phường Phú Diễn, Phường Thạch Bàn, Phường Ngọc Thụy, Phường Cầu Dền, Phường Phú Lương, Phường Bạch Đằng, Phường Phú La, Phường Hà Cầu, Phường Láng Thượng, Phường Phương Liệt, Phường Vĩnh Hưng, Phường Thanh Nhàn, Phường Cự Khối, Phường Đội Cấn, Phường Thịnh Quang, Phường Trung Hoà, Phường Quỳnh Mai, Phường Nam Đồng, Phường Dịch Vọng Hậu, Phường Nghĩa Tân, Xã Cự Khê, Phường Vĩnh Tuy, Phường Quảng An, Phường Yên Nghĩa, Phường Thành Công, Phường Giáp Bát, Phường Dịch Vọng, Phường Thanh Xuân Bắc, Phường Phương Mai, Phường Bạch Mai, ...]                                                                                                                                                                                                                                                                                                                                                                                                                                                                                                                                                                                                                                                                                                                                                                                                                                                                                                                                                                                                                                                                                                                                                                                                                                                                                                                                                                                                                                                                                                                                                                                                                                                                                                                                                                                                                                                                                                                                                                                                                                                                                                                                                                                                                                                                                                                                                                                                                                                                                                                                                                                                                                                                                                                                                                                                                                                                                                                                                                                                                                                                                                                                                                                                                                                                                                                                                                                                                                                                                                                                                                                                                                                                                                                                                                                                                                                                                                                                                                                                                                                                                                                                                                                                                          "
      ]
     },
     "execution_count": 74,
     "metadata": {},
     "output_type": "execute_result"
    }
   ],
   "source": [
    "cate_cols = ['Address', 'District', 'Ward', 'Type', 'Legal','Number of floors', 'Number of bedrooms', 'Unit']\n",
    "cate_profiles = {'missing_ratio': housing_df[cate_cols].isna().sum() * 100.0/len (housing_df[columns]),\n",
    "                    'num_diff_vals': housing_df[cate_cols].nunique (dropna=True),\n",
    "                    'diff vals': housing_df[cate_cols].stack(dropna=True).groupby(level= [1]). unique (),\n",
    "}\n",
    "cate_col_profiles_df = pd.DataFrame(cate_profiles)#.transpose()\n",
    "cate_col_profiles_df"
   ]
  },
  {
   "attachments": {},
   "cell_type": "markdown",
   "metadata": {},
   "source": [
    "Thông tin các giá trị của các cột `numeric`:"
   ]
  },
  {
   "cell_type": "code",
   "execution_count": 75,
   "metadata": {},
   "outputs": [
    {
     "data": {
      "text/html": [
       "<div>\n",
       "<style scoped>\n",
       "    .dataframe tbody tr th:only-of-type {\n",
       "        vertical-align: middle;\n",
       "    }\n",
       "\n",
       "    .dataframe tbody tr th {\n",
       "        vertical-align: top;\n",
       "    }\n",
       "\n",
       "    .dataframe thead th {\n",
       "        text-align: right;\n",
       "    }\n",
       "</style>\n",
       "<table border=\"1\" class=\"dataframe\">\n",
       "  <thead>\n",
       "    <tr style=\"text-align: right;\">\n",
       "      <th></th>\n",
       "      <th>Length</th>\n",
       "      <th>Price/m2</th>\n",
       "      <th>Width</th>\n",
       "      <th>Date</th>\n",
       "      <th>Area</th>\n",
       "    </tr>\n",
       "  </thead>\n",
       "  <tbody>\n",
       "    <tr>\n",
       "      <th>missing_ratio</th>\n",
       "      <td>75.823019</td>\n",
       "      <td>0.0</td>\n",
       "      <td>56.786768</td>\n",
       "      <td>0.0</td>\n",
       "      <td>0.001224</td>\n",
       "    </tr>\n",
       "    <tr>\n",
       "      <th>min</th>\n",
       "      <td>1.0</td>\n",
       "      <td>0.0</td>\n",
       "      <td>1.0</td>\n",
       "      <td>2019-08-05 00:00:00</td>\n",
       "      <td>1.0</td>\n",
       "    </tr>\n",
       "    <tr>\n",
       "      <th>max</th>\n",
       "      <td>900000.0</td>\n",
       "      <td>728000007280000.0</td>\n",
       "      <td>423432.0</td>\n",
       "      <td>2020-08-05 00:00:00</td>\n",
       "      <td>111411.0</td>\n",
       "    </tr>\n",
       "  </tbody>\n",
       "</table>\n",
       "</div>"
      ],
      "text/plain": [
       "                  Length           Price/m2      Width                 Date  \\\n",
       "missing_ratio  75.823019  0.0                56.786768  0.0                   \n",
       "min            1.0        0.0                1.0        2019-08-05 00:00:00   \n",
       "max            900000.0   728000007280000.0  423432.0   2020-08-05 00:00:00   \n",
       "\n",
       "                   Area  \n",
       "missing_ratio  0.001224  \n",
       "min            1.0       \n",
       "max            111411.0  "
      ]
     },
     "execution_count": 75,
     "metadata": {},
     "output_type": "execute_result"
    }
   ],
   "source": [
    "nume_cols = list(set(housing_df.columns) - set(cate_cols))\n",
    "numeric_profiles = {'missing_ratio': housing_df[nume_cols].isna().sum() * 100.0/len( housing_df[nume_cols]),\n",
    "                        'min':  housing_df[nume_cols].min(),\n",
    "                        'max':  housing_df[nume_cols].max()}\n",
    "numeric_profiles = pd.DataFrame(numeric_profiles).T\n",
    "numeric_profiles"
   ]
  },
  {
   "cell_type": "code",
   "execution_count": 76,
   "metadata": {},
   "outputs": [],
   "source": [
    "housing_df.to_csv(\"./csv/EDA_Preprocessing.csv\", index=False)"
   ]
  },
  {
   "attachments": {},
   "cell_type": "markdown",
   "metadata": {},
   "source": [
    "# **LƯU Ý**<br>\n",
    "- Chỉnh lại kiểu dữ liệu cho cột `Date` nếu tạo file ipynb cho phần `Đặt câu hỏi`"
   ]
  }
 ],
 "metadata": {
  "kernelspec": {
   "display_name": "Python 3.8.8 ('min_ds-env')",
   "language": "python",
   "name": "python3"
  },
  "language_info": {
   "codemirror_mode": {
    "name": "ipython",
    "version": 3
   },
   "file_extension": ".py",
   "mimetype": "text/x-python",
   "name": "python",
   "nbconvert_exporter": "python",
   "pygments_lexer": "ipython3",
   "version": "3.8.8"
  },
  "orig_nbformat": 4,
  "vscode": {
   "interpreter": {
    "hash": "253e2d80dc30998fec88ffb353dcbbc92af38cf6c623305f8c9f55dc52cc2579"
   }
  }
 },
 "nbformat": 4,
 "nbformat_minor": 2
}
