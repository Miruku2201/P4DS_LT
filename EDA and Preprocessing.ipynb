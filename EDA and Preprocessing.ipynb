{
 "cells": [
  {
   "attachments": {},
   "cell_type": "markdown",
   "metadata": {},
   "source": [
    "# **<p style = \"text-align: center\">LẬP TRÌNH KHOA HỌC DỮ LIỆU</p>**\n",
    "## **<p style = \"text-align: center\">Đồ án Cuối kì</p>**\n",
    "## **<p style = \"text-align: center\">KHÁM PHÁ VÀ TIỀN XỬ LÝ DỮ LIỆU</p>**\n",
    "### <p style = \"text-align: center\"> <b>Đề tài:</b> KHÁM PHÁ, THỐNG KÊ CỦA TOP CÁC CA KHÚC TRÊN SPOTIFY</p>\n",
    "<p style = \"text-align: center\"> Sinh viên thực hiện </p>\n",
    "\n",
    "| Mã số sinh viên | Họ và tên |\n",
    "| --- | --- |\n",
    "| 20120040 | Nguyễn Quang Gia Bảo |\n",
    "| 20120127 | Trần Minh Tuấn Kiệt |\n",
    "| 20120136 | Huỳnh Tuấn Nam |\n",
    "| 20120158 | Trần Hoàng Anh Phi |"
   ]
  },
  {
   "attachments": {},
   "cell_type": "markdown",
   "metadata": {},
   "source": [
    "---"
   ]
  },
  {
   "attachments": {},
   "cell_type": "markdown",
   "metadata": {},
   "source": [
    "# **Install the package**"
   ]
  },
  {
   "attachments": {},
   "cell_type": "markdown",
   "metadata": {},
   "source": [
    "# **Import the package**"
   ]
  },
  {
   "cell_type": "code",
   "execution_count": 1545,
   "metadata": {},
   "outputs": [],
   "source": [
    "import pandas as pd\n",
    "import numpy as np\n",
    "import matplotlib.pyplot as plt\n",
    "import seaborn as sns"
   ]
  },
  {
   "attachments": {},
   "cell_type": "markdown",
   "metadata": {},
   "source": [
    "# **Setting**"
   ]
  },
  {
   "cell_type": "code",
   "execution_count": 1546,
   "metadata": {},
   "outputs": [],
   "source": [
    "sns.set_style(\"ticks\")\n",
    "a4size = (11.7, 8.27)\n",
    "a2size = (16.5, 23.4)\n",
    "a2size_ls = (23.4, 16.5)"
   ]
  },
  {
   "attachments": {},
   "cell_type": "markdown",
   "metadata": {},
   "source": [
    "# **Information of dataset**"
   ]
  },
  {
   "attachments": {},
   "cell_type": "markdown",
   "metadata": {},
   "source": [
    "- Dataset được lấy từ <a href = \"https://www.kaggle.com\"> Kaggle </a>. <br>\n",
    "- Dataset là thông tin giá cả của những căn nhà ở Hà Nội thông qua các đặc điểm của một căn nhà.<br>\n",
    "- Trang của Dataset <a herf = \"https://www.kaggle.com/datasets/ladcva/vietnam-housing-dataset-hanoi\"> https://www.kaggle.com/datasets/ladcva/vietnam-housing-dataset-hanoi</a>. <br>\n",
    "- Tác giả của Dataset: LE ANH DUC. <br>\n",
    "- License: CC BY-NC-SA 4.0\n"
   ]
  },
  {
   "attachments": {},
   "cell_type": "markdown",
   "metadata": {},
   "source": [
    "---"
   ]
  },
  {
   "attachments": {},
   "cell_type": "markdown",
   "metadata": {},
   "source": [
    "# **EDA and Preprocessing**"
   ]
  },
  {
   "attachments": {},
   "cell_type": "markdown",
   "metadata": {},
   "source": [
    "Dataset sau khi download về được lưu trong thư mục csv <br>\n",
    "\n",
    "Đưa dữ liệu DataFrame vào biến `housing_df`"
   ]
  },
  {
   "cell_type": "code",
   "execution_count": 1547,
   "metadata": {},
   "outputs": [],
   "source": [
    "housing_df = pd.read_csv(\"csv/VN_housing.csv\")"
   ]
  },
  {
   "cell_type": "code",
   "execution_count": 1548,
   "metadata": {},
   "outputs": [
    {
     "data": {
      "text/html": [
       "<div>\n",
       "<style scoped>\n",
       "    .dataframe tbody tr th:only-of-type {\n",
       "        vertical-align: middle;\n",
       "    }\n",
       "\n",
       "    .dataframe tbody tr th {\n",
       "        vertical-align: top;\n",
       "    }\n",
       "\n",
       "    .dataframe thead th {\n",
       "        text-align: right;\n",
       "    }\n",
       "</style>\n",
       "<table border=\"1\" class=\"dataframe\">\n",
       "  <thead>\n",
       "    <tr style=\"text-align: right;\">\n",
       "      <th></th>\n",
       "      <th>Unnamed: 0</th>\n",
       "      <th>Ngày</th>\n",
       "      <th>Địa chỉ</th>\n",
       "      <th>Quận</th>\n",
       "      <th>Huyện</th>\n",
       "      <th>Loại hình nhà ở</th>\n",
       "      <th>Giấy tờ pháp lý</th>\n",
       "      <th>Số tầng</th>\n",
       "      <th>Số phòng ngủ</th>\n",
       "      <th>Diện tích</th>\n",
       "      <th>Dài</th>\n",
       "      <th>Rộng</th>\n",
       "      <th>Giá/m2</th>\n",
       "    </tr>\n",
       "  </thead>\n",
       "  <tbody>\n",
       "    <tr>\n",
       "      <th>0</th>\n",
       "      <td>0.0</td>\n",
       "      <td>2020-08-05</td>\n",
       "      <td>Đường Hoàng Quốc Việt, Phường Nghĩa Đô, Quận Cầu Giấy, Hà Nội</td>\n",
       "      <td>Quận Cầu Giấy</td>\n",
       "      <td>Phường Nghĩa Đô</td>\n",
       "      <td>Nhà ngõ, hẻm</td>\n",
       "      <td>Đã có sổ</td>\n",
       "      <td>4</td>\n",
       "      <td>5 phòng</td>\n",
       "      <td>46 m²</td>\n",
       "      <td>NaN</td>\n",
       "      <td>NaN</td>\n",
       "      <td>86,96 triệu/m²</td>\n",
       "    </tr>\n",
       "    <tr>\n",
       "      <th>1</th>\n",
       "      <td>1.0</td>\n",
       "      <td>2020-08-05</td>\n",
       "      <td>Đường Kim Giang, Phường Kim Giang, Quận Thanh Xuân, Hà Nội</td>\n",
       "      <td>Quận Thanh Xuân</td>\n",
       "      <td>Phường Kim Giang</td>\n",
       "      <td>Nhà mặt phố, mặt tiền</td>\n",
       "      <td>NaN</td>\n",
       "      <td>NaN</td>\n",
       "      <td>3 phòng</td>\n",
       "      <td>37 m²</td>\n",
       "      <td>NaN</td>\n",
       "      <td>NaN</td>\n",
       "      <td>116,22 triệu/m²</td>\n",
       "    </tr>\n",
       "    <tr>\n",
       "      <th>2</th>\n",
       "      <td>2.0</td>\n",
       "      <td>2020-08-05</td>\n",
       "      <td>phố minh khai, Phường Minh Khai, Quận Hai Bà Trưng, Hà Nội</td>\n",
       "      <td>Quận Hai Bà Trưng</td>\n",
       "      <td>Phường Minh Khai</td>\n",
       "      <td>Nhà ngõ, hẻm</td>\n",
       "      <td>Đã có sổ</td>\n",
       "      <td>4</td>\n",
       "      <td>4 phòng</td>\n",
       "      <td>40 m²</td>\n",
       "      <td>10 m</td>\n",
       "      <td>4 m</td>\n",
       "      <td>65 triệu/m²</td>\n",
       "    </tr>\n",
       "    <tr>\n",
       "      <th>3</th>\n",
       "      <td>3.0</td>\n",
       "      <td>2020-08-05</td>\n",
       "      <td>Đường Võng Thị, Phường Thụy Khuê, Quận Tây Hồ, Hà Nội</td>\n",
       "      <td>Quận Tây Hồ</td>\n",
       "      <td>Phường Thụy Khuê</td>\n",
       "      <td>Nhà ngõ, hẻm</td>\n",
       "      <td>Đã có sổ</td>\n",
       "      <td>NaN</td>\n",
       "      <td>6 phòng</td>\n",
       "      <td>51 m²</td>\n",
       "      <td>12.75 m</td>\n",
       "      <td>4 m</td>\n",
       "      <td>100 triệu/m²</td>\n",
       "    </tr>\n",
       "    <tr>\n",
       "      <th>4</th>\n",
       "      <td>4.0</td>\n",
       "      <td>2020-08-05</td>\n",
       "      <td>Đường Kim Giang, Phường Kim Giang, Quận Thanh Xuân, Hà Nội</td>\n",
       "      <td>Quận Thanh Xuân</td>\n",
       "      <td>Phường Kim Giang</td>\n",
       "      <td>Nhà ngõ, hẻm</td>\n",
       "      <td>NaN</td>\n",
       "      <td>NaN</td>\n",
       "      <td>4 phòng</td>\n",
       "      <td>36 m²</td>\n",
       "      <td>9 m</td>\n",
       "      <td>4 m</td>\n",
       "      <td>86,11 triệu/m²</td>\n",
       "    </tr>\n",
       "  </tbody>\n",
       "</table>\n",
       "</div>"
      ],
      "text/plain": [
       "   Unnamed: 0        Ngày  \\\n",
       "0  0.0         2020-08-05   \n",
       "1  1.0         2020-08-05   \n",
       "2  2.0         2020-08-05   \n",
       "3  3.0         2020-08-05   \n",
       "4  4.0         2020-08-05   \n",
       "\n",
       "                                                         Địa chỉ  \\\n",
       "0  Đường Hoàng Quốc Việt, Phường Nghĩa Đô, Quận Cầu Giấy, Hà Nội   \n",
       "1  Đường Kim Giang, Phường Kim Giang, Quận Thanh Xuân, Hà Nội      \n",
       "2  phố minh khai, Phường Minh Khai, Quận Hai Bà Trưng, Hà Nội      \n",
       "3  Đường Võng Thị, Phường Thụy Khuê, Quận Tây Hồ, Hà Nội           \n",
       "4  Đường Kim Giang, Phường Kim Giang, Quận Thanh Xuân, Hà Nội      \n",
       "\n",
       "                Quận             Huyện        Loại hình nhà ở Giấy tờ pháp lý  \\\n",
       "0  Quận Cầu Giấy      Phường Nghĩa Đô   Nhà ngõ, hẻm           Đã có sổ         \n",
       "1  Quận Thanh Xuân    Phường Kim Giang  Nhà mặt phố, mặt tiền  NaN              \n",
       "2  Quận Hai Bà Trưng  Phường Minh Khai  Nhà ngõ, hẻm           Đã có sổ         \n",
       "3  Quận Tây Hồ        Phường Thụy Khuê  Nhà ngõ, hẻm           Đã có sổ         \n",
       "4  Quận Thanh Xuân    Phường Kim Giang  Nhà ngõ, hẻm           NaN              \n",
       "\n",
       "  Số tầng Số phòng ngủ Diện tích      Dài Rộng           Giá/m2  \n",
       "0  4       5 phòng      46 m²     NaN      NaN  86,96 triệu/m²   \n",
       "1  NaN     3 phòng      37 m²     NaN      NaN  116,22 triệu/m²  \n",
       "2  4       4 phòng      40 m²     10 m     4 m  65 triệu/m²      \n",
       "3  NaN     6 phòng      51 m²     12.75 m  4 m  100 triệu/m²     \n",
       "4  NaN     4 phòng      36 m²     9 m      4 m  86,11 triệu/m²   "
      ]
     },
     "execution_count": 1548,
     "metadata": {},
     "output_type": "execute_result"
    }
   ],
   "source": [
    "housing_df.head()"
   ]
  },
  {
   "attachments": {},
   "cell_type": "markdown",
   "metadata": {},
   "source": [
    "### **1. Khám phá, tiền xử lí cho toàn bộ dữ liệu**"
   ]
  },
  {
   "attachments": {},
   "cell_type": "markdown",
   "metadata": {},
   "source": [
    "- **1.1 Số chiều của DataFrame**"
   ]
  },
  {
   "cell_type": "code",
   "execution_count": 1549,
   "metadata": {},
   "outputs": [
    {
     "data": {
      "text/plain": [
       "(82497, 13)"
      ]
     },
     "execution_count": 1549,
     "metadata": {},
     "output_type": "execute_result"
    }
   ],
   "source": [
    "housing_df.shape"
   ]
  },
  {
   "attachments": {},
   "cell_type": "markdown",
   "metadata": {},
   "source": [
    "Dữ liệu gồm có `82497` dòng và `13` cột"
   ]
  },
  {
   "attachments": {},
   "cell_type": "markdown",
   "metadata": {},
   "source": [
    "- **1.2 Các dòng của Dataframe**"
   ]
  },
  {
   "cell_type": "code",
   "execution_count": 1550,
   "metadata": {},
   "outputs": [
    {
     "data": {
      "image/png": "[encoded data removed]",
      "text/plain": [
       "<Figure size 640x480 with 1 Axes>"
      ]
     },
     "metadata": {},
     "output_type": "display_data"
    }
   ],
   "source": [
    "num_duplicated = housing_df.duplicated().sum()\n",
    "duplicated_df = pd.Series({\n",
    "    \"num_duplicated\": num_duplicated,\n",
    "    \"num_nonduplicated\": housing_df.shape[0] - num_duplicated\n",
    "}).to_frame()\n",
    "\n",
    "fig, ax = plt.subplots()\n",
    "duplicated_df.plot.bar(rot = 0, ax = ax)\n",
    "for i in ax.containers:\n",
    "    ax.bar_label(i,)\n",
    "\n",
    "plt.show()"
   ]
  },
  {
   "attachments": {},
   "cell_type": "markdown",
   "metadata": {},
   "source": [
    "Không có cột nào bị trùng."
   ]
  },
  {
   "attachments": {},
   "cell_type": "markdown",
   "metadata": {},
   "source": [
    "- **1.3 Các cột của Dataframe**"
   ]
  },
  {
   "cell_type": "code",
   "execution_count": 1551,
   "metadata": {},
   "outputs": [
    {
     "data": {
      "text/plain": [
       "Index(['Unnamed: 0', 'Ngày', 'Địa chỉ', 'Quận', 'Huyện', 'Loại hình nhà ở',\n",
       "       'Giấy tờ pháp lý', 'Số tầng', 'Số phòng ngủ', 'Diện tích', 'Dài',\n",
       "       'Rộng', 'Giá/m2'],\n",
       "      dtype='object')"
      ]
     },
     "execution_count": 1551,
     "metadata": {},
     "output_type": "execute_result"
    }
   ],
   "source": [
    "housing_df.columns"
   ]
  },
  {
   "attachments": {},
   "cell_type": "markdown",
   "metadata": {},
   "source": [
    "##### **Cột `Unnamed: 0` có vẻ là cột giống index, nên xóa nó thôi.**"
   ]
  },
  {
   "cell_type": "code",
   "execution_count": 1552,
   "metadata": {},
   "outputs": [],
   "source": [
    "housing_df = housing_df.drop([\"Unnamed: 0\"], axis = 1)"
   ]
  },
  {
   "attachments": {},
   "cell_type": "markdown",
   "metadata": {},
   "source": [
    "##### **Vì các cột có tên Tiếng Việt có dấu, nên có một ít \"khó chịu\" trong quá trình thực hiện đồ án. Nên ta sẽ thay đổi các tên cột.**\n"
   ]
  },
  {
   "cell_type": "code",
   "execution_count": 1553,
   "metadata": {},
   "outputs": [],
   "source": [
    "housing_df = housing_df.rename(columns = {\n",
    "    \"Ngày\": \"Date\",\n",
    "    \"Địa chỉ\": \"Address\",\n",
    "    \"Quận\": \"District\", # Quận\n",
    "    \"Huyện\": \"Ward\", # Phường, Huyện\n",
    "    \"Loại hình nhà ở\": \"Type\",\n",
    "    \"Giấy tờ pháp lý\": \"Legal\",\n",
    "    \"Số tầng\": \"Number of floors\",\n",
    "    \"Số phòng ngủ\": \"Number of bedrooms\",\n",
    "    \"Diện tích\": \"Area\",\n",
    "    \"Dài\": \"Length\",\n",
    "    \"Rộng\": \"Width\",\n",
    "    \"Giá/m2\": \"Price/m2\"\n",
    "})"
   ]
  },
  {
   "cell_type": "code",
   "execution_count": 1554,
   "metadata": {},
   "outputs": [
    {
     "data": {
      "text/html": [
       "<div>\n",
       "<style scoped>\n",
       "    .dataframe tbody tr th:only-of-type {\n",
       "        vertical-align: middle;\n",
       "    }\n",
       "\n",
       "    .dataframe tbody tr th {\n",
       "        vertical-align: top;\n",
       "    }\n",
       "\n",
       "    .dataframe thead th {\n",
       "        text-align: right;\n",
       "    }\n",
       "</style>\n",
       "<table border=\"1\" class=\"dataframe\">\n",
       "  <thead>\n",
       "    <tr style=\"text-align: right;\">\n",
       "      <th></th>\n",
       "      <th>num_missing</th>\n",
       "      <th>missing_ratio (%)</th>\n",
       "    </tr>\n",
       "  </thead>\n",
       "  <tbody>\n",
       "    <tr>\n",
       "      <th>Date</th>\n",
       "      <td>1</td>\n",
       "      <td>0.001212</td>\n",
       "    </tr>\n",
       "    <tr>\n",
       "      <th>Address</th>\n",
       "      <td>48</td>\n",
       "      <td>0.058184</td>\n",
       "    </tr>\n",
       "    <tr>\n",
       "      <th>District</th>\n",
       "      <td>2</td>\n",
       "      <td>0.002424</td>\n",
       "    </tr>\n",
       "    <tr>\n",
       "      <th>Ward</th>\n",
       "      <td>48</td>\n",
       "      <td>0.058184</td>\n",
       "    </tr>\n",
       "    <tr>\n",
       "      <th>Type</th>\n",
       "      <td>32</td>\n",
       "      <td>0.038789</td>\n",
       "    </tr>\n",
       "    <tr>\n",
       "      <th>Legal</th>\n",
       "      <td>28887</td>\n",
       "      <td>35.015819</td>\n",
       "    </tr>\n",
       "    <tr>\n",
       "      <th>Number of floors</th>\n",
       "      <td>46098</td>\n",
       "      <td>55.878396</td>\n",
       "    </tr>\n",
       "    <tr>\n",
       "      <th>Number of bedrooms</th>\n",
       "      <td>39</td>\n",
       "      <td>0.047274</td>\n",
       "    </tr>\n",
       "    <tr>\n",
       "      <th>Area</th>\n",
       "      <td>2</td>\n",
       "      <td>0.002424</td>\n",
       "    </tr>\n",
       "    <tr>\n",
       "      <th>Length</th>\n",
       "      <td>62670</td>\n",
       "      <td>75.966399</td>\n",
       "    </tr>\n",
       "    <tr>\n",
       "      <th>Width</th>\n",
       "      <td>47052</td>\n",
       "      <td>57.034801</td>\n",
       "    </tr>\n",
       "    <tr>\n",
       "      <th>Price/m2</th>\n",
       "      <td>13</td>\n",
       "      <td>0.015758</td>\n",
       "    </tr>\n",
       "  </tbody>\n",
       "</table>\n",
       "</div>"
      ],
      "text/plain": [
       "                    num_missing  missing_ratio (%)\n",
       "Date                1            0.001212         \n",
       "Address             48           0.058184         \n",
       "District            2            0.002424         \n",
       "Ward                48           0.058184         \n",
       "Type                32           0.038789         \n",
       "Legal               28887        35.015819        \n",
       "Number of floors    46098        55.878396        \n",
       "Number of bedrooms  39           0.047274         \n",
       "Area                2            0.002424         \n",
       "Length              62670        75.966399        \n",
       "Width               47052        57.034801        \n",
       "Price/m2            13           0.015758         "
      ]
     },
     "execution_count": 1554,
     "metadata": {},
     "output_type": "execute_result"
    }
   ],
   "source": [
    "missing_dictionary = {\n",
    "    \"num_missing\": housing_df.isna().sum(),\n",
    "    \"missing_ratio (%)\": housing_df.isna().sum()*100/len(housing_df)\n",
    "}\n",
    "missing_df = pd.DataFrame(missing_dictionary)\n",
    "missing_df"
   ]
  },
  {
   "cell_type": "code",
   "execution_count": 1555,
   "metadata": {},
   "outputs": [
    {
     "data": {
      "image/png": "[encoded data removed]",
      "text/plain": [
       "<Figure size 1170x827 with 1 Axes>"
      ]
     },
     "metadata": {},
     "output_type": "display_data"
    }
   ],
   "source": [
    "fig, ax = plt.subplots()\n",
    "#The size of A4 paper\n",
    "fig.set_size_inches(11.7, 8.27)\n",
    "sns.barplot(y = missing_df[\"num_missing\"], x = missing_df.index, data = missing_df, ax = ax)\n",
    "#Set rotation of x label\n",
    "ax.tick_params(axis = 'x', rotation = 45)\n",
    "\n",
    "#Add the value for each container\n",
    "for i in ax.containers:\n",
    "    ax.bar_label(i,)\n",
    "plt.show()"
   ]
  },
  {
   "attachments": {},
   "cell_type": "markdown",
   "metadata": {},
   "source": [
    "**Nhận xét**<br>\n",
    "Các cột `Legal`, `Number of floors`, `Length`, `Width` có dữ liệu thiếu rất nhiều."
   ]
  },
  {
   "attachments": {},
   "cell_type": "markdown",
   "metadata": {},
   "source": [
    "##### **Tìm hiểu có những kiểu dữ liệu gì bên trong một cột**"
   ]
  },
  {
   "cell_type": "code",
   "execution_count": 1556,
   "metadata": {},
   "outputs": [],
   "source": [
    "def open_object_dtype(series):\n",
    "    setType = list(set(series.apply(lambda x: type(x))))\n",
    "    return setType"
   ]
  },
  {
   "cell_type": "code",
   "execution_count": 1557,
   "metadata": {},
   "outputs": [
    {
     "data": {
      "text/html": [
       "<div>\n",
       "<style scoped>\n",
       "    .dataframe tbody tr th:only-of-type {\n",
       "        vertical-align: middle;\n",
       "    }\n",
       "\n",
       "    .dataframe tbody tr th {\n",
       "        vertical-align: top;\n",
       "    }\n",
       "\n",
       "    .dataframe thead th {\n",
       "        text-align: right;\n",
       "    }\n",
       "</style>\n",
       "<table border=\"1\" class=\"dataframe\">\n",
       "  <thead>\n",
       "    <tr style=\"text-align: right;\">\n",
       "      <th></th>\n",
       "      <th>Date</th>\n",
       "      <th>Address</th>\n",
       "      <th>District</th>\n",
       "      <th>Ward</th>\n",
       "      <th>Type</th>\n",
       "      <th>Legal</th>\n",
       "      <th>Number of floors</th>\n",
       "      <th>Number of bedrooms</th>\n",
       "      <th>Area</th>\n",
       "      <th>Length</th>\n",
       "      <th>Width</th>\n",
       "      <th>Price/m2</th>\n",
       "    </tr>\n",
       "  </thead>\n",
       "  <tbody>\n",
       "    <tr>\n",
       "      <th>0</th>\n",
       "      <td>&lt;class 'float'&gt;</td>\n",
       "      <td>&lt;class 'float'&gt;</td>\n",
       "      <td>&lt;class 'float'&gt;</td>\n",
       "      <td>&lt;class 'float'&gt;</td>\n",
       "      <td>&lt;class 'float'&gt;</td>\n",
       "      <td>&lt;class 'float'&gt;</td>\n",
       "      <td>&lt;class 'float'&gt;</td>\n",
       "      <td>&lt;class 'float'&gt;</td>\n",
       "      <td>&lt;class 'float'&gt;</td>\n",
       "      <td>&lt;class 'float'&gt;</td>\n",
       "      <td>&lt;class 'float'&gt;</td>\n",
       "      <td>&lt;class 'float'&gt;</td>\n",
       "    </tr>\n",
       "    <tr>\n",
       "      <th>1</th>\n",
       "      <td>&lt;class 'str'&gt;</td>\n",
       "      <td>&lt;class 'str'&gt;</td>\n",
       "      <td>&lt;class 'str'&gt;</td>\n",
       "      <td>&lt;class 'str'&gt;</td>\n",
       "      <td>&lt;class 'str'&gt;</td>\n",
       "      <td>&lt;class 'str'&gt;</td>\n",
       "      <td>&lt;class 'str'&gt;</td>\n",
       "      <td>&lt;class 'str'&gt;</td>\n",
       "      <td>&lt;class 'str'&gt;</td>\n",
       "      <td>&lt;class 'str'&gt;</td>\n",
       "      <td>&lt;class 'str'&gt;</td>\n",
       "      <td>&lt;class 'str'&gt;</td>\n",
       "    </tr>\n",
       "  </tbody>\n",
       "</table>\n",
       "</div>"
      ],
      "text/plain": [
       "              Date          Address         District             Ward  \\\n",
       "0  <class 'float'>  <class 'float'>  <class 'float'>  <class 'float'>   \n",
       "1  <class 'str'>    <class 'str'>    <class 'str'>    <class 'str'>     \n",
       "\n",
       "              Type            Legal Number of floors Number of bedrooms  \\\n",
       "0  <class 'float'>  <class 'float'>  <class 'float'>  <class 'float'>     \n",
       "1  <class 'str'>    <class 'str'>    <class 'str'>    <class 'str'>       \n",
       "\n",
       "              Area           Length            Width         Price/m2  \n",
       "0  <class 'float'>  <class 'float'>  <class 'float'>  <class 'float'>  \n",
       "1  <class 'str'>    <class 'str'>    <class 'str'>    <class 'str'>    "
      ]
     },
     "execution_count": 1557,
     "metadata": {},
     "output_type": "execute_result"
    }
   ],
   "source": [
    "columns = housing_df.columns\n",
    "housing_df[columns].apply(open_object_dtype)"
   ]
  },
  {
   "attachments": {},
   "cell_type": "markdown",
   "metadata": {},
   "source": [
    "Tất cả các cột đều có 2 kiểu dữ liệu là `float` và `string`. <br>\n",
    "Truy xuất vào từng cột dữ liệu `nghi ngờ` để khám phá và xử lí nó"
   ]
  },
  {
   "attachments": {},
   "cell_type": "markdown",
   "metadata": {},
   "source": [
    "##### **Tìm hiểu từng cột dữ liệu**"
   ]
  },
  {
   "attachments": {},
   "cell_type": "markdown",
   "metadata": {},
   "source": [
    "- **Date**<br>"
   ]
  },
  {
   "cell_type": "code",
   "execution_count": 1558,
   "metadata": {},
   "outputs": [],
   "source": [
    "dates = housing_df.Date.copy()"
   ]
  },
  {
   "cell_type": "code",
   "execution_count": 1559,
   "metadata": {},
   "outputs": [
    {
     "data": {
      "text/plain": [
       "0    2020-08-05\n",
       "1    2020-08-05\n",
       "2    2020-08-05\n",
       "3    2020-08-05\n",
       "4    2020-08-05\n",
       "Name: Date, dtype: object"
      ]
     },
     "execution_count": 1559,
     "metadata": {},
     "output_type": "execute_result"
    }
   ],
   "source": [
    "dates.head(5)"
   ]
  },
  {
   "attachments": {},
   "cell_type": "markdown",
   "metadata": {},
   "source": [
    "Có một giá trị trong cột này bị thiếu."
   ]
  },
  {
   "cell_type": "code",
   "execution_count": 1560,
   "metadata": {},
   "outputs": [
    {
     "data": {
      "text/html": [
       "<div>\n",
       "<style scoped>\n",
       "    .dataframe tbody tr th:only-of-type {\n",
       "        vertical-align: middle;\n",
       "    }\n",
       "\n",
       "    .dataframe tbody tr th {\n",
       "        vertical-align: top;\n",
       "    }\n",
       "\n",
       "    .dataframe thead th {\n",
       "        text-align: right;\n",
       "    }\n",
       "</style>\n",
       "<table border=\"1\" class=\"dataframe\">\n",
       "  <thead>\n",
       "    <tr style=\"text-align: right;\">\n",
       "      <th></th>\n",
       "      <th>Date</th>\n",
       "      <th>Address</th>\n",
       "      <th>District</th>\n",
       "      <th>Ward</th>\n",
       "      <th>Type</th>\n",
       "      <th>Legal</th>\n",
       "      <th>Number of floors</th>\n",
       "      <th>Number of bedrooms</th>\n",
       "      <th>Area</th>\n",
       "      <th>Length</th>\n",
       "      <th>Width</th>\n",
       "      <th>Price/m2</th>\n",
       "    </tr>\n",
       "  </thead>\n",
       "  <tbody>\n",
       "    <tr>\n",
       "      <th>82496</th>\n",
       "      <td>NaN</td>\n",
       "      <td>NaN</td>\n",
       "      <td>NaN</td>\n",
       "      <td>NaN</td>\n",
       "      <td>NaN</td>\n",
       "      <td>NaN</td>\n",
       "      <td>NaN</td>\n",
       "      <td>NaN</td>\n",
       "      <td>NaN</td>\n",
       "      <td>NaN</td>\n",
       "      <td>NaN</td>\n",
       "      <td>NaN</td>\n",
       "    </tr>\n",
       "  </tbody>\n",
       "</table>\n",
       "</div>"
      ],
      "text/plain": [
       "      Date Address District Ward Type Legal Number of floors  \\\n",
       "82496  NaN  NaN     NaN      NaN  NaN  NaN   NaN               \n",
       "\n",
       "      Number of bedrooms Area Length Width Price/m2  \n",
       "82496  NaN                NaN  NaN    NaN   NaN      "
      ]
     },
     "execution_count": 1560,
     "metadata": {},
     "output_type": "execute_result"
    }
   ],
   "source": [
    "housing_df[housing_df.Date.isna()]"
   ]
  },
  {
   "attachments": {},
   "cell_type": "markdown",
   "metadata": {},
   "source": [
    "Chỉ số `index` của dòng này bằng với số lượng dòng của Dataframe - 1<br>\n",
    "Nên đây là dòng cuối cùng của Dataframe. Và đây là dòng duy nhất bị full `NaN`"
   ]
  },
  {
   "attachments": {},
   "cell_type": "markdown",
   "metadata": {},
   "source": [
    "**Xóa dòng cuối cùng của Dataframe**"
   ]
  },
  {
   "cell_type": "code",
   "execution_count": 1561,
   "metadata": {},
   "outputs": [],
   "source": [
    "housing_df = housing_df.iloc[:-1]"
   ]
  },
  {
   "attachments": {},
   "cell_type": "markdown",
   "metadata": {},
   "source": [
    "**Theo quan sát, cột `Date` chứa thông tin của các ngày, tuy nhiên kiểu dữ liệu của cột này là `object`. Nên cần thay đổi kiểu dữ liệu của cột này thành `datetime`.**"
   ]
  },
  {
   "cell_type": "code",
   "execution_count": 1562,
   "metadata": {},
   "outputs": [],
   "source": [
    "housing_df.Date = pd.to_datetime(housing_df.Date, errors = 'coerce')"
   ]
  },
  {
   "cell_type": "code",
   "execution_count": 1563,
   "metadata": {},
   "outputs": [
    {
     "data": {
      "image/png": "[encoded data removed]",
      "text/plain": [
       "<Figure size 1170x827 with 1 Axes>"
      ]
     },
     "metadata": {},
     "output_type": "display_data"
    }
   ],
   "source": [
    "nat_df = pd.Series({\n",
    "    \"num_NaT\": housing_df.Date.isnull().sum(),\n",
    "    \"num_nonNaT\": len(housing_df) -  housing_df.Date.isnull().sum()\n",
    "})\n",
    "\n",
    "fig, ax  = plt.subplots()\n",
    "fig.set_size_inches(a4size)\n",
    "\n",
    "nat_df.plot.bar(rot = 0, ax = ax)\n",
    "for i in ax.containers:\n",
    "    ax.bar_label(i,)\n",
    "plt.show()\n"
   ]
  },
  {
   "cell_type": "code",
   "execution_count": 1564,
   "metadata": {},
   "outputs": [
    {
     "data": {
      "text/plain": [
       "Date    datetime64[ns]\n",
       "dtype: object"
      ]
     },
     "execution_count": 1564,
     "metadata": {},
     "output_type": "execute_result"
    }
   ],
   "source": [
    "housing_df.Date.to_frame().dtypes"
   ]
  },
  {
   "attachments": {},
   "cell_type": "markdown",
   "metadata": {},
   "source": [
    "Như vậy các giá trị của cột `Date` đều đã chuyển đổi thành công sang kiểu dữ liệu `datetime`  và không có dữ liệu nào là `NaT`"
   ]
  },
  {
   "attachments": {},
   "cell_type": "markdown",
   "metadata": {},
   "source": [
    "- **Address - District - Ward**<br>"
   ]
  },
  {
   "cell_type": "code",
   "execution_count": 1565,
   "metadata": {},
   "outputs": [],
   "source": [
    "columns = [\"Address\", \"District\", \"Ward\"]"
   ]
  },
  {
   "cell_type": "code",
   "execution_count": 1566,
   "metadata": {},
   "outputs": [],
   "source": [
    "address_df = housing_df[columns].copy()"
   ]
  },
  {
   "cell_type": "code",
   "execution_count": 1567,
   "metadata": {},
   "outputs": [
    {
     "data": {
      "text/html": [
       "<div>\n",
       "<style scoped>\n",
       "    .dataframe tbody tr th:only-of-type {\n",
       "        vertical-align: middle;\n",
       "    }\n",
       "\n",
       "    .dataframe tbody tr th {\n",
       "        vertical-align: top;\n",
       "    }\n",
       "\n",
       "    .dataframe thead th {\n",
       "        text-align: right;\n",
       "    }\n",
       "</style>\n",
       "<table border=\"1\" class=\"dataframe\">\n",
       "  <thead>\n",
       "    <tr style=\"text-align: right;\">\n",
       "      <th></th>\n",
       "      <th>Address</th>\n",
       "      <th>District</th>\n",
       "      <th>Ward</th>\n",
       "    </tr>\n",
       "  </thead>\n",
       "  <tbody>\n",
       "    <tr>\n",
       "      <th>0</th>\n",
       "      <td>Đường Hoàng Quốc Việt, Phường Nghĩa Đô, Quận Cầu Giấy, Hà Nội</td>\n",
       "      <td>Quận Cầu Giấy</td>\n",
       "      <td>Phường Nghĩa Đô</td>\n",
       "    </tr>\n",
       "    <tr>\n",
       "      <th>1</th>\n",
       "      <td>Đường Kim Giang, Phường Kim Giang, Quận Thanh Xuân, Hà Nội</td>\n",
       "      <td>Quận Thanh Xuân</td>\n",
       "      <td>Phường Kim Giang</td>\n",
       "    </tr>\n",
       "    <tr>\n",
       "      <th>2</th>\n",
       "      <td>phố minh khai, Phường Minh Khai, Quận Hai Bà Trưng, Hà Nội</td>\n",
       "      <td>Quận Hai Bà Trưng</td>\n",
       "      <td>Phường Minh Khai</td>\n",
       "    </tr>\n",
       "    <tr>\n",
       "      <th>3</th>\n",
       "      <td>Đường Võng Thị, Phường Thụy Khuê, Quận Tây Hồ, Hà Nội</td>\n",
       "      <td>Quận Tây Hồ</td>\n",
       "      <td>Phường Thụy Khuê</td>\n",
       "    </tr>\n",
       "    <tr>\n",
       "      <th>4</th>\n",
       "      <td>Đường Kim Giang, Phường Kim Giang, Quận Thanh Xuân, Hà Nội</td>\n",
       "      <td>Quận Thanh Xuân</td>\n",
       "      <td>Phường Kim Giang</td>\n",
       "    </tr>\n",
       "    <tr>\n",
       "      <th>...</th>\n",
       "      <td>...</td>\n",
       "      <td>...</td>\n",
       "      <td>...</td>\n",
       "    </tr>\n",
       "    <tr>\n",
       "      <th>82491</th>\n",
       "      <td>Đường Hồ Tùng Mậu, Phường Phúc Diễn, Quận Bắc Từ Liêm, Hà Nội</td>\n",
       "      <td>Quận Bắc Từ Liêm</td>\n",
       "      <td>Phường Phúc Diễn</td>\n",
       "    </tr>\n",
       "    <tr>\n",
       "      <th>82492</th>\n",
       "      <td>Đường Trần Quốc Hoàn, Phường Quan Hoa, Quận Cầu Giấy, Hà Nội</td>\n",
       "      <td>Quận Cầu Giấy</td>\n",
       "      <td>Phường Quan Hoa</td>\n",
       "    </tr>\n",
       "    <tr>\n",
       "      <th>82493</th>\n",
       "      <td>Đường Nguyễn Khánh Toàn, Phường Quan Hoa, Quận Cầu Giấy, Hà Nội</td>\n",
       "      <td>Quận Cầu Giấy</td>\n",
       "      <td>Phường Quan Hoa</td>\n",
       "    </tr>\n",
       "    <tr>\n",
       "      <th>82494</th>\n",
       "      <td>Đường Quan Hoa, Phường Quan Hoa, Quận Cầu Giấy, Hà Nội</td>\n",
       "      <td>Quận Cầu Giấy</td>\n",
       "      <td>Phường Quan Hoa</td>\n",
       "    </tr>\n",
       "    <tr>\n",
       "      <th>82495</th>\n",
       "      <td>Đường Hồ Tùng Mậu, Phường Mai Dịch, Quận Cầu Giấy, Hà Nội</td>\n",
       "      <td>Quận Cầu Giấy</td>\n",
       "      <td>Phường Mai Dịch</td>\n",
       "    </tr>\n",
       "  </tbody>\n",
       "</table>\n",
       "<p>82496 rows × 3 columns</p>\n",
       "</div>"
      ],
      "text/plain": [
       "                                                               Address  \\\n",
       "0      Đường Hoàng Quốc Việt, Phường Nghĩa Đô, Quận Cầu Giấy, Hà Nội     \n",
       "1      Đường Kim Giang, Phường Kim Giang, Quận Thanh Xuân, Hà Nội        \n",
       "2      phố minh khai, Phường Minh Khai, Quận Hai Bà Trưng, Hà Nội        \n",
       "3      Đường Võng Thị, Phường Thụy Khuê, Quận Tây Hồ, Hà Nội             \n",
       "4      Đường Kim Giang, Phường Kim Giang, Quận Thanh Xuân, Hà Nội        \n",
       "...                                                           ...        \n",
       "82491  Đường Hồ Tùng Mậu, Phường Phúc Diễn, Quận Bắc Từ Liêm, Hà Nội     \n",
       "82492  Đường Trần Quốc Hoàn, Phường Quan Hoa, Quận Cầu Giấy, Hà Nội      \n",
       "82493  Đường Nguyễn Khánh Toàn, Phường Quan Hoa, Quận Cầu Giấy, Hà Nội   \n",
       "82494  Đường Quan Hoa, Phường Quan Hoa, Quận Cầu Giấy, Hà Nội            \n",
       "82495  Đường Hồ Tùng Mậu, Phường Mai Dịch, Quận Cầu Giấy, Hà Nội         \n",
       "\n",
       "                District              Ward  \n",
       "0      Quận Cầu Giấy      Phường Nghĩa Đô   \n",
       "1      Quận Thanh Xuân    Phường Kim Giang  \n",
       "2      Quận Hai Bà Trưng  Phường Minh Khai  \n",
       "3      Quận Tây Hồ        Phường Thụy Khuê  \n",
       "4      Quận Thanh Xuân    Phường Kim Giang  \n",
       "...                ...                 ...  \n",
       "82491  Quận Bắc Từ Liêm   Phường Phúc Diễn  \n",
       "82492  Quận Cầu Giấy      Phường Quan Hoa   \n",
       "82493  Quận Cầu Giấy      Phường Quan Hoa   \n",
       "82494  Quận Cầu Giấy      Phường Quan Hoa   \n",
       "82495  Quận Cầu Giấy      Phường Mai Dịch   \n",
       "\n",
       "[82496 rows x 3 columns]"
      ]
     },
     "execution_count": 1567,
     "metadata": {},
     "output_type": "execute_result"
    }
   ],
   "source": [
    "address_df"
   ]
  },
  {
   "cell_type": "code",
   "execution_count": 1568,
   "metadata": {},
   "outputs": [
    {
     "data": {
      "text/plain": [
       "'Đường Kim Giang, Phường Kim Giang, Quận Thanh Xuân, Hà Nội'"
      ]
     },
     "execution_count": 1568,
     "metadata": {},
     "output_type": "execute_result"
    }
   ],
   "source": [
    "housing_df.Address.iloc[1]"
   ]
  },
  {
   "cell_type": "code",
   "execution_count": 1569,
   "metadata": {},
   "outputs": [
    {
     "name": "stderr",
     "output_type": "stream",
     "text": [
      "C:\\Users\\ADMIN\\AppData\\Local\\Temp\\ipykernel_25524\\1704001112.py:2: FutureWarning: Passing a negative integer is deprecated in version 1.0 and will not be supported in future version. Instead, use None to not limit the column width.\n",
      "  pd.set_option('max_colwidth', -1)\n"
     ]
    }
   ],
   "source": [
    "# adr_test = housing_df.Address.apply(lambda x: x.str.split(\", \", expand = False) if isinstance(x, str) else [x,x,x,x])\n",
    "pd.set_option('max_colwidth', -1)\n",
    "adr_test = housing_df.Address.str.split(', ').apply(lambda x: [x,x,x,x] if isinstance(x, float) else x).to_frame()"
   ]
  },
  {
   "cell_type": "code",
   "execution_count": 1570,
   "metadata": {},
   "outputs": [
    {
     "data": {
      "text/html": [
       "<div>\n",
       "<style scoped>\n",
       "    .dataframe tbody tr th:only-of-type {\n",
       "        vertical-align: middle;\n",
       "    }\n",
       "\n",
       "    .dataframe tbody tr th {\n",
       "        vertical-align: top;\n",
       "    }\n",
       "\n",
       "    .dataframe thead th {\n",
       "        text-align: right;\n",
       "    }\n",
       "</style>\n",
       "<table border=\"1\" class=\"dataframe\">\n",
       "  <thead>\n",
       "    <tr style=\"text-align: right;\">\n",
       "      <th></th>\n",
       "      <th>Address</th>\n",
       "      <th>len</th>\n",
       "    </tr>\n",
       "  </thead>\n",
       "  <tbody>\n",
       "    <tr>\n",
       "      <th>0</th>\n",
       "      <td>[Đường Hoàng Quốc Việt, Phường Nghĩa Đô, Quận Cầu Giấy, Hà Nội]</td>\n",
       "      <td>4</td>\n",
       "    </tr>\n",
       "    <tr>\n",
       "      <th>1</th>\n",
       "      <td>[Đường Kim Giang, Phường Kim Giang, Quận Thanh Xuân, Hà Nội]</td>\n",
       "      <td>4</td>\n",
       "    </tr>\n",
       "    <tr>\n",
       "      <th>2</th>\n",
       "      <td>[phố minh khai, Phường Minh Khai, Quận Hai Bà Trưng, Hà Nội]</td>\n",
       "      <td>4</td>\n",
       "    </tr>\n",
       "    <tr>\n",
       "      <th>3</th>\n",
       "      <td>[Đường Võng Thị, Phường Thụy Khuê, Quận Tây Hồ, Hà Nội]</td>\n",
       "      <td>4</td>\n",
       "    </tr>\n",
       "    <tr>\n",
       "      <th>4</th>\n",
       "      <td>[Đường Kim Giang, Phường Kim Giang, Quận Thanh Xuân, Hà Nội]</td>\n",
       "      <td>4</td>\n",
       "    </tr>\n",
       "    <tr>\n",
       "      <th>...</th>\n",
       "      <td>...</td>\n",
       "      <td>...</td>\n",
       "    </tr>\n",
       "    <tr>\n",
       "      <th>82491</th>\n",
       "      <td>[Đường Hồ Tùng Mậu, Phường Phúc Diễn, Quận Bắc Từ Liêm, Hà Nội]</td>\n",
       "      <td>4</td>\n",
       "    </tr>\n",
       "    <tr>\n",
       "      <th>82492</th>\n",
       "      <td>[Đường Trần Quốc Hoàn, Phường Quan Hoa, Quận Cầu Giấy, Hà Nội]</td>\n",
       "      <td>4</td>\n",
       "    </tr>\n",
       "    <tr>\n",
       "      <th>82493</th>\n",
       "      <td>[Đường Nguyễn Khánh Toàn, Phường Quan Hoa, Quận Cầu Giấy, Hà Nội]</td>\n",
       "      <td>4</td>\n",
       "    </tr>\n",
       "    <tr>\n",
       "      <th>82494</th>\n",
       "      <td>[Đường Quan Hoa, Phường Quan Hoa, Quận Cầu Giấy, Hà Nội]</td>\n",
       "      <td>4</td>\n",
       "    </tr>\n",
       "    <tr>\n",
       "      <th>82495</th>\n",
       "      <td>[Đường Hồ Tùng Mậu, Phường Mai Dịch, Quận Cầu Giấy, Hà Nội]</td>\n",
       "      <td>4</td>\n",
       "    </tr>\n",
       "  </tbody>\n",
       "</table>\n",
       "<p>82496 rows × 2 columns</p>\n",
       "</div>"
      ],
      "text/plain": [
       "                                                                 Address  len\n",
       "0      [Đường Hoàng Quốc Việt, Phường Nghĩa Đô, Quận Cầu Giấy, Hà Nội]    4  \n",
       "1      [Đường Kim Giang, Phường Kim Giang, Quận Thanh Xuân, Hà Nội]       4  \n",
       "2      [phố minh khai, Phường Minh Khai, Quận Hai Bà Trưng, Hà Nội]       4  \n",
       "3      [Đường Võng Thị, Phường Thụy Khuê, Quận Tây Hồ, Hà Nội]            4  \n",
       "4      [Đường Kim Giang, Phường Kim Giang, Quận Thanh Xuân, Hà Nội]       4  \n",
       "...                                                             ...      ..  \n",
       "82491  [Đường Hồ Tùng Mậu, Phường Phúc Diễn, Quận Bắc Từ Liêm, Hà Nội]    4  \n",
       "82492  [Đường Trần Quốc Hoàn, Phường Quan Hoa, Quận Cầu Giấy, Hà Nội]     4  \n",
       "82493  [Đường Nguyễn Khánh Toàn, Phường Quan Hoa, Quận Cầu Giấy, Hà Nội]  4  \n",
       "82494  [Đường Quan Hoa, Phường Quan Hoa, Quận Cầu Giấy, Hà Nội]           4  \n",
       "82495  [Đường Hồ Tùng Mậu, Phường Mai Dịch, Quận Cầu Giấy, Hà Nội]        4  \n",
       "\n",
       "[82496 rows x 2 columns]"
      ]
     },
     "execution_count": 1570,
     "metadata": {},
     "output_type": "execute_result"
    }
   ],
   "source": [
    "adr_test[\"len\"] = adr_test[\"Address\"].apply(lambda x: len(x))\n",
    "adr_test"
   ]
  },
  {
   "cell_type": "code",
   "execution_count": 1571,
   "metadata": {},
   "outputs": [
    {
     "data": {
      "text/plain": [
       "array([4, 5, 1, 3, 6, 7, 8, 9, 2], dtype=int64)"
      ]
     },
     "execution_count": 1571,
     "metadata": {},
     "output_type": "execute_result"
    }
   ],
   "source": [
    "adr_test[\"len\"].unique()"
   ]
  },
  {
   "cell_type": "code",
   "execution_count": 1572,
   "metadata": {},
   "outputs": [
    {
     "data": {
      "text/html": [
       "<div>\n",
       "<style scoped>\n",
       "    .dataframe tbody tr th:only-of-type {\n",
       "        vertical-align: middle;\n",
       "    }\n",
       "\n",
       "    .dataframe tbody tr th {\n",
       "        vertical-align: top;\n",
       "    }\n",
       "\n",
       "    .dataframe thead th {\n",
       "        text-align: right;\n",
       "    }\n",
       "</style>\n",
       "<table border=\"1\" class=\"dataframe\">\n",
       "  <thead>\n",
       "    <tr style=\"text-align: right;\">\n",
       "      <th></th>\n",
       "      <th>Address</th>\n",
       "      <th>len</th>\n",
       "    </tr>\n",
       "  </thead>\n",
       "  <tbody>\n",
       "    <tr>\n",
       "      <th>29</th>\n",
       "      <td>[180/61/5, Đường Tây Mỗ, Phường Tây Mỗ, Quận Nam Từ Liêm, Hà Nội]</td>\n",
       "      <td>5</td>\n",
       "    </tr>\n",
       "    <tr>\n",
       "      <th>42</th>\n",
       "      <td>[Ngách 6A, Đường Tả Thanh Oai, Xã Tả Thanh Oai, Huyện Thanh Trì, Hà Nội]</td>\n",
       "      <td>5</td>\n",
       "    </tr>\n",
       "    <tr>\n",
       "      <th>44</th>\n",
       "      <td>[4, Đường Kim Giang, Phường Đại Kim, Quận Hoàng Mai, Hà Nội]</td>\n",
       "      <td>5</td>\n",
       "    </tr>\n",
       "    <tr>\n",
       "      <th>50</th>\n",
       "      <td>[88, Đường Phạm Văn Đồng, Phường Cổ Nhuế 1, Quận Bắc Từ Liêm, Hà Nội]</td>\n",
       "      <td>5</td>\n",
       "    </tr>\n",
       "    <tr>\n",
       "      <th>82</th>\n",
       "      <td>[1, Đường Nguyễn Khánh Toàn, Phường Quan Hoa, Quận Cầu Giấy, Hà Nội]</td>\n",
       "      <td>5</td>\n",
       "    </tr>\n",
       "    <tr>\n",
       "      <th>...</th>\n",
       "      <td>...</td>\n",
       "      <td>...</td>\n",
       "    </tr>\n",
       "    <tr>\n",
       "      <th>82345</th>\n",
       "      <td>[285, Đường Đội Cấn, Phường Đội Cấn, Quận Ba Đình, Hà Nội]</td>\n",
       "      <td>5</td>\n",
       "    </tr>\n",
       "    <tr>\n",
       "      <th>82350</th>\n",
       "      <td>[25, 25 Đường Vũ Ngọc Phan, Phường Láng Hạ, Quận Đống Đa, Hà Nội]</td>\n",
       "      <td>5</td>\n",
       "    </tr>\n",
       "    <tr>\n",
       "      <th>82401</th>\n",
       "      <td>[Đường Lê Trọng Tấn Hoài Đức, Hà Nội, Xã Vân Canh, Huyện Hoài Đức, Hà Nội]</td>\n",
       "      <td>5</td>\n",
       "    </tr>\n",
       "    <tr>\n",
       "      <th>82422</th>\n",
       "      <td>[Đường Lạc Long Quân Tây Hồ, Hà Nội, Phường Phú Thượng, Quận Tây Hồ, Hà Nội]</td>\n",
       "      <td>5</td>\n",
       "    </tr>\n",
       "    <tr>\n",
       "      <th>82436</th>\n",
       "      <td>[Số 7 Đường Đại lộ Thăng Long Nam Từ Liêm, Hà Nội, Phường Mễ Trì, Quận Nam Từ Liêm, Hà Nội]</td>\n",
       "      <td>5</td>\n",
       "    </tr>\n",
       "  </tbody>\n",
       "</table>\n",
       "<p>4799 rows × 2 columns</p>\n",
       "</div>"
      ],
      "text/plain": [
       "                                                                                           Address  \\\n",
       "29     [180/61/5, Đường Tây Mỗ, Phường Tây Mỗ, Quận Nam Từ Liêm, Hà Nội]                             \n",
       "42     [Ngách 6A, Đường Tả Thanh Oai, Xã Tả Thanh Oai, Huyện Thanh Trì, Hà Nội]                      \n",
       "44     [4, Đường Kim Giang, Phường Đại Kim, Quận Hoàng Mai, Hà Nội]                                  \n",
       "50     [88, Đường Phạm Văn Đồng, Phường Cổ Nhuế 1, Quận Bắc Từ Liêm, Hà Nội]                         \n",
       "82     [1, Đường Nguyễn Khánh Toàn, Phường Quan Hoa, Quận Cầu Giấy, Hà Nội]                          \n",
       "...                                                                     ...                          \n",
       "82345  [285, Đường Đội Cấn, Phường Đội Cấn, Quận Ba Đình, Hà Nội]                                    \n",
       "82350  [25, 25 Đường Vũ Ngọc Phan, Phường Láng Hạ, Quận Đống Đa, Hà Nội]                             \n",
       "82401  [Đường Lê Trọng Tấn Hoài Đức, Hà Nội, Xã Vân Canh, Huyện Hoài Đức, Hà Nội]                    \n",
       "82422  [Đường Lạc Long Quân Tây Hồ, Hà Nội, Phường Phú Thượng, Quận Tây Hồ, Hà Nội]                  \n",
       "82436  [Số 7 Đường Đại lộ Thăng Long Nam Từ Liêm, Hà Nội, Phường Mễ Trì, Quận Nam Từ Liêm, Hà Nội]   \n",
       "\n",
       "       len  \n",
       "29     5    \n",
       "42     5    \n",
       "44     5    \n",
       "50     5    \n",
       "82     5    \n",
       "...   ..    \n",
       "82345  5    \n",
       "82350  5    \n",
       "82401  5    \n",
       "82422  5    \n",
       "82436  5    \n",
       "\n",
       "[4799 rows x 2 columns]"
      ]
     },
     "execution_count": 1572,
     "metadata": {},
     "output_type": "execute_result"
    }
   ],
   "source": [
    "adr_test[adr_test[\"len\"]==5]"
   ]
  },
  {
   "attachments": {},
   "cell_type": "markdown",
   "metadata": {},
   "source": [
    "Có rất nhiều địa chỉ trong chỗ địa chỉ nhà ngoài trừ số nhà còn có tên đường tọa lạc. Giá trị này sẽ được xử lí nếu có sử dụng trong phần `ĐẶT CÂU HỎI`"
   ]
  },
  {
   "attachments": {},
   "cell_type": "markdown",
   "metadata": {},
   "source": [
    "- **Type (Loại nhà)**"
   ]
  },
  {
   "cell_type": "code",
   "execution_count": 1573,
   "metadata": {},
   "outputs": [],
   "source": [
    "type_df = housing_df[\"Type\"].copy()"
   ]
  },
  {
   "cell_type": "code",
   "execution_count": 1574,
   "metadata": {},
   "outputs": [],
   "source": [
    "num_type_df = type_df.value_counts().to_frame()"
   ]
  },
  {
   "cell_type": "code",
   "execution_count": 1575,
   "metadata": {},
   "outputs": [],
   "source": [
    "labels = num_type_df.index.tolist()\n",
    "colors = sns.color_palette('bright')\n",
    "explode = np.zeros(len(labels)) + 0.02\n",
    "explode[labels.index(max(labels))] = 0.03"
   ]
  },
  {
   "cell_type": "code",
   "execution_count": 1576,
   "metadata": {},
   "outputs": [
    {
     "data": {
      "image/png": "[encoded data removed]",
      "text/plain": [
       "<Figure size 2340x1650 with 2 Axes>"
      ]
     },
     "metadata": {},
     "output_type": "display_data"
    }
   ],
   "source": [
    "fig, ax = plt.subplots(2,1)\n",
    "fig.set_size_inches(a2size_ls)\n",
    "\n",
    "ax[1].pie(\n",
    "    num_type_df.Type,\n",
    "    labels = labels,\n",
    "    colors = colors,\n",
    "    autopct = '%0.0f%%',\n",
    "    explode = explode,\n",
    "    # shadow= True,\n",
    "    # startangle = 90,\n",
    "    textprops = {'color': 'Black','fontsize':16},\n",
    "    wedgeprops = {'linewidth': 10},\n",
    "    rotatelabels = 'true',\n",
    ")\n",
    "ax[1].set_title(\"Biểu đồ thể hiện tỉ lệ số lượng của loại nhà\", fontsize = 30)\n",
    "\n",
    "num_type_df.plot.bar(ax = ax[0], rot= 0)\n",
    "for i in ax[0].containers:\n",
    "    ax[0].bar_label(i,)\n",
    "ax[0].set_xlabel(\"Loại nhà\", fontsize = 20)\n",
    "ax[0].set_ylabel(\"Số Lượng\", fontsize = 20)\n",
    "ax[0].set_title(\"Biểu đồ cột thể hiện số lượng của loại nhà\", fontsize = 30)\n",
    "\n",
    "plt.tight_layout(pad = 5.0)\n",
    "plt.show()"
   ]
  },
  {
   "attachments": {},
   "cell_type": "markdown",
   "metadata": {},
   "source": [
    "Số lượng `Nhà ngõ, hẻm` có nhiều nhất, chiếm đến 76% dữ liệu (không tính các giá trị `NaN`). Tuy Số lượng `NaN` rất ít nhưng vẫn có thể làm thay đổi các giá trị bên trên."
   ]
  },
  {
   "attachments": {},
   "cell_type": "markdown",
   "metadata": {},
   "source": [
    "- **Legal**"
   ]
  },
  {
   "cell_type": "code",
   "execution_count": 1577,
   "metadata": {},
   "outputs": [
    {
     "data": {
      "text/plain": [
       "0    Đã có sổ\n",
       "1    NaN     \n",
       "2    Đã có sổ\n",
       "3    Đã có sổ\n",
       "4    NaN     \n",
       "Name: Legal, dtype: object"
      ]
     },
     "execution_count": 1577,
     "metadata": {},
     "output_type": "execute_result"
    }
   ],
   "source": [
    "legal_df = housing_df.Legal.copy()\n",
    "legal_df.head()"
   ]
  },
  {
   "cell_type": "code",
   "execution_count": 1578,
   "metadata": {},
   "outputs": [
    {
     "data": {
      "text/plain": [
       "array(['Đã có sổ', nan, 'Đang chờ sổ', 'Giấy tờ khác'], dtype=object)"
      ]
     },
     "execution_count": 1578,
     "metadata": {},
     "output_type": "execute_result"
    }
   ],
   "source": [
    "legal_df.unique()"
   ]
  },
  {
   "attachments": {},
   "cell_type": "markdown",
   "metadata": {},
   "source": [
    "Giá trị `NaN` trong cột này không biết mang ý nghĩa gì, vì thông tin trong Dataset không đề cập tới, cũng không có thông tin cách thu thập. Nên giá trị `NaN` này sẽ được hiểu dưới ý nghĩa là `Không có thông tin`."
   ]
  },
  {
   "cell_type": "code",
   "execution_count": 1579,
   "metadata": {},
   "outputs": [],
   "source": [
    "num_legal_df = legal_df.value_counts().to_frame()"
   ]
  },
  {
   "cell_type": "code",
   "execution_count": 1580,
   "metadata": {},
   "outputs": [],
   "source": [
    "labels = num_legal_df.index.tolist()\n",
    "colors = sns.color_palette('bright')\n",
    "explode = np.zeros(len(labels)) + 0.02\n",
    "explode[labels.index(max(labels))] = 0.0"
   ]
  },
  {
   "cell_type": "code",
   "execution_count": 1581,
   "metadata": {},
   "outputs": [
    {
     "data": {
      "image/png": "[encoded data removed]",
      "text/plain": [
       "<Figure size 1170x827 with 1 Axes>"
      ]
     },
     "metadata": {},
     "output_type": "display_data"
    }
   ],
   "source": [
    "fig, ax = plt.subplots()\n",
    "fig.set_size_inches(a4size)\n",
    "\n",
    "num_legal_df.plot.bar(ax = ax, rot= 0)\n",
    "for i in ax.containers:\n",
    "    ax.bar_label(i,)\n",
    "ax.set_xlabel(\"Loại nhà\", fontsize = 20)\n",
    "ax.set_ylabel(\"Số Lượng\", fontsize = 20)\n",
    "ax.set_title(\"Biểu đồ cột thể hiện số lượng của hiện trạng giấy tờ pháp lý\", fontsize = 30)\n",
    "\n",
    "plt.tight_layout(pad = 5.0)\n",
    "plt.show()"
   ]
  },
  {
   "attachments": {},
   "cell_type": "markdown",
   "metadata": {},
   "source": [
    "- **Number of bedrooms**"
   ]
  },
  {
   "cell_type": "code",
   "execution_count": 1582,
   "metadata": {},
   "outputs": [],
   "source": [
    "numB_df = housing_df[\"Number of bedrooms\"].to_frame()"
   ]
  },
  {
   "cell_type": "code",
   "execution_count": 1583,
   "metadata": {},
   "outputs": [
    {
     "data": {
      "text/html": [
       "<div>\n",
       "<style scoped>\n",
       "    .dataframe tbody tr th:only-of-type {\n",
       "        vertical-align: middle;\n",
       "    }\n",
       "\n",
       "    .dataframe tbody tr th {\n",
       "        vertical-align: top;\n",
       "    }\n",
       "\n",
       "    .dataframe thead th {\n",
       "        text-align: right;\n",
       "    }\n",
       "</style>\n",
       "<table border=\"1\" class=\"dataframe\">\n",
       "  <thead>\n",
       "    <tr style=\"text-align: right;\">\n",
       "      <th></th>\n",
       "      <th>Number of bedrooms</th>\n",
       "    </tr>\n",
       "  </thead>\n",
       "  <tbody>\n",
       "    <tr>\n",
       "      <th>0</th>\n",
       "      <td>5 phòng</td>\n",
       "    </tr>\n",
       "    <tr>\n",
       "      <th>1</th>\n",
       "      <td>3 phòng</td>\n",
       "    </tr>\n",
       "    <tr>\n",
       "      <th>2</th>\n",
       "      <td>4 phòng</td>\n",
       "    </tr>\n",
       "    <tr>\n",
       "      <th>3</th>\n",
       "      <td>6 phòng</td>\n",
       "    </tr>\n",
       "    <tr>\n",
       "      <th>4</th>\n",
       "      <td>4 phòng</td>\n",
       "    </tr>\n",
       "  </tbody>\n",
       "</table>\n",
       "</div>"
      ],
      "text/plain": [
       "  Number of bedrooms\n",
       "0  5 phòng          \n",
       "1  3 phòng          \n",
       "2  4 phòng          \n",
       "3  6 phòng          \n",
       "4  4 phòng          "
      ]
     },
     "execution_count": 1583,
     "metadata": {},
     "output_type": "execute_result"
    }
   ],
   "source": [
    "numB_df.head()"
   ]
  },
  {
   "cell_type": "code",
   "execution_count": 1584,
   "metadata": {},
   "outputs": [
    {
     "data": {
      "text/plain": [
       "array(['5 phòng', '3 phòng', '4 phòng', '6 phòng', 'nhiều hơn 10 phòng',\n",
       "       '8 phòng', '2 phòng', '7 phòng', '9 phòng', '1 phòng', '10 phòng',\n",
       "       nan], dtype=object)"
      ]
     },
     "execution_count": 1584,
     "metadata": {},
     "output_type": "execute_result"
    }
   ],
   "source": [
    "numB_df[\"Number of bedrooms\"].unique()"
   ]
  },
  {
   "attachments": {},
   "cell_type": "markdown",
   "metadata": {},
   "source": [
    "Các giá trị bên trong cột `Number of bedrooms` được định dạng `<Số phòng>` + ` 'phòng'` <br>\n",
    "Ta đưa cột này trở về dạng số để dễ cho học máy hoặc trực quan hóa dữ liệu (nếu có)<br>\n",
    "\n",
    "Trong dữ liệu có một giá trị `nhiều hơn 10 phòng` sẽ được định dạng là số `11`"
   ]
  },
  {
   "attachments": {},
   "cell_type": "markdown",
   "metadata": {},
   "source": [
    "**Thay đổi các giá trị cột `Number of bedrooms` theo định dạng trên.**"
   ]
  },
  {
   "cell_type": "code",
   "execution_count": 1585,
   "metadata": {},
   "outputs": [],
   "source": [
    "def change_number_bedrooms(value):\n",
    "    if isinstance(value, str):\n",
    "        first = value.split(\" \")[0]\n",
    "        if first.isnumeric():\n",
    "            return int(first)\n",
    "        else:\n",
    "            return 11\n",
    "    else:\n",
    "        return value"
   ]
  },
  {
   "attachments": {},
   "cell_type": "markdown",
   "metadata": {},
   "source": [
    "Test hàm"
   ]
  },
  {
   "cell_type": "code",
   "execution_count": 1586,
   "metadata": {},
   "outputs": [],
   "source": [
    "assert change_number_bedrooms(\"10 phòng\") == 10\n",
    "assert change_number_bedrooms(\"nhiều hơn 10 phòng\") == 11"
   ]
  },
  {
   "attachments": {},
   "cell_type": "markdown",
   "metadata": {},
   "source": [
    "**Thay đổi giá trị cột `number of bedrooms` trong Dataframe chính - `housing_df`**"
   ]
  },
  {
   "cell_type": "code",
   "execution_count": 1587,
   "metadata": {},
   "outputs": [],
   "source": [
    "housing_df[\"Number of bedrooms\"] = housing_df[\"Number of bedrooms\"].apply(change_number_bedrooms)"
   ]
  },
  {
   "attachments": {},
   "cell_type": "markdown",
   "metadata": {},
   "source": [
    "- **Number of floors**"
   ]
  },
  {
   "cell_type": "code",
   "execution_count": 1588,
   "metadata": {},
   "outputs": [],
   "source": [
    "numF_df = housing_df[\"Number of floors\"]"
   ]
  },
  {
   "cell_type": "code",
   "execution_count": 1589,
   "metadata": {},
   "outputs": [
    {
     "data": {
      "text/plain": [
       "array(['4', nan, '6', '5', '7', '2', '3', '8', '1', '9', '50', '38', '35',\n",
       "       '10', 'Nhiều hơn 10', '45', '33', '42', '25', '73', '12', '65',\n",
       "       '55', '30', '14', '40', '52', '54', '32', '29'], dtype=object)"
      ]
     },
     "execution_count": 1589,
     "metadata": {},
     "output_type": "execute_result"
    }
   ],
   "source": [
    "numF_df.unique()"
   ]
  },
  {
   "attachments": {},
   "cell_type": "markdown",
   "metadata": {},
   "source": [
    "Tại sao có nhà `73, 65, ...` tầng, nhưng lại có nhà `Nhiều hơn 10 tầng` ??? "
   ]
  },
  {
   "cell_type": "code",
   "execution_count": 1590,
   "metadata": {},
   "outputs": [],
   "source": [
    "morethan10F = [ '45', '33', '42', '25', '73', '12', '65', '55', '30', '14', '40', '52', '54', '32', '29', '50', '38', '35']"
   ]
  },
  {
   "cell_type": "code",
   "execution_count": 1591,
   "metadata": {},
   "outputs": [
    {
     "data": {
      "text/html": [
       "<div>\n",
       "<style scoped>\n",
       "    .dataframe tbody tr th:only-of-type {\n",
       "        vertical-align: middle;\n",
       "    }\n",
       "\n",
       "    .dataframe tbody tr th {\n",
       "        vertical-align: top;\n",
       "    }\n",
       "\n",
       "    .dataframe thead th {\n",
       "        text-align: right;\n",
       "    }\n",
       "</style>\n",
       "<table border=\"1\" class=\"dataframe\">\n",
       "  <thead>\n",
       "    <tr style=\"text-align: right;\">\n",
       "      <th></th>\n",
       "      <th>Date</th>\n",
       "      <th>Address</th>\n",
       "      <th>District</th>\n",
       "      <th>Ward</th>\n",
       "      <th>Type</th>\n",
       "      <th>Legal</th>\n",
       "      <th>Number of floors</th>\n",
       "      <th>Number of bedrooms</th>\n",
       "      <th>Area</th>\n",
       "      <th>Length</th>\n",
       "      <th>Width</th>\n",
       "      <th>Price/m2</th>\n",
       "    </tr>\n",
       "  </thead>\n",
       "  <tbody>\n",
       "    <tr>\n",
       "      <th>35627</th>\n",
       "      <td>2020-07-14</td>\n",
       "      <td>Đường Võng Thị, Phường Thụy Khuê, Quận Tây Hồ, Hà Nội</td>\n",
       "      <td>Quận Tây Hồ</td>\n",
       "      <td>Phường Thụy Khuê</td>\n",
       "      <td>Nhà biệt thự</td>\n",
       "      <td>Đã có sổ</td>\n",
       "      <td>73</td>\n",
       "      <td>6.0</td>\n",
       "      <td>73 m²</td>\n",
       "      <td>14 m</td>\n",
       "      <td>5 m</td>\n",
       "      <td>81,37 triệu/m²</td>\n",
       "    </tr>\n",
       "  </tbody>\n",
       "</table>\n",
       "</div>"
      ],
      "text/plain": [
       "            Date                                                Address  \\\n",
       "35627 2020-07-14  Đường Võng Thị, Phường Thụy Khuê, Quận Tây Hồ, Hà Nội   \n",
       "\n",
       "          District              Ward          Type     Legal Number of floors  \\\n",
       "35627  Quận Tây Hồ  Phường Thụy Khuê  Nhà biệt thự  Đã có sổ  73                \n",
       "\n",
       "       Number of bedrooms   Area Length Width        Price/m2  \n",
       "35627  6.0                 73 m²  14 m   5 m   81,37 triệu/m²  "
      ]
     },
     "execution_count": 1591,
     "metadata": {},
     "output_type": "execute_result"
    }
   ],
   "source": [
    "housing_df[housing_df[\"Number of floors\"] == \"73\"]"
   ]
  },
  {
   "cell_type": "code",
   "execution_count": 1592,
   "metadata": {},
   "outputs": [
    {
     "data": {
      "text/html": [
       "<div>\n",
       "<style scoped>\n",
       "    .dataframe tbody tr th:only-of-type {\n",
       "        vertical-align: middle;\n",
       "    }\n",
       "\n",
       "    .dataframe tbody tr th {\n",
       "        vertical-align: top;\n",
       "    }\n",
       "\n",
       "    .dataframe thead th {\n",
       "        text-align: right;\n",
       "    }\n",
       "</style>\n",
       "<table border=\"1\" class=\"dataframe\">\n",
       "  <thead>\n",
       "    <tr style=\"text-align: right;\">\n",
       "      <th></th>\n",
       "      <th>Date</th>\n",
       "      <th>Address</th>\n",
       "      <th>District</th>\n",
       "      <th>Ward</th>\n",
       "      <th>Type</th>\n",
       "      <th>Legal</th>\n",
       "      <th>Number of floors</th>\n",
       "      <th>Number of bedrooms</th>\n",
       "      <th>Area</th>\n",
       "      <th>Length</th>\n",
       "      <th>Width</th>\n",
       "      <th>Price/m2</th>\n",
       "    </tr>\n",
       "  </thead>\n",
       "  <tbody>\n",
       "    <tr>\n",
       "      <th>41446</th>\n",
       "      <td>2020-07-09</td>\n",
       "      <td>Đường An Hòa, Phường Mộ Lao, Quận Hà Đông, Hà Nội</td>\n",
       "      <td>Quận Hà Đông</td>\n",
       "      <td>Phường Mộ Lao</td>\n",
       "      <td>Nhà ngõ, hẻm</td>\n",
       "      <td>Đã có sổ</td>\n",
       "      <td>65</td>\n",
       "      <td>6.0</td>\n",
       "      <td>98 m²</td>\n",
       "      <td>NaN</td>\n",
       "      <td>8 m</td>\n",
       "      <td>66,33 triệu/m²</td>\n",
       "    </tr>\n",
       "  </tbody>\n",
       "</table>\n",
       "</div>"
      ],
      "text/plain": [
       "            Date                                            Address  \\\n",
       "41446 2020-07-09  Đường An Hòa, Phường Mộ Lao, Quận Hà Đông, Hà Nội   \n",
       "\n",
       "           District           Ward          Type     Legal Number of floors  \\\n",
       "41446  Quận Hà Đông  Phường Mộ Lao  Nhà ngõ, hẻm  Đã có sổ  65                \n",
       "\n",
       "       Number of bedrooms   Area Length Width        Price/m2  \n",
       "41446  6.0                 98 m²  NaN    8 m   66,33 triệu/m²  "
      ]
     },
     "execution_count": 1592,
     "metadata": {},
     "output_type": "execute_result"
    }
   ],
   "source": [
    "housing_df[housing_df[\"Number of floors\"] == \"65\"]"
   ]
  },
  {
   "cell_type": "code",
   "execution_count": 1593,
   "metadata": {},
   "outputs": [
    {
     "data": {
      "text/html": [
       "<div>\n",
       "<style scoped>\n",
       "    .dataframe tbody tr th:only-of-type {\n",
       "        vertical-align: middle;\n",
       "    }\n",
       "\n",
       "    .dataframe tbody tr th {\n",
       "        vertical-align: top;\n",
       "    }\n",
       "\n",
       "    .dataframe thead th {\n",
       "        text-align: right;\n",
       "    }\n",
       "</style>\n",
       "<table border=\"1\" class=\"dataframe\">\n",
       "  <thead>\n",
       "    <tr style=\"text-align: right;\">\n",
       "      <th></th>\n",
       "      <th>Date</th>\n",
       "      <th>Address</th>\n",
       "      <th>District</th>\n",
       "      <th>Ward</th>\n",
       "      <th>Type</th>\n",
       "      <th>Legal</th>\n",
       "      <th>Number of floors</th>\n",
       "      <th>Number of bedrooms</th>\n",
       "      <th>Area</th>\n",
       "      <th>Length</th>\n",
       "      <th>Width</th>\n",
       "      <th>Price/m2</th>\n",
       "    </tr>\n",
       "  </thead>\n",
       "  <tbody>\n",
       "    <tr>\n",
       "      <th>39345</th>\n",
       "      <td>2020-07-10</td>\n",
       "      <td>12, Đường Nguyễn Phúc Lai, Phường Ô Chợ Dừa, Quận Đống Đa, Hà Nội</td>\n",
       "      <td>Quận Đống Đa</td>\n",
       "      <td>Phường Ô Chợ Dừa</td>\n",
       "      <td>Nhà phố liền kề</td>\n",
       "      <td>Đã có sổ</td>\n",
       "      <td>12</td>\n",
       "      <td>5.0</td>\n",
       "      <td>59 m²</td>\n",
       "      <td>11 m</td>\n",
       "      <td>5 m</td>\n",
       "      <td>144,07 triệu/m²</td>\n",
       "    </tr>\n",
       "    <tr>\n",
       "      <th>82114</th>\n",
       "      <td>2020-06-03</td>\n",
       "      <td>Đường Đường Láng, Phường Láng Thượng, Quận Đống Đa, Hà Nội</td>\n",
       "      <td>Quận Đống Đa</td>\n",
       "      <td>Phường Láng Thượng</td>\n",
       "      <td>Nhà mặt phố, mặt tiền</td>\n",
       "      <td>Đã có sổ</td>\n",
       "      <td>12</td>\n",
       "      <td>11.0</td>\n",
       "      <td>170 m²</td>\n",
       "      <td>NaN</td>\n",
       "      <td>8.5 m</td>\n",
       "      <td>273,53 triệu/m²</td>\n",
       "    </tr>\n",
       "  </tbody>\n",
       "</table>\n",
       "</div>"
      ],
      "text/plain": [
       "            Date  \\\n",
       "39345 2020-07-10   \n",
       "82114 2020-06-03   \n",
       "\n",
       "                                                                 Address  \\\n",
       "39345  12, Đường Nguyễn Phúc Lai, Phường Ô Chợ Dừa, Quận Đống Đa, Hà Nội   \n",
       "82114  Đường Đường Láng, Phường Láng Thượng, Quận Đống Đa, Hà Nội          \n",
       "\n",
       "           District                Ward                   Type     Legal  \\\n",
       "39345  Quận Đống Đa  Phường Ô Chợ Dừa    Nhà phố liền kề        Đã có sổ   \n",
       "82114  Quận Đống Đa  Phường Láng Thượng  Nhà mặt phố, mặt tiền  Đã có sổ   \n",
       "\n",
       "      Number of floors  Number of bedrooms    Area Length  Width  \\\n",
       "39345  12               5.0                 59 m²   11 m   5 m     \n",
       "82114  12               11.0                170 m²  NaN    8.5 m   \n",
       "\n",
       "              Price/m2  \n",
       "39345  144,07 triệu/m²  \n",
       "82114  273,53 triệu/m²  "
      ]
     },
     "execution_count": 1593,
     "metadata": {},
     "output_type": "execute_result"
    }
   ],
   "source": [
    "housing_df[housing_df[\"Number of floors\"] == \"12\"]"
   ]
  },
  {
   "cell_type": "code",
   "execution_count": 1594,
   "metadata": {},
   "outputs": [
    {
     "data": {
      "text/html": [
       "<div>\n",
       "<style scoped>\n",
       "    .dataframe tbody tr th:only-of-type {\n",
       "        vertical-align: middle;\n",
       "    }\n",
       "\n",
       "    .dataframe tbody tr th {\n",
       "        vertical-align: top;\n",
       "    }\n",
       "\n",
       "    .dataframe thead th {\n",
       "        text-align: right;\n",
       "    }\n",
       "</style>\n",
       "<table border=\"1\" class=\"dataframe\">\n",
       "  <thead>\n",
       "    <tr style=\"text-align: right;\">\n",
       "      <th></th>\n",
       "      <th>Date</th>\n",
       "      <th>Address</th>\n",
       "      <th>District</th>\n",
       "      <th>Ward</th>\n",
       "      <th>Type</th>\n",
       "      <th>Legal</th>\n",
       "      <th>Number of floors</th>\n",
       "      <th>Number of bedrooms</th>\n",
       "      <th>Area</th>\n",
       "      <th>Length</th>\n",
       "      <th>Width</th>\n",
       "      <th>Price/m2</th>\n",
       "    </tr>\n",
       "  </thead>\n",
       "  <tbody>\n",
       "    <tr>\n",
       "      <th>2627</th>\n",
       "      <td>2020-08-04</td>\n",
       "      <td>318, Đường Ngọc Trì, Phường Thạch Bàn, Quận Long Biên, Hà Nội</td>\n",
       "      <td>Quận Long Biên</td>\n",
       "      <td>Phường Thạch Bàn</td>\n",
       "      <td>Nhà ngõ, hẻm</td>\n",
       "      <td>Đã có sổ</td>\n",
       "      <td>50</td>\n",
       "      <td>3.0</td>\n",
       "      <td>30 m²</td>\n",
       "      <td>8 m</td>\n",
       "      <td>4 m</td>\n",
       "      <td>75 triệu/m²</td>\n",
       "    </tr>\n",
       "    <tr>\n",
       "      <th>2940</th>\n",
       "      <td>2020-08-03</td>\n",
       "      <td>Đường Đại lộ Thăng Long</td>\n",
       "      <td>Quận Nam Từ Liêm</td>\n",
       "      <td>Phường Đại Mỗ</td>\n",
       "      <td>Nhà mặt phố, mặt tiền</td>\n",
       "      <td>Đang chờ sổ</td>\n",
       "      <td>38</td>\n",
       "      <td>3.0</td>\n",
       "      <td>80 m²</td>\n",
       "      <td>NaN</td>\n",
       "      <td>NaN</td>\n",
       "      <td>37,5 triệu/m²</td>\n",
       "    </tr>\n",
       "    <tr>\n",
       "      <th>3443</th>\n",
       "      <td>2020-08-03</td>\n",
       "      <td>Đường Tam Trinh, Phường Lĩnh Nam, Quận Hoàng Mai, Hà Nội</td>\n",
       "      <td>Quận Hoàng Mai</td>\n",
       "      <td>Phường Lĩnh Nam</td>\n",
       "      <td>Nhà mặt phố, mặt tiền</td>\n",
       "      <td>Đã có sổ</td>\n",
       "      <td>35</td>\n",
       "      <td>3.0</td>\n",
       "      <td>44 m²</td>\n",
       "      <td>NaN</td>\n",
       "      <td>35 m</td>\n",
       "      <td>11,32 triệu/m²</td>\n",
       "    </tr>\n",
       "    <tr>\n",
       "      <th>7727</th>\n",
       "      <td>2020-07-31</td>\n",
       "      <td>đường kim giang, Phường Kim Giang, Quận Thanh Xuân, Hà Nội</td>\n",
       "      <td>Quận Thanh Xuân</td>\n",
       "      <td>Phường Kim Giang</td>\n",
       "      <td>Nhà mặt phố, mặt tiền</td>\n",
       "      <td>Đã có sổ</td>\n",
       "      <td>35</td>\n",
       "      <td>4.0</td>\n",
       "      <td>48 m²</td>\n",
       "      <td>NaN</td>\n",
       "      <td>NaN</td>\n",
       "      <td>83,33 triệu/m²</td>\n",
       "    </tr>\n",
       "    <tr>\n",
       "      <th>10021</th>\n",
       "      <td>2020-07-30</td>\n",
       "      <td>vũ tông phan, Phường Kim Giang, Quận Thanh Xuân, Hà Nội</td>\n",
       "      <td>Quận Thanh Xuân</td>\n",
       "      <td>Phường Kim Giang</td>\n",
       "      <td>Nhà ngõ, hẻm</td>\n",
       "      <td>Đã có sổ</td>\n",
       "      <td>45</td>\n",
       "      <td>3.0</td>\n",
       "      <td>35 m²</td>\n",
       "      <td>NaN</td>\n",
       "      <td>NaN</td>\n",
       "      <td>100 triệu/m²</td>\n",
       "    </tr>\n",
       "    <tr>\n",
       "      <th>12476</th>\n",
       "      <td>2020-07-29</td>\n",
       "      <td>Đường Cầu Giấy, Phường Trung Hoà, Quận Cầu Giấy, Hà Nội</td>\n",
       "      <td>Quận Cầu Giấy</td>\n",
       "      <td>Phường Trung Hoà</td>\n",
       "      <td>Nhà ngõ, hẻm</td>\n",
       "      <td>Đã có sổ</td>\n",
       "      <td>33</td>\n",
       "      <td>2.0</td>\n",
       "      <td>21 m²</td>\n",
       "      <td>7 m</td>\n",
       "      <td>3.3 m</td>\n",
       "      <td>104,76 triệu/m²</td>\n",
       "    </tr>\n",
       "    <tr>\n",
       "      <th>12823</th>\n",
       "      <td>2020-07-29</td>\n",
       "      <td>814, Đường Láng, Phường Láng Thượng, Quận Đống Đa, Hà Nội</td>\n",
       "      <td>Quận Đống Đa</td>\n",
       "      <td>Phường Láng Thượng</td>\n",
       "      <td>Nhà ngõ, hẻm</td>\n",
       "      <td>Đã có sổ</td>\n",
       "      <td>45</td>\n",
       "      <td>3.0</td>\n",
       "      <td>52 m²</td>\n",
       "      <td>NaN</td>\n",
       "      <td>NaN</td>\n",
       "      <td>74,04 triệu/m²</td>\n",
       "    </tr>\n",
       "    <tr>\n",
       "      <th>13406</th>\n",
       "      <td>2020-07-28</td>\n",
       "      <td>Đường Tây Thăng Long, Thị trấn Phùng, Huyện Đan Phượng, Hà Nội</td>\n",
       "      <td>Huyện Đan Phượng</td>\n",
       "      <td>Thị trấn Phùng</td>\n",
       "      <td>Nhà biệt thự</td>\n",
       "      <td>Giấy tờ khác</td>\n",
       "      <td>45</td>\n",
       "      <td>6.0</td>\n",
       "      <td>200 m²</td>\n",
       "      <td>25 m</td>\n",
       "      <td>8 m</td>\n",
       "      <td>25 triệu/m²</td>\n",
       "    </tr>\n",
       "    <tr>\n",
       "      <th>14365</th>\n",
       "      <td>2020-07-28</td>\n",
       "      <td>Đường Phúc Lợi, Phường Phúc Lợi, Quận Long Biên, Hà Nội</td>\n",
       "      <td>Quận Long Biên</td>\n",
       "      <td>Phường Phúc Lợi</td>\n",
       "      <td>Nhà ngõ, hẻm</td>\n",
       "      <td>Đã có sổ</td>\n",
       "      <td>45</td>\n",
       "      <td>3.0</td>\n",
       "      <td>30 m²</td>\n",
       "      <td>6.77 m</td>\n",
       "      <td>4.45 m</td>\n",
       "      <td>61,67 triệu/m²</td>\n",
       "    </tr>\n",
       "    <tr>\n",
       "      <th>19330</th>\n",
       "      <td>2020-07-24</td>\n",
       "      <td>Đường Hoa Sữa 1 - 23, Phường Phúc Lợi, Quận Long Biên, Hà Nội</td>\n",
       "      <td>Quận Long Biên</td>\n",
       "      <td>Phường Phúc Lợi</td>\n",
       "      <td>Nhà ngõ, hẻm</td>\n",
       "      <td>Đã có sổ</td>\n",
       "      <td>45</td>\n",
       "      <td>3.0</td>\n",
       "      <td>30 m²</td>\n",
       "      <td>6 m</td>\n",
       "      <td>5 m</td>\n",
       "      <td>63 triệu/m²</td>\n",
       "    </tr>\n",
       "    <tr>\n",
       "      <th>22378</th>\n",
       "      <td>2020-07-23</td>\n",
       "      <td>Đường Quốc lộ 32</td>\n",
       "      <td>Huyện Hoài Đức</td>\n",
       "      <td>Xã Kim Chung</td>\n",
       "      <td>Nhà mặt phố, mặt tiền</td>\n",
       "      <td>Đã có sổ</td>\n",
       "      <td>35</td>\n",
       "      <td>2.0</td>\n",
       "      <td>70 m²</td>\n",
       "      <td>NaN</td>\n",
       "      <td>NaN</td>\n",
       "      <td>15,71 triệu/m²</td>\n",
       "    </tr>\n",
       "    <tr>\n",
       "      <th>22763</th>\n",
       "      <td>2020-07-23</td>\n",
       "      <td>Đường Thái Hà, Phường Quang Trung, Quận Đống Đa, Hà Nội</td>\n",
       "      <td>Quận Đống Đa</td>\n",
       "      <td>Phường Quang Trung</td>\n",
       "      <td>Nhà ngõ, hẻm</td>\n",
       "      <td>Đã có sổ</td>\n",
       "      <td>42</td>\n",
       "      <td>3.0</td>\n",
       "      <td>42 m²</td>\n",
       "      <td>NaN</td>\n",
       "      <td>4 m</td>\n",
       "      <td>72,62 triệu/m²</td>\n",
       "    </tr>\n",
       "    <tr>\n",
       "      <th>28045</th>\n",
       "      <td>2020-07-19</td>\n",
       "      <td>2/93, Đường Bùi Xương Trạch, Phường Khương Đình, Quận Thanh Xuân, Hà Nội</td>\n",
       "      <td>Quận Thanh Xuân</td>\n",
       "      <td>Phường Khương Đình</td>\n",
       "      <td>Nhà ngõ, hẻm</td>\n",
       "      <td>Đã có sổ</td>\n",
       "      <td>45</td>\n",
       "      <td>2.0</td>\n",
       "      <td>32 m²</td>\n",
       "      <td>NaN</td>\n",
       "      <td>35 m</td>\n",
       "      <td>81,25 triệu/m²</td>\n",
       "    </tr>\n",
       "    <tr>\n",
       "      <th>33613</th>\n",
       "      <td>2020-07-15</td>\n",
       "      <td>Đường 32, Phường Phương Canh, Quận Nam Từ Liêm, Hà Nội</td>\n",
       "      <td>Quận Nam Từ Liêm</td>\n",
       "      <td>Phường Phương Canh</td>\n",
       "      <td>Nhà mặt phố, mặt tiền</td>\n",
       "      <td>Đang chờ sổ</td>\n",
       "      <td>25</td>\n",
       "      <td>2.0</td>\n",
       "      <td>59 m²</td>\n",
       "      <td>NaN</td>\n",
       "      <td>NaN</td>\n",
       "      <td>16,8 triệu/m²</td>\n",
       "    </tr>\n",
       "    <tr>\n",
       "      <th>35627</th>\n",
       "      <td>2020-07-14</td>\n",
       "      <td>Đường Võng Thị, Phường Thụy Khuê, Quận Tây Hồ, Hà Nội</td>\n",
       "      <td>Quận Tây Hồ</td>\n",
       "      <td>Phường Thụy Khuê</td>\n",
       "      <td>Nhà biệt thự</td>\n",
       "      <td>Đã có sổ</td>\n",
       "      <td>73</td>\n",
       "      <td>6.0</td>\n",
       "      <td>73 m²</td>\n",
       "      <td>14 m</td>\n",
       "      <td>5 m</td>\n",
       "      <td>81,37 triệu/m²</td>\n",
       "    </tr>\n",
       "    <tr>\n",
       "      <th>38144</th>\n",
       "      <td>2020-07-11</td>\n",
       "      <td>5, Đường Lâm Du, Phường Cự Khối, Quận Long Biên, Hà Nội</td>\n",
       "      <td>Quận Long Biên</td>\n",
       "      <td>Phường Cự Khối</td>\n",
       "      <td>Nhà ngõ, hẻm</td>\n",
       "      <td>Đã có sổ</td>\n",
       "      <td>35</td>\n",
       "      <td>3.0</td>\n",
       "      <td>63 m²</td>\n",
       "      <td>18 m</td>\n",
       "      <td>34 m</td>\n",
       "      <td>67,46 triệu/m²</td>\n",
       "    </tr>\n",
       "    <tr>\n",
       "      <th>39345</th>\n",
       "      <td>2020-07-10</td>\n",
       "      <td>12, Đường Nguyễn Phúc Lai, Phường Ô Chợ Dừa, Quận Đống Đa, Hà Nội</td>\n",
       "      <td>Quận Đống Đa</td>\n",
       "      <td>Phường Ô Chợ Dừa</td>\n",
       "      <td>Nhà phố liền kề</td>\n",
       "      <td>Đã có sổ</td>\n",
       "      <td>12</td>\n",
       "      <td>5.0</td>\n",
       "      <td>59 m²</td>\n",
       "      <td>11 m</td>\n",
       "      <td>5 m</td>\n",
       "      <td>144,07 triệu/m²</td>\n",
       "    </tr>\n",
       "    <tr>\n",
       "      <th>39770</th>\n",
       "      <td>2020-07-10</td>\n",
       "      <td>312, Đường Vũ Tông Phan, Phường Khương Trung, Quận Thanh Xuân, Hà Nội</td>\n",
       "      <td>Quận Thanh Xuân</td>\n",
       "      <td>Phường Khương Trung</td>\n",
       "      <td>Nhà mặt phố, mặt tiền</td>\n",
       "      <td>Đã có sổ</td>\n",
       "      <td>50</td>\n",
       "      <td>5.0</td>\n",
       "      <td>35 m²</td>\n",
       "      <td>NaN</td>\n",
       "      <td>NaN</td>\n",
       "      <td>105,71 triệu/m²</td>\n",
       "    </tr>\n",
       "    <tr>\n",
       "      <th>41446</th>\n",
       "      <td>2020-07-09</td>\n",
       "      <td>Đường An Hòa, Phường Mộ Lao, Quận Hà Đông, Hà Nội</td>\n",
       "      <td>Quận Hà Đông</td>\n",
       "      <td>Phường Mộ Lao</td>\n",
       "      <td>Nhà ngõ, hẻm</td>\n",
       "      <td>Đã có sổ</td>\n",
       "      <td>65</td>\n",
       "      <td>6.0</td>\n",
       "      <td>98 m²</td>\n",
       "      <td>NaN</td>\n",
       "      <td>8 m</td>\n",
       "      <td>66,33 triệu/m²</td>\n",
       "    </tr>\n",
       "    <tr>\n",
       "      <th>44207</th>\n",
       "      <td>2020-07-07</td>\n",
       "      <td>Đường Hoàng Văn Thái, Phường Khương Trung, Quận Thanh Xuân, Hà Nội</td>\n",
       "      <td>Quận Thanh Xuân</td>\n",
       "      <td>Phường Khương Trung</td>\n",
       "      <td>Nhà mặt phố, mặt tiền</td>\n",
       "      <td>Đã có sổ</td>\n",
       "      <td>55</td>\n",
       "      <td>6.0</td>\n",
       "      <td>45 m²</td>\n",
       "      <td>12 m</td>\n",
       "      <td>4 m</td>\n",
       "      <td>107,78 triệu/m²</td>\n",
       "    </tr>\n",
       "    <tr>\n",
       "      <th>45368</th>\n",
       "      <td>2020-07-06</td>\n",
       "      <td>Đường Đại lộ Thăng Long, Phường Tây Mỗ, Quận Nam Từ Liêm, Hà Nội</td>\n",
       "      <td>Quận Nam Từ Liêm</td>\n",
       "      <td>Phường Tây Mỗ</td>\n",
       "      <td>Nhà mặt phố, mặt tiền</td>\n",
       "      <td>Đang chờ sổ</td>\n",
       "      <td>38</td>\n",
       "      <td>2.0</td>\n",
       "      <td>62 m²</td>\n",
       "      <td>NaN</td>\n",
       "      <td>NaN</td>\n",
       "      <td>38,71 triệu/m²</td>\n",
       "    </tr>\n",
       "    <tr>\n",
       "      <th>48747</th>\n",
       "      <td>2020-07-03</td>\n",
       "      <td>Đường Đại lộ Thăng Long, Phường Mỹ Đình 1, Quận Nam Từ Liêm, Hà Nội</td>\n",
       "      <td>Quận Nam Từ Liêm</td>\n",
       "      <td>Phường Mỹ Đình 1</td>\n",
       "      <td>Nhà mặt phố, mặt tiền</td>\n",
       "      <td>Đã có sổ</td>\n",
       "      <td>30</td>\n",
       "      <td>2.0</td>\n",
       "      <td>112 m²</td>\n",
       "      <td>NaN</td>\n",
       "      <td>NaN</td>\n",
       "      <td>29,46 triệu/m²</td>\n",
       "    </tr>\n",
       "    <tr>\n",
       "      <th>51441</th>\n",
       "      <td>2020-07-01</td>\n",
       "      <td>Đường Lĩnh Nam, Phường Vĩnh Hưng, Quận Hoàng Mai, Hà Nội</td>\n",
       "      <td>Quận Hoàng Mai</td>\n",
       "      <td>Phường Vĩnh Hưng</td>\n",
       "      <td>Nhà ngõ, hẻm</td>\n",
       "      <td>Đã có sổ</td>\n",
       "      <td>14</td>\n",
       "      <td>11.0</td>\n",
       "      <td>5 m²</td>\n",
       "      <td>NaN</td>\n",
       "      <td>4.5 m</td>\n",
       "      <td>998 triệu/m²</td>\n",
       "    </tr>\n",
       "    <tr>\n",
       "      <th>52798</th>\n",
       "      <td>2020-06-30</td>\n",
       "      <td>Đường Thịnh Quang, Phường Trung Liệt, Quận Đống Đa, Hà Nội</td>\n",
       "      <td>Quận Đống Đa</td>\n",
       "      <td>Phường Trung Liệt</td>\n",
       "      <td>Nhà ngõ, hẻm</td>\n",
       "      <td>Đã có sổ</td>\n",
       "      <td>40</td>\n",
       "      <td>3.0</td>\n",
       "      <td>40 m²</td>\n",
       "      <td>NaN</td>\n",
       "      <td>NaN</td>\n",
       "      <td>80 triệu/m²</td>\n",
       "    </tr>\n",
       "    <tr>\n",
       "      <th>56081</th>\n",
       "      <td>2020-06-27</td>\n",
       "      <td>Đường Bạch Đằng, Phường Phúc Tân, Quận Hoàn Kiếm, Hà Nội</td>\n",
       "      <td>Quận Hoàn Kiếm</td>\n",
       "      <td>Phường Phúc Tân</td>\n",
       "      <td>Nhà mặt phố, mặt tiền</td>\n",
       "      <td>Đã có sổ</td>\n",
       "      <td>52</td>\n",
       "      <td>6.0</td>\n",
       "      <td>150 m²</td>\n",
       "      <td>15 m</td>\n",
       "      <td>10 m</td>\n",
       "      <td>113,33 triệu/m²</td>\n",
       "    </tr>\n",
       "    <tr>\n",
       "      <th>56090</th>\n",
       "      <td>2020-06-27</td>\n",
       "      <td>Đường Ngọc Thụy, Phường Ngọc Thụy, Quận Long Biên, Hà Nội</td>\n",
       "      <td>Quận Long Biên</td>\n",
       "      <td>Phường Ngọc Thụy</td>\n",
       "      <td>Nhà mặt phố, mặt tiền</td>\n",
       "      <td>Đã có sổ</td>\n",
       "      <td>35</td>\n",
       "      <td>4.0</td>\n",
       "      <td>44 m²</td>\n",
       "      <td>NaN</td>\n",
       "      <td>36 m</td>\n",
       "      <td>88,64 triệu/m²</td>\n",
       "    </tr>\n",
       "    <tr>\n",
       "      <th>62995</th>\n",
       "      <td>2020-06-22</td>\n",
       "      <td>Đường Trương Định, Phường Tân Mai, Quận Hoàng Mai, Hà Nội</td>\n",
       "      <td>Quận Hoàng Mai</td>\n",
       "      <td>Phường Tân Mai</td>\n",
       "      <td>Nhà ngõ, hẻm</td>\n",
       "      <td>Đã có sổ</td>\n",
       "      <td>54</td>\n",
       "      <td>4.0</td>\n",
       "      <td>36 m²</td>\n",
       "      <td>9 m</td>\n",
       "      <td>4 m</td>\n",
       "      <td>77.777 đ/m²</td>\n",
       "    </tr>\n",
       "    <tr>\n",
       "      <th>65035</th>\n",
       "      <td>2020-06-20</td>\n",
       "      <td>10 ngachd 129/55, Đường Bát Khối, Phường Long Biên, Quận Long Biên, Hà Nội</td>\n",
       "      <td>Quận Long Biên</td>\n",
       "      <td>Phường Long Biên</td>\n",
       "      <td>Nhà ngõ, hẻm</td>\n",
       "      <td>Đã có sổ</td>\n",
       "      <td>35</td>\n",
       "      <td>3.0</td>\n",
       "      <td>40 m²</td>\n",
       "      <td>98 m</td>\n",
       "      <td>412 m</td>\n",
       "      <td>66,25 triệu/m²</td>\n",
       "    </tr>\n",
       "    <tr>\n",
       "      <th>67201</th>\n",
       "      <td>2020-06-18</td>\n",
       "      <td>Đường Bồ Đề, Phường Bồ Đề, Quận Long Biên, Hà Nội</td>\n",
       "      <td>Quận Long Biên</td>\n",
       "      <td>Phường Bồ Đề</td>\n",
       "      <td>Nhà ngõ, hẻm</td>\n",
       "      <td>Đã có sổ</td>\n",
       "      <td>45</td>\n",
       "      <td>4.0</td>\n",
       "      <td>66 m²</td>\n",
       "      <td>NaN</td>\n",
       "      <td>NaN</td>\n",
       "      <td>56,06 triệu/m²</td>\n",
       "    </tr>\n",
       "    <tr>\n",
       "      <th>70386</th>\n",
       "      <td>2020-06-16</td>\n",
       "      <td>Dường nguyễn chính, Phường Thịnh Liệt, Quận Hoàng Mai, Hà Nội</td>\n",
       "      <td>Quận Hoàng Mai</td>\n",
       "      <td>Phường Thịnh Liệt</td>\n",
       "      <td>Nhà ngõ, hẻm</td>\n",
       "      <td>Đã có sổ</td>\n",
       "      <td>45</td>\n",
       "      <td>6.0</td>\n",
       "      <td>36 m²</td>\n",
       "      <td>6 m</td>\n",
       "      <td>6 m</td>\n",
       "      <td>88,89 triệu/m²</td>\n",
       "    </tr>\n",
       "    <tr>\n",
       "      <th>75014</th>\n",
       "      <td>2020-06-12</td>\n",
       "      <td>Đường Nguyễn Trãi, Phường Thượng Đình, Quận Thanh Xuân, Hà Nội</td>\n",
       "      <td>Quận Thanh Xuân</td>\n",
       "      <td>Phường Thượng Đình</td>\n",
       "      <td>Nhà mặt phố, mặt tiền</td>\n",
       "      <td>Đã có sổ</td>\n",
       "      <td>32</td>\n",
       "      <td>11.0</td>\n",
       "      <td>155 m²</td>\n",
       "      <td>NaN</td>\n",
       "      <td>8 m</td>\n",
       "      <td>161,29 triệu/m²</td>\n",
       "    </tr>\n",
       "    <tr>\n",
       "      <th>82114</th>\n",
       "      <td>2020-06-03</td>\n",
       "      <td>Đường Đường Láng, Phường Láng Thượng, Quận Đống Đa, Hà Nội</td>\n",
       "      <td>Quận Đống Đa</td>\n",
       "      <td>Phường Láng Thượng</td>\n",
       "      <td>Nhà mặt phố, mặt tiền</td>\n",
       "      <td>Đã có sổ</td>\n",
       "      <td>12</td>\n",
       "      <td>11.0</td>\n",
       "      <td>170 m²</td>\n",
       "      <td>NaN</td>\n",
       "      <td>8.5 m</td>\n",
       "      <td>273,53 triệu/m²</td>\n",
       "    </tr>\n",
       "    <tr>\n",
       "      <th>82131</th>\n",
       "      <td>2020-06-01</td>\n",
       "      <td>Đường Đào Tấn, Phường Cống Vị, Quận Ba Đình, Hà Nội</td>\n",
       "      <td>Quận Ba Đình</td>\n",
       "      <td>Phường Cống Vị</td>\n",
       "      <td>Nhà mặt phố, mặt tiền</td>\n",
       "      <td>Đã có sổ</td>\n",
       "      <td>29</td>\n",
       "      <td>11.0</td>\n",
       "      <td>1260 m²</td>\n",
       "      <td>NaN</td>\n",
       "      <td>38 m</td>\n",
       "      <td>246,03 triệu/m²</td>\n",
       "    </tr>\n",
       "  </tbody>\n",
       "</table>\n",
       "</div>"
      ],
      "text/plain": [
       "            Date  \\\n",
       "2627  2020-08-04   \n",
       "2940  2020-08-03   \n",
       "3443  2020-08-03   \n",
       "7727  2020-07-31   \n",
       "10021 2020-07-30   \n",
       "12476 2020-07-29   \n",
       "12823 2020-07-29   \n",
       "13406 2020-07-28   \n",
       "14365 2020-07-28   \n",
       "19330 2020-07-24   \n",
       "22378 2020-07-23   \n",
       "22763 2020-07-23   \n",
       "28045 2020-07-19   \n",
       "33613 2020-07-15   \n",
       "35627 2020-07-14   \n",
       "38144 2020-07-11   \n",
       "39345 2020-07-10   \n",
       "39770 2020-07-10   \n",
       "41446 2020-07-09   \n",
       "44207 2020-07-07   \n",
       "45368 2020-07-06   \n",
       "48747 2020-07-03   \n",
       "51441 2020-07-01   \n",
       "52798 2020-06-30   \n",
       "56081 2020-06-27   \n",
       "56090 2020-06-27   \n",
       "62995 2020-06-22   \n",
       "65035 2020-06-20   \n",
       "67201 2020-06-18   \n",
       "70386 2020-06-16   \n",
       "75014 2020-06-12   \n",
       "82114 2020-06-03   \n",
       "82131 2020-06-01   \n",
       "\n",
       "                                                                          Address  \\\n",
       "2627   318, Đường Ngọc Trì, Phường Thạch Bàn, Quận Long Biên, Hà Nội                \n",
       "2940   Đường Đại lộ Thăng Long                                                      \n",
       "3443   Đường Tam Trinh, Phường Lĩnh Nam, Quận Hoàng Mai, Hà Nội                     \n",
       "7727   đường kim giang, Phường Kim Giang, Quận Thanh Xuân, Hà Nội                   \n",
       "10021  vũ tông phan, Phường Kim Giang, Quận Thanh Xuân, Hà Nội                      \n",
       "12476  Đường Cầu Giấy, Phường Trung Hoà, Quận Cầu Giấy, Hà Nội                      \n",
       "12823  814, Đường Láng, Phường Láng Thượng, Quận Đống Đa, Hà Nội                    \n",
       "13406  Đường Tây Thăng Long, Thị trấn Phùng, Huyện Đan Phượng, Hà Nội               \n",
       "14365  Đường Phúc Lợi, Phường Phúc Lợi, Quận Long Biên, Hà Nội                      \n",
       "19330  Đường Hoa Sữa 1 - 23, Phường Phúc Lợi, Quận Long Biên, Hà Nội                \n",
       "22378  Đường Quốc lộ 32                                                             \n",
       "22763  Đường Thái Hà, Phường Quang Trung, Quận Đống Đa, Hà Nội                      \n",
       "28045  2/93, Đường Bùi Xương Trạch, Phường Khương Đình, Quận Thanh Xuân, Hà Nội     \n",
       "33613  Đường 32, Phường Phương Canh, Quận Nam Từ Liêm, Hà Nội                       \n",
       "35627  Đường Võng Thị, Phường Thụy Khuê, Quận Tây Hồ, Hà Nội                        \n",
       "38144  5, Đường Lâm Du, Phường Cự Khối, Quận Long Biên, Hà Nội                      \n",
       "39345  12, Đường Nguyễn Phúc Lai, Phường Ô Chợ Dừa, Quận Đống Đa, Hà Nội            \n",
       "39770  312, Đường Vũ Tông Phan, Phường Khương Trung, Quận Thanh Xuân, Hà Nội        \n",
       "41446  Đường An Hòa, Phường Mộ Lao, Quận Hà Đông, Hà Nội                            \n",
       "44207  Đường Hoàng Văn Thái, Phường Khương Trung, Quận Thanh Xuân, Hà Nội           \n",
       "45368  Đường Đại lộ Thăng Long, Phường Tây Mỗ, Quận Nam Từ Liêm, Hà Nội             \n",
       "48747  Đường Đại lộ Thăng Long, Phường Mỹ Đình 1, Quận Nam Từ Liêm, Hà Nội          \n",
       "51441  Đường Lĩnh Nam, Phường Vĩnh Hưng, Quận Hoàng Mai, Hà Nội                     \n",
       "52798  Đường Thịnh Quang, Phường Trung Liệt, Quận Đống Đa, Hà Nội                   \n",
       "56081  Đường Bạch Đằng, Phường Phúc Tân, Quận Hoàn Kiếm, Hà Nội                     \n",
       "56090  Đường Ngọc Thụy, Phường Ngọc Thụy, Quận Long Biên, Hà Nội                    \n",
       "62995  Đường Trương Định, Phường Tân Mai, Quận Hoàng Mai, Hà Nội                    \n",
       "65035  10 ngachd 129/55, Đường Bát Khối, Phường Long Biên, Quận Long Biên, Hà Nội   \n",
       "67201  Đường Bồ Đề, Phường Bồ Đề, Quận Long Biên, Hà Nội                            \n",
       "70386  Dường nguyễn chính, Phường Thịnh Liệt, Quận Hoàng Mai, Hà Nội                \n",
       "75014  Đường Nguyễn Trãi, Phường Thượng Đình, Quận Thanh Xuân, Hà Nội               \n",
       "82114  Đường Đường Láng, Phường Láng Thượng, Quận Đống Đa, Hà Nội                   \n",
       "82131  Đường Đào Tấn, Phường Cống Vị, Quận Ba Đình, Hà Nội                          \n",
       "\n",
       "               District                 Ward                   Type  \\\n",
       "2627   Quận Long Biên    Phường Thạch Bàn     Nhà ngõ, hẻm            \n",
       "2940   Quận Nam Từ Liêm  Phường Đại Mỗ        Nhà mặt phố, mặt tiền   \n",
       "3443   Quận Hoàng Mai    Phường Lĩnh Nam      Nhà mặt phố, mặt tiền   \n",
       "7727   Quận Thanh Xuân   Phường Kim Giang     Nhà mặt phố, mặt tiền   \n",
       "10021  Quận Thanh Xuân   Phường Kim Giang     Nhà ngõ, hẻm            \n",
       "12476  Quận Cầu Giấy     Phường Trung Hoà     Nhà ngõ, hẻm            \n",
       "12823  Quận Đống Đa      Phường Láng Thượng   Nhà ngõ, hẻm            \n",
       "13406  Huyện Đan Phượng  Thị trấn Phùng       Nhà biệt thự            \n",
       "14365  Quận Long Biên    Phường Phúc Lợi      Nhà ngõ, hẻm            \n",
       "19330  Quận Long Biên    Phường Phúc Lợi      Nhà ngõ, hẻm            \n",
       "22378  Huyện Hoài Đức    Xã Kim Chung         Nhà mặt phố, mặt tiền   \n",
       "22763  Quận Đống Đa      Phường Quang Trung   Nhà ngõ, hẻm            \n",
       "28045  Quận Thanh Xuân   Phường Khương Đình   Nhà ngõ, hẻm            \n",
       "33613  Quận Nam Từ Liêm  Phường Phương Canh   Nhà mặt phố, mặt tiền   \n",
       "35627  Quận Tây Hồ       Phường Thụy Khuê     Nhà biệt thự            \n",
       "38144  Quận Long Biên    Phường Cự Khối       Nhà ngõ, hẻm            \n",
       "39345  Quận Đống Đa      Phường Ô Chợ Dừa     Nhà phố liền kề         \n",
       "39770  Quận Thanh Xuân   Phường Khương Trung  Nhà mặt phố, mặt tiền   \n",
       "41446  Quận Hà Đông      Phường Mộ Lao        Nhà ngõ, hẻm            \n",
       "44207  Quận Thanh Xuân   Phường Khương Trung  Nhà mặt phố, mặt tiền   \n",
       "45368  Quận Nam Từ Liêm  Phường Tây Mỗ        Nhà mặt phố, mặt tiền   \n",
       "48747  Quận Nam Từ Liêm  Phường Mỹ Đình 1     Nhà mặt phố, mặt tiền   \n",
       "51441  Quận Hoàng Mai    Phường Vĩnh Hưng     Nhà ngõ, hẻm            \n",
       "52798  Quận Đống Đa      Phường Trung Liệt    Nhà ngõ, hẻm            \n",
       "56081  Quận Hoàn Kiếm    Phường Phúc Tân      Nhà mặt phố, mặt tiền   \n",
       "56090  Quận Long Biên    Phường Ngọc Thụy     Nhà mặt phố, mặt tiền   \n",
       "62995  Quận Hoàng Mai    Phường Tân Mai       Nhà ngõ, hẻm            \n",
       "65035  Quận Long Biên    Phường Long Biên     Nhà ngõ, hẻm            \n",
       "67201  Quận Long Biên    Phường Bồ Đề         Nhà ngõ, hẻm            \n",
       "70386  Quận Hoàng Mai    Phường Thịnh Liệt    Nhà ngõ, hẻm            \n",
       "75014  Quận Thanh Xuân   Phường Thượng Đình   Nhà mặt phố, mặt tiền   \n",
       "82114  Quận Đống Đa      Phường Láng Thượng   Nhà mặt phố, mặt tiền   \n",
       "82131  Quận Ba Đình      Phường Cống Vị       Nhà mặt phố, mặt tiền   \n",
       "\n",
       "              Legal Number of floors  Number of bedrooms     Area  Length  \\\n",
       "2627   Đã có sổ      50               3.0                 30 m²    8 m      \n",
       "2940   Đang chờ sổ   38               3.0                 80 m²    NaN      \n",
       "3443   Đã có sổ      35               3.0                 44 m²    NaN      \n",
       "7727   Đã có sổ      35               4.0                 48 m²    NaN      \n",
       "10021  Đã có sổ      45               3.0                 35 m²    NaN      \n",
       "12476  Đã có sổ      33               2.0                 21 m²    7 m      \n",
       "12823  Đã có sổ      45               3.0                 52 m²    NaN      \n",
       "13406  Giấy tờ khác  45               6.0                 200 m²   25 m     \n",
       "14365  Đã có sổ      45               3.0                 30 m²    6.77 m   \n",
       "19330  Đã có sổ      45               3.0                 30 m²    6 m      \n",
       "22378  Đã có sổ      35               2.0                 70 m²    NaN      \n",
       "22763  Đã có sổ      42               3.0                 42 m²    NaN      \n",
       "28045  Đã có sổ      45               2.0                 32 m²    NaN      \n",
       "33613  Đang chờ sổ   25               2.0                 59 m²    NaN      \n",
       "35627  Đã có sổ      73               6.0                 73 m²    14 m     \n",
       "38144  Đã có sổ      35               3.0                 63 m²    18 m     \n",
       "39345  Đã có sổ      12               5.0                 59 m²    11 m     \n",
       "39770  Đã có sổ      50               5.0                 35 m²    NaN      \n",
       "41446  Đã có sổ      65               6.0                 98 m²    NaN      \n",
       "44207  Đã có sổ      55               6.0                 45 m²    12 m     \n",
       "45368  Đang chờ sổ   38               2.0                 62 m²    NaN      \n",
       "48747  Đã có sổ      30               2.0                 112 m²   NaN      \n",
       "51441  Đã có sổ      14               11.0                5 m²     NaN      \n",
       "52798  Đã có sổ      40               3.0                 40 m²    NaN      \n",
       "56081  Đã có sổ      52               6.0                 150 m²   15 m     \n",
       "56090  Đã có sổ      35               4.0                 44 m²    NaN      \n",
       "62995  Đã có sổ      54               4.0                 36 m²    9 m      \n",
       "65035  Đã có sổ      35               3.0                 40 m²    98 m     \n",
       "67201  Đã có sổ      45               4.0                 66 m²    NaN      \n",
       "70386  Đã có sổ      45               6.0                 36 m²    6 m      \n",
       "75014  Đã có sổ      32               11.0                155 m²   NaN      \n",
       "82114  Đã có sổ      12               11.0                170 m²   NaN      \n",
       "82131  Đã có sổ      29               11.0                1260 m²  NaN      \n",
       "\n",
       "        Width         Price/m2  \n",
       "2627   4 m     75 triệu/m²      \n",
       "2940   NaN     37,5 triệu/m²    \n",
       "3443   35 m    11,32 triệu/m²   \n",
       "7727   NaN     83,33 triệu/m²   \n",
       "10021  NaN     100 triệu/m²     \n",
       "12476  3.3 m   104,76 triệu/m²  \n",
       "12823  NaN     74,04 triệu/m²   \n",
       "13406  8 m     25 triệu/m²      \n",
       "14365  4.45 m  61,67 triệu/m²   \n",
       "19330  5 m     63 triệu/m²      \n",
       "22378  NaN     15,71 triệu/m²   \n",
       "22763  4 m     72,62 triệu/m²   \n",
       "28045  35 m    81,25 triệu/m²   \n",
       "33613  NaN     16,8 triệu/m²    \n",
       "35627  5 m     81,37 triệu/m²   \n",
       "38144  34 m    67,46 triệu/m²   \n",
       "39345  5 m     144,07 triệu/m²  \n",
       "39770  NaN     105,71 triệu/m²  \n",
       "41446  8 m     66,33 triệu/m²   \n",
       "44207  4 m     107,78 triệu/m²  \n",
       "45368  NaN     38,71 triệu/m²   \n",
       "48747  NaN     29,46 triệu/m²   \n",
       "51441  4.5 m   998 triệu/m²     \n",
       "52798  NaN     80 triệu/m²      \n",
       "56081  10 m    113,33 triệu/m²  \n",
       "56090  36 m    88,64 triệu/m²   \n",
       "62995  4 m     77.777 đ/m²      \n",
       "65035  412 m   66,25 triệu/m²   \n",
       "67201  NaN     56,06 triệu/m²   \n",
       "70386  6 m     88,89 triệu/m²   \n",
       "75014  8 m     161,29 triệu/m²  \n",
       "82114  8.5 m   273,53 triệu/m²  \n",
       "82131  38 m    246,03 triệu/m²  "
      ]
     },
     "execution_count": 1594,
     "metadata": {},
     "output_type": "execute_result"
    }
   ],
   "source": [
    "housing_df[housing_df[\"Number of floors\"].isin(morethan10F)]"
   ]
  },
  {
   "attachments": {},
   "cell_type": "markdown",
   "metadata": {},
   "source": [
    "Không biết đây có phải là các dữ liệu mâu thuẫn, gây nhiễu hay không. Nên sẽ định dạng các giá trị này xem như là `Nhiều hơn 10 tầng` và chuyển nó thành `11`"
   ]
  },
  {
   "cell_type": "code",
   "execution_count": 1595,
   "metadata": {},
   "outputs": [],
   "source": [
    "def change_number_F(value):\n",
    "    if isinstance(value, str):\n",
    "        first = value.split(\" \")[0]\n",
    "        if first.isnumeric():\n",
    "            if int(first) < 11:\n",
    "                return int(first)\n",
    "            else:\n",
    "                return 11\n",
    "        else:\n",
    "            return 11\n",
    "    else:\n",
    "        return value"
   ]
  },
  {
   "cell_type": "code",
   "execution_count": 1596,
   "metadata": {},
   "outputs": [],
   "source": [
    "assert change_number_F(\"54\") == 11\n",
    "assert change_number_F(\"Nhiều hơn 10\") == 11\n",
    "assert change_number_F(\"4\") == 4"
   ]
  },
  {
   "attachments": {},
   "cell_type": "markdown",
   "metadata": {},
   "source": [
    "**Thay đổi giá trị cột `Number of floors`**"
   ]
  },
  {
   "cell_type": "code",
   "execution_count": 1597,
   "metadata": {},
   "outputs": [],
   "source": [
    "housing_df[\"Number of floors\"] = housing_df[\"Number of floors\"].apply(change_number_F)"
   ]
  },
  {
   "cell_type": "code",
   "execution_count": 1598,
   "metadata": {},
   "outputs": [],
   "source": [
    "numF_count = housing_df[\"Number of floors\"].value_counts().to_frame().sort_index()"
   ]
  },
  {
   "cell_type": "code",
   "execution_count": 1599,
   "metadata": {},
   "outputs": [
    {
     "data": {
      "image/png": "[encoded data removed]",
      "text/plain": [
       "<Figure size 1170x827 with 1 Axes>"
      ]
     },
     "metadata": {},
     "output_type": "display_data"
    }
   ],
   "source": [
    "fig, ax = plt.subplots()\n",
    "fig.set_size_inches(a4size)\n",
    "\n",
    "numF_count.plot.bar(rot = 0, ax = ax)\n",
    "ax.set_xlabel(\"SốTầng\", fontsize = 20)\n",
    "ax.set_ylabel(\"Count\", fontsize = 20)\n",
    "ax.set_title(\"Biểu đồ cột thể hiện số lượng của số tầng\", fontsize =30)\n",
    "\n",
    "for i in ax.containers:\n",
    "    ax.bar_label(i,)\n",
    "plt.show()"
   ]
  },
  {
   "attachments": {},
   "cell_type": "markdown",
   "metadata": {},
   "source": [
    "Số tầng lớn hơn 10 không quá nhiều, có lẻ không ảnh hưởng mấy đến các quá trình sau."
   ]
  },
  {
   "attachments": {},
   "cell_type": "markdown",
   "metadata": {},
   "source": [
    "- **Length - Width - Area - Price/m2**"
   ]
  },
  {
   "cell_type": "code",
   "execution_count": 1600,
   "metadata": {},
   "outputs": [
    {
     "data": {
      "text/plain": [
       "2        10 m   \n",
       "3        12.75 m\n",
       "4        9 m    \n",
       "5        12.1 m \n",
       "8        12 m   \n",
       "         ...    \n",
       "82355    13 m   \n",
       "82356    16 m   \n",
       "82359    14 m   \n",
       "82361    20 m   \n",
       "82362    20 m   \n",
       "Name: Length, Length: 19827, dtype: object"
      ]
     },
     "execution_count": 1600,
     "metadata": {},
     "output_type": "execute_result"
    }
   ],
   "source": [
    "housing_df[~housing_df.Length.isna()].Length"
   ]
  },
  {
   "attachments": {},
   "cell_type": "markdown",
   "metadata": {},
   "source": [
    "Ta nhận thấy ngoài giá trị `NaN`, các giá trị còn lại được định dạng theo `<số kích thước>` `\"m\"`"
   ]
  },
  {
   "attachments": {},
   "cell_type": "markdown",
   "metadata": {},
   "source": [
    "Xây dựng một hàm để tách số ra khỏi `m`"
   ]
  },
  {
   "cell_type": "code",
   "execution_count": 1601,
   "metadata": {},
   "outputs": [],
   "source": [
    "def split_size(size):\n",
    "    if not isinstance(size, float):\n",
    "        if size[-1] != \"m\":\n",
    "            try:\n",
    "                return float(size)\n",
    "            except ValueError:\n",
    "                return size\n",
    "\n",
    "        first = size.split(\"m\")[0]\n",
    "        try:\n",
    "            return float(first)\n",
    "        except ValueError:\n",
    "            return size\n",
    "    else:\n",
    "        return size"
   ]
  },
  {
   "cell_type": "code",
   "execution_count": 1602,
   "metadata": {},
   "outputs": [],
   "source": [
    "assert split_size(\"2.2 m\") == 2.2\n",
    "assert split_size(\"2.2x34 m\") == \"2.2x34 m\"\n",
    "assert split_size(\"23 x 32\") == \"23 x 32\"\n",
    "assert split_size(\"2.3\") == 2.3"
   ]
  },
  {
   "cell_type": "code",
   "execution_count": 1603,
   "metadata": {},
   "outputs": [],
   "source": [
    "housing_df.Length = housing_df.Length.apply(split_size)"
   ]
  },
  {
   "cell_type": "code",
   "execution_count": 1604,
   "metadata": {},
   "outputs": [
    {
     "data": {
      "text/plain": [
       "<AxesSubplot: >"
      ]
     },
     "execution_count": 1604,
     "metadata": {},
     "output_type": "execute_result"
    },
    {
     "data": {
      "image/png": "[encoded data removed]",
      "text/plain": [
       "<Figure size 640x480 with 1 Axes>"
      ]
     },
     "metadata": {},
     "output_type": "display_data"
    }
   ],
   "source": [
    "num_type = housing_df.Length.apply(lambda x: type(x))\n",
    "num_type.value_counts().plot.bar(rot = 0)"
   ]
  },
  {
   "attachments": {},
   "cell_type": "markdown",
   "metadata": {},
   "source": [
    "Như vậy các giá trị của cột `Length` đều đã chuyển thành công sang dạng float và bỏ qua chữ `m`. Không có giá trị bị nhiễu, vì nếu có thì biểu đồ ở trên sẽ trả ra 2 kiểu dữ liệu là `float` và `string`."
   ]
  },
  {
   "cell_type": "code",
   "execution_count": 1605,
   "metadata": {},
   "outputs": [
    {
     "data": {
      "text/plain": [
       "2        4 m  \n",
       "3        4 m  \n",
       "4        4 m  \n",
       "5        3.8 m\n",
       "6        4.5 m\n",
       "         ...  \n",
       "82357    4 m  \n",
       "82359    5 m  \n",
       "82360    3 m  \n",
       "82361    4 m  \n",
       "82362    4 m  \n",
       "Name: Width, Length: 35445, dtype: object"
      ]
     },
     "execution_count": 1605,
     "metadata": {},
     "output_type": "execute_result"
    }
   ],
   "source": [
    "housing_df[~housing_df.Width.isna()].Width"
   ]
  },
  {
   "attachments": {},
   "cell_type": "markdown",
   "metadata": {},
   "source": [
    "Vậy có thể cột `Width` cũng giống như `Length`"
   ]
  },
  {
   "cell_type": "code",
   "execution_count": 1606,
   "metadata": {},
   "outputs": [],
   "source": [
    "housing_df.Width = housing_df.Width.apply(split_size)"
   ]
  },
  {
   "cell_type": "code",
   "execution_count": 1607,
   "metadata": {},
   "outputs": [
    {
     "data": {
      "text/plain": [
       "<AxesSubplot: >"
      ]
     },
     "execution_count": 1607,
     "metadata": {},
     "output_type": "execute_result"
    },
    {
     "data": {
      "image/png": "[encoded data removed]",
      "text/plain": [
       "<Figure size 640x480 with 1 Axes>"
      ]
     },
     "metadata": {},
     "output_type": "display_data"
    }
   ],
   "source": [
    "num_type = housing_df.Width.apply(lambda x: type(x))\n",
    "num_type.value_counts().plot.bar(rot = 0)"
   ]
  },
  {
   "cell_type": "code",
   "execution_count": 1608,
   "metadata": {},
   "outputs": [
    {
     "data": {
      "text/plain": [
       "0        46 m²\n",
       "1        37 m²\n",
       "2        40 m²\n",
       "3        51 m²\n",
       "4        36 m²\n",
       "         ...  \n",
       "82491    38 m²\n",
       "82492    50 m²\n",
       "82493    41 m²\n",
       "82494    60 m²\n",
       "82495    45 m²\n",
       "Name: Area, Length: 82495, dtype: object"
      ]
     },
     "execution_count": 1608,
     "metadata": {},
     "output_type": "execute_result"
    }
   ],
   "source": [
    "housing_df[~housing_df.Area.isna()].Area"
   ]
  },
  {
   "attachments": {},
   "cell_type": "markdown",
   "metadata": {},
   "source": [
    "Giờ là `m²`, nên phải viết lại hàm `split_size` thành `split_area`"
   ]
  },
  {
   "cell_type": "code",
   "execution_count": 1609,
   "metadata": {},
   "outputs": [],
   "source": [
    "def split_area(area):\n",
    "    if not isinstance(area, float):\n",
    "        if area[-2:] != \"m²\":\n",
    "            try:\n",
    "                return float(area)\n",
    "            except ValueError:\n",
    "                return area\n",
    "\n",
    "        first = area.split(\"m²\")[0]\n",
    "        try:\n",
    "            return float(first)\n",
    "        except ValueError:\n",
    "            return area\n",
    "    else:\n",
    "        return area"
   ]
  },
  {
   "cell_type": "code",
   "execution_count": 1610,
   "metadata": {},
   "outputs": [],
   "source": [
    "assert split_area(\"2.2 m²\") == 2.2\n",
    "assert split_area(\"2.2x34 m²\") == \"2.2x34 m²\"\n",
    "assert split_area(\"23 x 32\") == \"23 x 32\"\n",
    "assert split_area(\"2.3\") == 2.3"
   ]
  },
  {
   "cell_type": "code",
   "execution_count": 1611,
   "metadata": {},
   "outputs": [],
   "source": [
    "housing_df.Area = housing_df.Area.apply(split_area)"
   ]
  },
  {
   "cell_type": "code",
   "execution_count": 1612,
   "metadata": {},
   "outputs": [
    {
     "data": {
      "text/plain": [
       "<AxesSubplot: >"
      ]
     },
     "execution_count": 1612,
     "metadata": {},
     "output_type": "execute_result"
    },
    {
     "data": {
      "image/png": "[encoded data removed]",
      "text/plain": [
       "<Figure size 640x480 with 1 Axes>"
      ]
     },
     "metadata": {},
     "output_type": "display_data"
    }
   ],
   "source": [
    "num_type = housing_df.Area.apply(lambda x: type(x))\n",
    "num_type.value_counts().plot.bar(rot = 0)"
   ]
  },
  {
   "cell_type": "code",
   "execution_count": 1613,
   "metadata": {},
   "outputs": [
    {
     "data": {
      "text/html": [
       "<div>\n",
       "<style scoped>\n",
       "    .dataframe tbody tr th:only-of-type {\n",
       "        vertical-align: middle;\n",
       "    }\n",
       "\n",
       "    .dataframe tbody tr th {\n",
       "        vertical-align: top;\n",
       "    }\n",
       "\n",
       "    .dataframe thead th {\n",
       "        text-align: right;\n",
       "    }\n",
       "</style>\n",
       "<table border=\"1\" class=\"dataframe\">\n",
       "  <thead>\n",
       "    <tr style=\"text-align: right;\">\n",
       "      <th></th>\n",
       "      <th>Price/m2</th>\n",
       "    </tr>\n",
       "  </thead>\n",
       "  <tbody>\n",
       "    <tr>\n",
       "      <th>0</th>\n",
       "      <td>86,96 triệu/m²</td>\n",
       "    </tr>\n",
       "    <tr>\n",
       "      <th>1</th>\n",
       "      <td>116,22 triệu/m²</td>\n",
       "    </tr>\n",
       "    <tr>\n",
       "      <th>2</th>\n",
       "      <td>65 triệu/m²</td>\n",
       "    </tr>\n",
       "    <tr>\n",
       "      <th>3</th>\n",
       "      <td>100 triệu/m²</td>\n",
       "    </tr>\n",
       "    <tr>\n",
       "      <th>4</th>\n",
       "      <td>86,11 triệu/m²</td>\n",
       "    </tr>\n",
       "    <tr>\n",
       "      <th>...</th>\n",
       "      <td>...</td>\n",
       "    </tr>\n",
       "    <tr>\n",
       "      <th>82491</th>\n",
       "      <td>81,58 triệu/m²</td>\n",
       "    </tr>\n",
       "    <tr>\n",
       "      <th>82492</th>\n",
       "      <td>292 triệu/m²</td>\n",
       "    </tr>\n",
       "    <tr>\n",
       "      <th>82493</th>\n",
       "      <td>341,46 triệu/m²</td>\n",
       "    </tr>\n",
       "    <tr>\n",
       "      <th>82494</th>\n",
       "      <td>101,67 triệu/m²</td>\n",
       "    </tr>\n",
       "    <tr>\n",
       "      <th>82495</th>\n",
       "      <td>102,22 triệu/m²</td>\n",
       "    </tr>\n",
       "  </tbody>\n",
       "</table>\n",
       "<p>82496 rows × 1 columns</p>\n",
       "</div>"
      ],
      "text/plain": [
       "              Price/m2\n",
       "0      86,96 triệu/m² \n",
       "1      116,22 triệu/m²\n",
       "2      65 triệu/m²    \n",
       "3      100 triệu/m²   \n",
       "4      86,11 triệu/m² \n",
       "...               ... \n",
       "82491  81,58 triệu/m² \n",
       "82492  292 triệu/m²   \n",
       "82493  341,46 triệu/m²\n",
       "82494  101,67 triệu/m²\n",
       "82495  102,22 triệu/m²\n",
       "\n",
       "[82496 rows x 1 columns]"
      ]
     },
     "execution_count": 1613,
     "metadata": {},
     "output_type": "execute_result"
    }
   ],
   "source": [
    "price_df = housing_df[\"Price/m2\"].to_frame().copy()\n",
    "price_df"
   ]
  },
  {
   "attachments": {},
   "cell_type": "markdown",
   "metadata": {},
   "source": [
    "Các giá tiền có một chút bị `lỗi`, thay vì dấu `.`, cột này lại định dạng theo dấu `,`"
   ]
  },
  {
   "cell_type": "code",
   "execution_count": 1614,
   "metadata": {},
   "outputs": [],
   "source": [
    "def split_price(price):\n",
    "    if not isinstance(price, float):\n",
    "        if ',' in price:\n",
    "            price = price.replace(\",\",\".\")\n",
    "        if price.strip(\" \")[-8:] != \"triệu/m²\":\n",
    "            try:\n",
    "                return float(price)\n",
    "            except ValueError:\n",
    "                return price\n",
    "\n",
    "        first = price.split(\"triệu/m²\")[0]\n",
    "        try:\n",
    "            return float(first)\n",
    "        except ValueError:\n",
    "            return price\n",
    "    else:\n",
    "        return price"
   ]
  },
  {
   "cell_type": "code",
   "execution_count": 1615,
   "metadata": {},
   "outputs": [],
   "source": [
    "price_df[\"Price/m2\"] = price_df[\"Price/m2\"].apply(split_price)"
   ]
  },
  {
   "cell_type": "code",
   "execution_count": 1616,
   "metadata": {},
   "outputs": [
    {
     "data": {
      "text/plain": [
       "0        86.96 \n",
       "1        116.22\n",
       "2        65.0  \n",
       "3        100.0 \n",
       "4        86.11 \n",
       "         ...   \n",
       "82491    81.58 \n",
       "82492    292.0 \n",
       "82493    341.46\n",
       "82494    101.67\n",
       "82495    102.22\n",
       "Name: Price/m2, Length: 82496, dtype: object"
      ]
     },
     "execution_count": 1616,
     "metadata": {},
     "output_type": "execute_result"
    }
   ],
   "source": [
    "price_df[\"Price/m2\"]"
   ]
  },
  {
   "cell_type": "code",
   "execution_count": 1617,
   "metadata": {},
   "outputs": [
    {
     "data": {
      "text/plain": [
       "<AxesSubplot: >"
      ]
     },
     "execution_count": 1617,
     "metadata": {},
     "output_type": "execute_result"
    },
    {
     "data": {
      "image/png": "[encoded data removed]",
      "text/plain": [
       "<Figure size 640x480 with 1 Axes>"
      ]
     },
     "metadata": {},
     "output_type": "display_data"
    }
   ],
   "source": [
    "num_type = price_df[\"Price/m2\"].apply(lambda x: type(x))\n",
    "num_type.value_counts().plot.bar(rot = 0)"
   ]
  },
  {
   "attachments": {},
   "cell_type": "markdown",
   "metadata": {},
   "source": [
    "Dữ liệu vẫn còn bị dạng `string`. ???"
   ]
  },
  {
   "cell_type": "code",
   "execution_count": 1618,
   "metadata": {},
   "outputs": [
    {
     "data": {
      "text/plain": [
       "93       247.787 đ/m²\n",
       "174      1 đ/m²      \n",
       "283      90.476 đ/m² \n",
       "338      178.571 đ/m²\n",
       "351      125.000 đ/m²\n",
       "             ...     \n",
       "82294    59.183 đ/m² \n",
       "82316    85.555 đ/m² \n",
       "82325    86.842 đ/m² \n",
       "82344    69.565 đ/m² \n",
       "82349    105.714 đ/m²\n",
       "Name: Price/m2, Length: 858, dtype: object"
      ]
     },
     "execution_count": 1618,
     "metadata": {},
     "output_type": "execute_result"
    }
   ],
   "source": [
    "price_df[price_df[\"Price/m2\"].apply(lambda x: True if isinstance(x, str) else False)][\"Price/m2\"]"
   ]
  },
  {
   "attachments": {},
   "cell_type": "markdown",
   "metadata": {},
   "source": [
    "Vậy xây dựng thêm một hàm y như hàm `split_price` nhưng thay đổi giá trị được tách."
   ]
  },
  {
   "cell_type": "code",
   "execution_count": 1619,
   "metadata": {},
   "outputs": [],
   "source": [
    "def split_price2(price):\n",
    "    if not isinstance(price, float):\n",
    "        if ',' in price:\n",
    "            price = price.replace(\",\",\".\")\n",
    "        if price.strip(\" \")[-4:] != \"đ/m²\":\n",
    "            try:\n",
    "                return float(price)\n",
    "            except ValueError:\n",
    "                return price\n",
    "\n",
    "        first = price.split(\"đ/m²\")[0]\n",
    "        try:\n",
    "            return float(first)\n",
    "        except ValueError:\n",
    "            return price\n",
    "    else:\n",
    "        return price"
   ]
  },
  {
   "cell_type": "code",
   "execution_count": 1620,
   "metadata": {},
   "outputs": [],
   "source": [
    "price_df[\"Price/m2\"] = price_df[\"Price/m2\"].apply(split_price2)"
   ]
  },
  {
   "cell_type": "code",
   "execution_count": 1621,
   "metadata": {},
   "outputs": [
    {
     "data": {
      "text/plain": [
       "<AxesSubplot: >"
      ]
     },
     "execution_count": 1621,
     "metadata": {},
     "output_type": "execute_result"
    },
    {
     "data": {
      "image/png": "[encoded data removed]",
      "text/plain": [
       "<Figure size 640x480 with 1 Axes>"
      ]
     },
     "metadata": {},
     "output_type": "display_data"
    }
   ],
   "source": [
    "num_type = price_df[\"Price/m2\"].apply(lambda x: type(x))\n",
    "num_type.value_counts().plot.bar(rot = 0)"
   ]
  },
  {
   "attachments": {},
   "cell_type": "markdown",
   "metadata": {},
   "source": [
    "@@ Vẫn còn dạng `string`."
   ]
  },
  {
   "cell_type": "code",
   "execution_count": 1622,
   "metadata": {},
   "outputs": [
    {
     "data": {
      "text/plain": [
       "1100     1.202777777 tỷ/m²\n",
       "1144     1.142857142 tỷ/m²\n",
       "1657     1.96 tỷ/m²       \n",
       "2849     1.557142857 tỷ/m²\n",
       "2939     1.316666666 tỷ/m²\n",
       "               ...        \n",
       "78107    5.833333333 tỷ/m²\n",
       "79034    1.0125 tỷ/m²     \n",
       "79835    1.706666666 tỷ/m²\n",
       "80222    1.5 tỷ/m²        \n",
       "81845    2.538461538 tỷ/m²\n",
       "Name: Price/m2, Length: 118, dtype: object"
      ]
     },
     "execution_count": 1622,
     "metadata": {},
     "output_type": "execute_result"
    }
   ],
   "source": [
    "price_df[price_df[\"Price/m2\"].apply(lambda x: True if isinstance(x, str) else False)][\"Price/m2\"]"
   ]
  },
  {
   "attachments": {},
   "cell_type": "markdown",
   "metadata": {},
   "source": [
    "Có rất nhiều cách để thể hiện mức giá nên, cột này sẽ không xử lí. Để các tình huống `Đặt câu hỏi`, `Mô hình học máy`, nếu cần thiết có thể tiền xử lí trước khi thực hiện."
   ]
  },
  {
   "cell_type": "code",
   "execution_count": 1623,
   "metadata": {},
   "outputs": [],
   "source": [
    "price_df = housing_df[\"Price/m2\"].to_frame()"
   ]
  },
  {
   "cell_type": "code",
   "execution_count": 1624,
   "metadata": {},
   "outputs": [],
   "source": [
    "import re\n",
    "price_df[\"Unit\"] = price_df[\"Price/m2\"].apply(lambda x: re.findall(r\"\\w+[/]\\w+\", x)[0] if isinstance(x, str) else x)"
   ]
  },
  {
   "cell_type": "code",
   "execution_count": 1625,
   "metadata": {},
   "outputs": [
    {
     "data": {
      "text/plain": [
       "<AxesSubplot: >"
      ]
     },
     "execution_count": 1625,
     "metadata": {},
     "output_type": "execute_result"
    },
    {
     "data": {
      "image/png": "[encoded data removed]",
      "text/plain": [
       "<Figure size 640x480 with 1 Axes>"
      ]
     },
     "metadata": {},
     "output_type": "display_data"
    }
   ],
   "source": [
    "price_df.Unit.value_counts().plot.bar(rot = 0)"
   ]
  },
  {
   "attachments": {},
   "cell_type": "markdown",
   "metadata": {},
   "source": [
    "Như vậy có 3 đơn vị giá tiền trong cột. Đó là `triệu/m2`, `đ/m2` và `tỷ/m2`"
   ]
  },
  {
   "cell_type": "code",
   "execution_count": 1626,
   "metadata": {},
   "outputs": [],
   "source": [
    "housing_df[\"Unit\"] = price_df.Unit"
   ]
  },
  {
   "attachments": {},
   "cell_type": "markdown",
   "metadata": {},
   "source": [
    "# **Thông tin các cột**"
   ]
  },
  {
   "attachments": {},
   "cell_type": "markdown",
   "metadata": {},
   "source": [
    "| Tên cột | Kiểu dữ liệu | Mô tả | \n",
    "| --- | --- | --- |\n",
    "| Date | datetime | Ngày đăng bán | \n",
    "| Address | string | Địa chỉ căn nhà | \n",
    "| District | string | Quận |\n",
    "| Ward | string | Huyện | \n",
    "| Type | string | Kiểu nhà ở |\n",
    "| Legal | string | Giấy tờ pháp lý của nhà ở |  \n",
    "| Number of floors | float | Số tầng | \n",
    "| Number of bedrooms | float | Số phòng ngủ |\n",
    "| Area | float | Diện tích căn nhà |\n",
    "| Length | float | Chiều dài căn nhà |\n",
    "| Width | float | Chiều rộng căn nhà |\n",
    "| Price/m2 | string | Số tiền mua căn nhà | \n",
    "| Unit | string | Đơn vị của giá tiền |\n"
   ]
  },
  {
   "cell_type": "code",
   "execution_count": 1627,
   "metadata": {},
   "outputs": [
    {
     "name": "stdout",
     "output_type": "stream",
     "text": [
      "<class 'pandas.core.frame.DataFrame'>\n",
      "RangeIndex: 82496 entries, 0 to 82495\n",
      "Data columns (total 13 columns):\n",
      " #   Column              Non-Null Count  Dtype         \n",
      "---  ------              --------------  -----         \n",
      " 0   Date                82496 non-null  datetime64[ns]\n",
      " 1   Address             82449 non-null  object        \n",
      " 2   District            82495 non-null  object        \n",
      " 3   Ward                82449 non-null  object        \n",
      " 4   Type                82465 non-null  object        \n",
      " 5   Legal               53610 non-null  object        \n",
      " 6   Number of floors    36399 non-null  float64       \n",
      " 7   Number of bedrooms  82458 non-null  float64       \n",
      " 8   Area                82495 non-null  float64       \n",
      " 9   Length              19827 non-null  float64       \n",
      " 10  Width               35445 non-null  float64       \n",
      " 11  Price/m2            82484 non-null  object        \n",
      " 12  Unit                82484 non-null  object        \n",
      "dtypes: datetime64[ns](1), float64(5), object(7)\n",
      "memory usage: 8.2+ MB\n"
     ]
    }
   ],
   "source": [
    "housing_df.info()"
   ]
  },
  {
   "cell_type": "code",
   "execution_count": 1628,
   "metadata": {},
   "outputs": [
    {
     "data": {
      "text/html": [
       "<div>\n",
       "<style scoped>\n",
       "    .dataframe tbody tr th:only-of-type {\n",
       "        vertical-align: middle;\n",
       "    }\n",
       "\n",
       "    .dataframe tbody tr th {\n",
       "        vertical-align: top;\n",
       "    }\n",
       "\n",
       "    .dataframe thead th {\n",
       "        text-align: right;\n",
       "    }\n",
       "</style>\n",
       "<table border=\"1\" class=\"dataframe\">\n",
       "  <thead>\n",
       "    <tr style=\"text-align: right;\">\n",
       "      <th></th>\n",
       "      <th>Address</th>\n",
       "      <th>Area</th>\n",
       "      <th>Date</th>\n",
       "      <th>District</th>\n",
       "      <th>Legal</th>\n",
       "      <th>Length</th>\n",
       "      <th>Number of bedrooms</th>\n",
       "      <th>Number of floors</th>\n",
       "      <th>Price/m2</th>\n",
       "      <th>Type</th>\n",
       "      <th>Unit</th>\n",
       "      <th>Ward</th>\n",
       "      <th>Width</th>\n",
       "    </tr>\n",
       "  </thead>\n",
       "  <tbody>\n",
       "    <tr>\n",
       "      <th>missing_ratio</th>\n",
       "      <td>0.056972</td>\n",
       "      <td>0.001212</td>\n",
       "      <td>0.0</td>\n",
       "      <td>0.001212</td>\n",
       "      <td>35.015031</td>\n",
       "      <td>75.966107</td>\n",
       "      <td>0.046063</td>\n",
       "      <td>55.877861</td>\n",
       "      <td>0.014546</td>\n",
       "      <td>0.037578</td>\n",
       "      <td>0.014546</td>\n",
       "      <td>0.056972</td>\n",
       "      <td>57.03428</td>\n",
       "    </tr>\n",
       "    <tr>\n",
       "      <th>num_diff_vals</th>\n",
       "      <td>13957</td>\n",
       "      <td>504</td>\n",
       "      <td>174</td>\n",
       "      <td>29</td>\n",
       "      <td>3</td>\n",
       "      <td>487</td>\n",
       "      <td>11</td>\n",
       "      <td>11</td>\n",
       "      <td>8345</td>\n",
       "      <td>4</td>\n",
       "      <td>3</td>\n",
       "      <td>309</td>\n",
       "      <td>410</td>\n",
       "    </tr>\n",
       "    <tr>\n",
       "      <th>diff vals</th>\n",
       "      <td>[Đường Hoàng Quốc Việt, Phường Nghĩa Đô, Quận Cầu Giấy, Hà Nội, Đường Kim Giang, Phường Kim Giang, Quận Thanh Xuân, Hà Nội, phố minh khai, Phường Minh Khai, Quận Hai Bà Trưng, Hà Nội, Đường Võng Thị, Phường Thụy Khuê, Quận Tây Hồ, Hà Nội, Đường Yên Hòa, Phường Yên Hoà, Quận Cầu Giấy, Hà Nội, Đường Tây Sơn, Phường Trung Liệt, Quận Đống Đa, Hà Nội, Đường Lò Đúc, Phường Đống Mác, Quận Hai Bà Trưng, Hà Nội, Đường Xuân La, Phường Xuân La, Quận Tây Hồ, Hà Nội, Đường 19/5, Phường Văn Quán, Quận Hà Đông, Hà Nội, Đường Tựu Liệt, Thị trấn Văn Điển, Huyện Thanh Trì, Hà Nội, Đường Định Công Hạ, Phường Định Công, Quận Hoàng Mai, Hà Nội, Đường Bồ Đề, Phường Bồ Đề, Quận Long Biên, Hà Nội, Đường Quang Trung, Phường Quang Trung, Quận Hà Đông, Hà Nội, Đường Đê Trần Khát Chân, Phường Thanh Lương, Quận Hai Bà Trưng, Hà Nội, Đường Khương Trung, Phường Khương Trung, Quận Thanh Xuân, Hà Nội, Đường Phúc Tân, Phường Phúc Tân, Quận Hoàn Kiếm, Hà Nội, Đường Nguyễn Văn Cừ, Phường Gia Thụy, Quận Long Biên, Hà Nội, Đường Khương Đình, Phường Khương Đình, Quận Thanh Xuân, Hà Nội, Đường Phương Canh, Phường Phương Canh, Quận Nam Từ Liêm, Hà Nội, Đường Trần Phú, Phường Văn Quán, Quận Hà Đông, Hà Nội, Đường Trương Định, Phường Tương Mai, Quận Hoàng Mai, Hà Nội, Đường Tố Hữu, Phường La Khê, Quận Hà Đông, Hà Nội, Đường Đồng Me, Phường Mễ Trì, Quận Nam Từ Liêm, Hà Nội, Đường Lê Trọng Tấn, Phường Khương Mai, Quận Thanh Xuân, Hà Nội, Đường Láng Hạ, Phường Láng Hạ, Quận Đống Đa, Hà Nội, Đường Nguyễn Khánh Toàn, Phường Quan Hoa, Quận Cầu Giấy, Hà Nội, 180/61/5, Đường Tây Mỗ, Phường Tây Mỗ, Quận Nam Từ Liêm, Hà Nội, Đường Núi Trúc, Phường Ngọc Khánh, Quận Ba Đình, Hà Nội, Đường Tô Hiệu, Phường Quang Trung, Quận Hà Đông, Hà Nội, Đường Ngọc Trục, Phường Đại Mỗ, Quận Nam Từ Liêm, Hà Nội, Đường Lạc Long Quân, Phường Nghĩa Đô, Quận Cầu Giấy, Hà Nội, Đường Tả Thanh Oai, Xã Tả Thanh Oai, Huyện Thanh Trì, Hà Nội, Đường Mỹ Đình, Phường Mỹ Đình 1, Quận Nam Từ Liêm, Hà Nội, Đường Nguyễn Chí Thanh, Phường Láng Hạ, Quận Đống Đa, Hà Nội, Đường Vĩnh Quỳnh, Xã Tam Hiệp, Huyện Thanh Trì, Hà Nội, Đội Cấn, Phường Cống Vị, Quận Ba Đình, Hà Nội, Đường Phố Vọng, Phường Bách Khoa, Quận Hai Bà Trưng, Hà Nội, Đường Vĩnh Phúc, Phường Vĩnh Phúc, Quận Ba Đình, Hà Nội, Ngách 6A, Đường Tả Thanh Oai, Xã Tả Thanh Oai, Huyện Thanh Trì, Hà Nội, Đường Yên Vĩnh, Xã Kim Chung, Huyện Hoài Đức, Hà Nội, 4, Đường Kim Giang, Phường Đại Kim, Quận Hoàng Mai, Hà Nội, Bùi Xương Trạch, Phường Khương Đình, Quận Thanh Xuân, Hà Nội, Đường Lĩnh Nam, Phường Mai Động, Quận Hoàng Mai, Hà Nội, Đường Tôn Thất Tùng, Phường Trung Tự, Quận Đống Đa, Hà Nội, văn phu, Phường Kiến Hưng, Quận Hà Đông, Hà Nội, Đường Núi Trúc, Phường Trúc Bạch, Quận Ba Đình, Hà Nội, 88, Đường Phạm Văn Đồng, Phường Cổ Nhuế 1, Quận Bắc Từ Liêm, Hà Nội, Đường Đào Tấn, Phường Cống Vị, Quận Ba Đình, Hà Nội, đức giang, Phường Đức Giang, Quận Long Biên, Hà Nội, Đường Nguyễn Cơ Thạch, Phường Mỹ Đình 2, Quận Nam Từ Liêm, Hà Nội, Đường Lạc Long Quân, Phường Bưởi, Quận Tây Hồ, Hà Nội, Đường Minh Khai, Phường Minh Khai, Quận Hai Bà Trưng, Hà Nội, Đường Chùa Láng, Phường Láng Hạ, Quận Đống Đa, Hà Nội, Khương Hạ, Phường Khương Đình, Quận Thanh Xuân, Hà Nội, tả thanh oai, Xã Tả Thanh Oai, Huyện Thanh Trì, Hà Nội, Đường Xã Đàn 2, Phường Ô Chợ Dừa, Quận Đống Đa, Hà Nội, Đường Bùi Xương Trạch, Phường Khương Đình, Quận Thanh Xuân, Hà Nội, Đường Phố Trạm, Phường Long Biên, Quận Long Biên, Hà Nội, Đường Đền Lừ, Phường Hoàng Văn Thụ, Quận Hoàng Mai, Hà Nội, Đường Doãn Kế Thiện, Phường Mai Dịch, Quận Cầu Giấy, Hà Nội, Đường Hoàng Mai, Phường Hoàng Văn Thụ, Quận Hoàng Mai, Hà Nội, Đường Quan Nhân, Phường Nhân Chính, Quận Thanh Xuân, Hà Nội, Đường Gốc Đề, Phường Minh Khai, Quận Hai Bà Trưng, Hà Nội, Đường Vạn Phúc, Phường Vạn Phúc, Quận Hà Đông, Hà Nội, Đường Ngọc Hà, Phường Ngọc Hà, Quận Ba Đình, Hà Nội, Đường Hào Nam, Phường Ô Chợ Dừa, Quận Đống Đa, Hà Nội, Lĩnh nam, Phường Lĩnh Nam, Quận Hoàng Mai, Hà Nội, Đường Khương Hạ, Phường Khương Đình, Quận Thanh Xuân, Hà Nội, Xuân Đinh, Phường Xuân Đỉnh, Quận Bắc Từ Liêm, Hà Nội, Đường Phú Đô, Phường Phú Đô, Quận Nam Từ Liêm, Hà Nội, Đường Văn Cao, Phường Liễu Giai, Quận Ba Đình, Hà Nội, 1, Đường Nguyễn Khánh Toàn, Phường Quan Hoa, Quận Cầu Giấy, Hà Nội, Nguyễn Thái Học, Thị trấn Phùng, Huyện Đan Phượng, Hà Nội, Đường Đê La Thành, Phường Kim Liên, Quận Đống Đa, Hà Nội, Đường Đức Diễn, Phường Phúc Diễn, Quận Bắc Từ Liêm, Hà Nội, Đường Kim Mã, Phường Kim Mã, Quận Ba Đình, Hà Nội, Đường Trung Phụng, Phường Trung Phụng, Quận Đống Đa, Hà Nội, Đường Lĩnh Nam, Phường Lĩnh Nam, Quận Hoàng Mai, Hà Nội, Đường Đền Lừ 1, Phường Tân Mai, Quận Hoàng Mai, Hà Nội, Đường Hàm Nghi, Phường Cầu Diễn, Quận Nam Từ Liêm, Hà Nội, Văn Phú, Phường La Khê, Quận Hà Đông, Hà Nội, Tây Sơn, Phường Ngã Tư Sở, Quận Đống Đa, Hà Nội, Đường Phùng Khoang, Phường Trung Văn, Quận Nam Từ Liêm, Hà Nội, Đường Nguyễn Trãi, Phường Thượng Đình, Quận Thanh Xuân, Hà Nội, Đường Tây Sơn, Phường Ngã Tư Sở, Quận Đống Đa, Hà Nội, Đường Thái Hà, Phường Trung Liệt, Quận Đống Đa, Hà Nội, Đường Bằng B, NHÂN MỸ, Phường Mỹ Đình 2, Quận Nam Từ Liêm, Hà Nội, Đường Quốc lộ 32, Phường Minh Khai, Quận Bắc Từ Liêm, Hà Nội, Đường Giáp Nhị, Phường Thịnh Liệt, Quận Hoàng Mai, Hà Nội, tôn đức thắng, Phường Quốc Tử Giám, Quận Đống Đa, Hà Nội, Đường Trích Sài, Phường Thụy Khuê, Quận Tây Hồ, Hà Nội, Đường Văn Quán, Phường Văn Quán, Quận Hà Đông, Hà Nội, Đường Khâm Thiên, Phường Khâm Thiên, Quận Đống Đa, Hà Nội, Đường Trương Định, Phường Trương Định, Quận Hai Bà Trưng, Hà Nội, Đường Huỳnh Thúc Kháng, Phường Láng Hạ, Quận Đống Đa, Hà Nội, Đường Phạm Văn Đồng, Phường Cổ Nhuế 1, Quận Bắc Từ Liêm, Hà Nội, Đường Khâm Thiên||377, Phường Khâm Thiên, Quận Đống Đa, Hà Nội, Đường Phú Diễn, Phường Phú Diễn, Quận Bắc Từ Liêm, Hà Nội, Đường Thái Thịnh 1, Phường Trung Liệt, Quận Đống Đa, Hà Nội, ...]</td>\n",
       "      <td>[46.0, 37.0, 40.0, 51.0, 36.0, 52.0, 32.0, 75.0, 41.0, 35.0, 30.0, 50.0, 52.8, 165.0, 70.0, 34.0, 65.0, 45.0, 79.0, 90.0, 73.0, 18.0, 42.0, 43.0, 25.0, 38.0, 49.0, 33.0, 120.0, 200.0, 47.0, 55.0, 77.0, 27.0, 60.0, 81.0, 20.0, 54.0, 28.0, 113.0, 76.0, 62.0, 11.0, 44.0, 21.0, 58.0, 196.0, 48.0, 24.0, 56.0, 104.0, 83.0, 68.0, 31.0, 64.0, 32.1, 185.0, 61.0, 23.0, 92.0, 85.0, 30.2, 26.0, 140.0, 31.5, 63.0, 39.0, 80.0, 57.0, 16.0, 13.0, 67.0, 35.22, 110.0, 35.21, 138.0, 3.0, 40.22, 22.0, 32.22, 82.0, 53.0, 86.0, 47.3, 33.33, 87.0, 96.0, 66.0, 451.0, 108.0, 32.07, 125.0, 33.1, 39.8, 36.5, 59.0, 443.0, 35.5, 46.4, 69.0, ...]</td>\n",
       "      <td>[2020-08-05 00:00:00, 2020-08-04 00:00:00, 2020-08-03 00:00:00, 2020-08-02 00:00:00, 2020-08-01 00:00:00, 2020-07-31 00:00:00, 2020-07-30 00:00:00, 2020-07-29 00:00:00, 2020-07-28 00:00:00, 2020-07-27 00:00:00, 2020-07-26 00:00:00, 2020-07-25 00:00:00, 2020-07-24 00:00:00, 2020-07-23 00:00:00, 2020-07-22 00:00:00, 2020-07-21 00:00:00, 2020-07-20 00:00:00, 2020-07-19 00:00:00, 2020-07-18 00:00:00, 2020-07-17 00:00:00, 2020-07-16 00:00:00, 2020-07-15 00:00:00, 2020-07-14 00:00:00, 2020-07-13 00:00:00, 2020-07-12 00:00:00, 2020-07-11 00:00:00, 2020-07-10 00:00:00, 2020-07-09 00:00:00, 2020-07-08 00:00:00, 2020-07-07 00:00:00, 2020-07-06 00:00:00, 2020-07-05 00:00:00, 2020-07-04 00:00:00, 2020-07-03 00:00:00, 2020-07-02 00:00:00, 2020-07-01 00:00:00, 2020-06-30 00:00:00, 2020-06-29 00:00:00, 2020-06-28 00:00:00, 2020-06-27 00:00:00, 2020-06-26 00:00:00, 2020-06-25 00:00:00, 2020-06-24 00:00:00, 2020-06-23 00:00:00, 2020-06-22 00:00:00, 2020-06-21 00:00:00, 2020-06-20 00:00:00, 2020-06-19 00:00:00, 2020-06-18 00:00:00, 2020-06-17 00:00:00, 2020-06-16 00:00:00, 2020-06-15 00:00:00, 2020-06-14 00:00:00, 2020-06-13 00:00:00, 2020-06-12 00:00:00, 2020-06-11 00:00:00, 2020-06-10 00:00:00, 2020-06-09 00:00:00, 2020-06-08 00:00:00, 2020-06-07 00:00:00, 2020-06-06 00:00:00, 2020-06-05 00:00:00, 2020-06-04 00:00:00, 2020-06-03 00:00:00, 2020-06-02 00:00:00, 2020-06-01 00:00:00, 2020-05-31 00:00:00, 2020-05-30 00:00:00, 2020-05-29 00:00:00, 2020-05-28 00:00:00, 2020-05-27 00:00:00, 2020-05-26 00:00:00, 2020-05-25 00:00:00, 2020-05-24 00:00:00, 2020-05-23 00:00:00, 2020-05-22 00:00:00, 2020-05-21 00:00:00, 2020-05-20 00:00:00, 2020-05-19 00:00:00, 2020-05-18 00:00:00, 2020-05-17 00:00:00, 2020-05-16 00:00:00, 2020-05-15 00:00:00, 2020-05-14 00:00:00, 2020-05-13 00:00:00, 2020-05-12 00:00:00, 2020-05-11 00:00:00, 2020-05-10 00:00:00, 2020-05-09 00:00:00, 2020-05-08 00:00:00, 2020-05-07 00:00:00, 2020-05-06 00:00:00, 2020-05-05 00:00:00, 2020-05-04 00:00:00, 2020-05-03 00:00:00, 2020-05-01 00:00:00, 2020-04-30 00:00:00, 2020-04-29 00:00:00, 2020-04-28 00:00:00, 2020-04-27 00:00:00, ...]</td>\n",
       "      <td>[Quận Cầu Giấy, Quận Thanh Xuân, Quận Hai Bà Trưng, Quận Tây Hồ, Quận Đống Đa, Quận Hà Đông, Huyện Thanh Trì, Quận Hoàng Mai, Quận Long Biên, Quận Hoàn Kiếm, Quận Nam Từ Liêm, Quận Ba Đình, Huyện Hoài Đức, Quận Bắc Từ Liêm, Huyện Đan Phượng, Huyện Thanh Oai, Huyện Sóc Sơn, Huyện Gia Lâm, Huyện Chương Mỹ, Huyện Đông Anh, Huyện Thường Tín, Thị xã Sơn Tây, Huyện Mê Linh, Huyện Thạch Thất, Huyện Quốc Oai, Huyện Phúc Thọ, Huyện Phú Xuyên, Huyện Ba Vì, Huyện Mỹ Đức]</td>\n",
       "      <td>[Đã có sổ, Đang chờ sổ, Giấy tờ khác]</td>\n",
       "      <td>[10.0, 12.75, 9.0, 12.1, 12.0, 13.0, 15.2, 18.0, 6.6, 11.0, 22.0, 17.0, 8.5, 6.0, 8.0, 22.5, 6.5, 7.0, 9.5, 20.0, 9.2, 4.0, 3.0, 50.0, 8.7, 8.75, 15.0, 8.04, 16.57, 9.72, 4.6, 11.7, 7.5, 21.0, 22.6, 16.0, 5.0, 8.14, 14.0, 5.6, 12.25, 15.7, 16.55, 4.2, 1430.0, 30.0, 48.0, 10.6, 8.96, 10.5, 8.3, 6.2, 19.0, 6.7, 10.2, 5.5, 7.8, 10.4, 9.7, 11.25, 9.4, 2.7, 10.1, 12.5, 35.0, 9.8, 5.8, 7.81, 8.2, 12.3, 7.4, 11.5, 4.5, 8.8, 3.8, 9.1, 9.3, 6.09, 25.0, 14.8, 23.0, 105.0, 7.38, 13.1, 8.4, 7.7, 125.0, 3.1, 13.8, 6.8, 11.1, 5.99, 2.0, 10.17, 38.0, 6.02, 24.0, 9.75, 7.2, 13.9, ...]</td>\n",
       "      <td>[5.0, 3.0, 4.0, 6.0, 11.0, 8.0, 2.0, 7.0, 9.0, 1.0, 10.0]</td>\n",
       "      <td>[4.0, 6.0, 5.0, 7.0, 2.0, 3.0, 8.0, 1.0, 9.0, 11.0, 10.0]</td>\n",
       "      <td>[86,96 triệu/m², 116,22 triệu/m², 65 triệu/m², 100 triệu/m², 86,11 triệu/m², 104,35 triệu/m², 112,5 triệu/m², 184,38 triệu/m², 120 triệu/m², 64,63 triệu/m², 45,71 triệu/m², 83,33 triệu/m², 93,27 triệu/m², 86 triệu/m², 75 triệu/m², 103,03 triệu/m², 102,86 triệu/m², 82,35 triệu/m², 51,56 triệu/m², 75,38 triệu/m², 64,44 triệu/m², 112,66 triệu/m², 108,89 triệu/m², 106,85 triệu/m², 250 triệu/m², 107,5 triệu/m², 133,33 triệu/m², 60,94 triệu/m², 69,44 triệu/m², 83,81 triệu/m², 58,33 triệu/m², 95,56 triệu/m², 29,76 triệu/m², 80,43 triệu/m², 361,9 triệu/m², 50 triệu/m², 96 triệu/m², 51,11 triệu/m², 80,86 triệu/m², 68,42 triệu/m², 55,71 triệu/m², 36,73 triệu/m², 80,3 triệu/m², 73,68 triệu/m², 96,88 triệu/m², 125 triệu/m², 47,25 triệu/m², 57,45 triệu/m², 309,09 triệu/m², 61,67 triệu/m², 130 triệu/m², 62,75 triệu/m², 56,25 triệu/m², 114,29 triệu/m², 105,95 triệu/m², 98,75 triệu/m², 59,72 triệu/m², 91,67 triệu/m², 2,08 triệu/m², 120,59 triệu/m², 72,22 triệu/m², 104,41 triệu/m², 82,67 triệu/m², 105,56 triệu/m², 136,36 triệu/m², 225 triệu/m², 81,25 triệu/m², 77,5 triệu/m², 89,06 triệu/m², 39,51 triệu/m², 97,5 triệu/m², 101,85 triệu/m², 109,17 triệu/m², 68,75 triệu/m², 36,25 triệu/m², 70 triệu/m², 136,25 triệu/m², 67,86 triệu/m², 84,38 triệu/m², 54,55 triệu/m², 65,79 triệu/m², 131,58 triệu/m², 80,61 triệu/m², 247.787 đ/m², 60 triệu/m², 118,33 triệu/m², 53,51 triệu/m², 61,18 triệu/m², 71,11 triệu/m², 125,81 triệu/m², 207,32 triệu/m², 81,52 triệu/m², 131,82 triệu/m², 89,77 triệu/m², 76,47 triệu/m², 276,67 triệu/m², 46,61 triệu/m², 71,43 triệu/m², 393,33 triệu/m², 118,18 triệu/m², ...]</td>\n",
       "      <td>[Nhà ngõ, hẻm, Nhà mặt phố, mặt tiền, Nhà biệt thự, Nhà phố liền kề]</td>\n",
       "      <td>[triệu/m², đ/m², tỷ/m²]</td>\n",
       "      <td>[Phường Nghĩa Đô, Phường Kim Giang, Phường Minh Khai, Phường Thụy Khuê, Phường Yên Hoà, Phường Trung Liệt, Phường Đống Mác, Phường Xuân La, Phường Văn Quán, Thị trấn Văn Điển, Phường Định Công, Phường Bồ Đề, Phường Quang Trung, Phường Thanh Lương, Phường Khương Trung, Phường Phúc Tân, Phường Gia Thụy, Phường Khương Đình, Phường Phương Canh, Phường Tương Mai, Phường La Khê, Phường Mễ Trì, Phường Khương Mai, Phường Láng Hạ, Phường Quan Hoa, Phường Tây Mỗ, Phường Ngọc Khánh, Phường Đại Mỗ, Xã Tả Thanh Oai, Phường Mỹ Đình 1, Xã Tam Hiệp, Phường Cống Vị, Phường Bách Khoa, Phường Vĩnh Phúc, Xã Kim Chung, Phường Đại Kim, Phường Mai Động, Phường Trung Tự, Phường Kiến Hưng, Phường Trúc Bạch, Phường Cổ Nhuế 1, Phường Đức Giang, Phường Mỹ Đình 2, Phường Bưởi, Phường Ô Chợ Dừa, Phường Long Biên, Phường Hoàng Văn Thụ, Phường Mai Dịch, Phường Nhân Chính, Phường Vạn Phúc, Phường Ngọc Hà, Phường Lĩnh Nam, Phường Xuân Đỉnh, Phường Phú Đô, Phường Liễu Giai, Thị trấn Phùng, Phường Kim Liên, Phường Phúc Diễn, Phường Kim Mã, Phường Trung Phụng, Phường Tân Mai, Phường Cầu Diễn, Phường Ngã Tư Sở, Phường Trung Văn, Phường Thượng Đình, Phường Hoàng Liệt, Phường Thịnh Liệt, Phường Quốc Tử Giám, Phường Khâm Thiên, Phường Trương Định, Phường Phú Diễn, Phường Thạch Bàn, Phường Ngọc Thụy, Phường Cầu Dền, Phường Phú Lương, Phường Bạch Đằng, Phường Phú La, Phường Hà Cầu, Phường Láng Thượng, Phường Phương Liệt, Phường Vĩnh Hưng, Phường Thanh Nhàn, Phường Cự Khối, Phường Đội Cấn, Phường Thịnh Quang, Phường Trung Hoà, Phường Quỳnh Mai, Phường Nam Đồng, Phường Dịch Vọng Hậu, Phường Nghĩa Tân, Xã Cự Khê, Phường Vĩnh Tuy, Phường Quảng An, Phường Yên Nghĩa, Phường Thành Công, Phường Giáp Bát, Phường Dịch Vọng, Phường Thanh Xuân Bắc, Phường Phương Mai, Phường Bạch Mai, ...]</td>\n",
       "      <td>[4.0, 3.8, 4.5, 6.8, 6.5, 3.5, 5.0, 3.9, 4.2, 5.3, 7.0, 8.0, 3.1, 3.0, 4.3, 9.0, 3.4, 3.2, 3.6, 3.25, 53.0, 6.0, 7.55, 3.7, 4.8, 4.1, 4.55, 3.3, 3.73, 5.6, 38.0, 33.0, 32.0, 13.0, 45.0, 42.0, 7.3, 6.3, 3.78, 3.65, 5.5, 4.6, 3.75, 12.0, 3500.0, 3.46, 2.9, 35.0, 6.2, 4.16, 3.06, 5.7, 3.55, 6.1, 5.4, 6.6, 4.4, 37.0, 5.1, 41.0, 7.4, 348.0, 2.0, 4.29, 5.94, 30.0, 4.12, 10.0, 85.0, 7.2, 5.2, 5.9, 3.57, 5.8, 3.95, 7.6, 3.53, 15.0, 5.58, 18.0, 2.8, 6.05, 6.7, 4.9, 34.0, 36.0, 500.0, 3600.0, 25.0, 2.7, 8.85, 13.5, 52.0, 7.8, 39.0, 430.0, 9.5, 4.33, 1.0, 3.85, ...]</td>\n",
       "    </tr>\n",
       "  </tbody>\n",
       "</table>\n",
       "</div>"
      ],
      "text/plain": [
       "                                                                                                                                                                                                                                                                                                                                                                                                                                                                                                                                                                                                                                                                                                                                                                                                                                                                                                                                                                                                                                                                                                                                                                                                                                                                                                                                                                                                                                                                                                                                                                                                                                                                                                                                                                                                                                                                                                                                                                                                                                                                                                                                                                                                                                                                                                                                                                                                                                                                                                                                                                                                                                                                                                                                                                                                                                                                                                                                                                                                                                                                                                                                                                                                                                                                                                                                                                                                                                                                                                                                                                                                                                                                                                                                                                                                                                                                                                                                                                                                                                                                                                                                                                                                                                                                                                                                                                                                                                                                                                                                                                                                                                                                                                                                                                                                                                                                                                                                                                                                                                                                                                                                                                                                                                                                                                                                                                                                                                                                                                                                                                                                                                                                                                                                                                                                                                                                                                                                                                                                                                                                    Address  \\\n",
       "missing_ratio  0.056972                                                                                                                                                                                                                                                                                                                                                                                                                                                                                                                                                                                                                                                                                                                                                                                                                                                                                                                                                                                                                                                                                                                                                                                                                                                                                                                                                                                                                                                                                                                                                                                                                                                                                                                                                                                                                                                                                                                                                                                                                                                                                                                                                                                                                                                                                                                                                                                                                                                                                                                                                                                                                                                                                                                                                                                                                                                                                                                                                                                                                                                                                                                                                                                                                                                                                                                                                                                                                                                                                                                                                                                                                                                                                                                                                                                                                                                                                                                                                                                                                                                                                                                                                                                                                                                                                                                                                                                                                                                                                                                                                                                                                                                                                                                                                                                                                                                                                                                                                                                                                                                                                                                                                                                                                                                                                                                                                                                                                                                                                                                                                                                                                                                                                                                                                                                                                                                                                                                                                                                                                                                       \n",
       "num_diff_vals  13957                                                                                                                                                                                                                                                                                                                                                                                                                                                                                                                                                                                                                                                                                                                                                                                                                                                                                                                                                                                                                                                                                                                                                                                                                                                                                                                                                                                                                                                                                                                                                                                                                                                                                                                                                                                                                                                                                                                                                                                                                                                                                                                                                                                                                                                                                                                                                                                                                                                                                                                                                                                                                                                                                                                                                                                                                                                                                                                                                                                                                                                                                                                                                                                                                                                                                                                                                                                                                                                                                                                                                                                                                                                                                                                                                                                                                                                                                                                                                                                                                                                                                                                                                                                                                                                                                                                                                                                                                                                                                                                                                                                                                                                                                                                                                                                                                                                                                                                                                                                                                                                                                                                                                                                                                                                                                                                                                                                                                                                                                                                                                                                                                                                                                                                                                                                                                                                                                                                                                                                                                                                          \n",
       "diff vals      [Đường Hoàng Quốc Việt, Phường Nghĩa Đô, Quận Cầu Giấy, Hà Nội, Đường Kim Giang, Phường Kim Giang, Quận Thanh Xuân, Hà Nội, phố minh khai, Phường Minh Khai, Quận Hai Bà Trưng, Hà Nội, Đường Võng Thị, Phường Thụy Khuê, Quận Tây Hồ, Hà Nội, Đường Yên Hòa, Phường Yên Hoà, Quận Cầu Giấy, Hà Nội, Đường Tây Sơn, Phường Trung Liệt, Quận Đống Đa, Hà Nội, Đường Lò Đúc, Phường Đống Mác, Quận Hai Bà Trưng, Hà Nội, Đường Xuân La, Phường Xuân La, Quận Tây Hồ, Hà Nội, Đường 19/5, Phường Văn Quán, Quận Hà Đông, Hà Nội, Đường Tựu Liệt, Thị trấn Văn Điển, Huyện Thanh Trì, Hà Nội, Đường Định Công Hạ, Phường Định Công, Quận Hoàng Mai, Hà Nội, Đường Bồ Đề, Phường Bồ Đề, Quận Long Biên, Hà Nội, Đường Quang Trung, Phường Quang Trung, Quận Hà Đông, Hà Nội, Đường Đê Trần Khát Chân, Phường Thanh Lương, Quận Hai Bà Trưng, Hà Nội, Đường Khương Trung, Phường Khương Trung, Quận Thanh Xuân, Hà Nội, Đường Phúc Tân, Phường Phúc Tân, Quận Hoàn Kiếm, Hà Nội, Đường Nguyễn Văn Cừ, Phường Gia Thụy, Quận Long Biên, Hà Nội, Đường Khương Đình, Phường Khương Đình, Quận Thanh Xuân, Hà Nội, Đường Phương Canh, Phường Phương Canh, Quận Nam Từ Liêm, Hà Nội, Đường Trần Phú, Phường Văn Quán, Quận Hà Đông, Hà Nội, Đường Trương Định, Phường Tương Mai, Quận Hoàng Mai, Hà Nội, Đường Tố Hữu, Phường La Khê, Quận Hà Đông, Hà Nội, Đường Đồng Me, Phường Mễ Trì, Quận Nam Từ Liêm, Hà Nội, Đường Lê Trọng Tấn, Phường Khương Mai, Quận Thanh Xuân, Hà Nội, Đường Láng Hạ, Phường Láng Hạ, Quận Đống Đa, Hà Nội, Đường Nguyễn Khánh Toàn, Phường Quan Hoa, Quận Cầu Giấy, Hà Nội, 180/61/5, Đường Tây Mỗ, Phường Tây Mỗ, Quận Nam Từ Liêm, Hà Nội, Đường Núi Trúc, Phường Ngọc Khánh, Quận Ba Đình, Hà Nội, Đường Tô Hiệu, Phường Quang Trung, Quận Hà Đông, Hà Nội, Đường Ngọc Trục, Phường Đại Mỗ, Quận Nam Từ Liêm, Hà Nội, Đường Lạc Long Quân, Phường Nghĩa Đô, Quận Cầu Giấy, Hà Nội, Đường Tả Thanh Oai, Xã Tả Thanh Oai, Huyện Thanh Trì, Hà Nội, Đường Mỹ Đình, Phường Mỹ Đình 1, Quận Nam Từ Liêm, Hà Nội, Đường Nguyễn Chí Thanh, Phường Láng Hạ, Quận Đống Đa, Hà Nội, Đường Vĩnh Quỳnh, Xã Tam Hiệp, Huyện Thanh Trì, Hà Nội, Đội Cấn, Phường Cống Vị, Quận Ba Đình, Hà Nội, Đường Phố Vọng, Phường Bách Khoa, Quận Hai Bà Trưng, Hà Nội, Đường Vĩnh Phúc, Phường Vĩnh Phúc, Quận Ba Đình, Hà Nội, Ngách 6A, Đường Tả Thanh Oai, Xã Tả Thanh Oai, Huyện Thanh Trì, Hà Nội, Đường Yên Vĩnh, Xã Kim Chung, Huyện Hoài Đức, Hà Nội, 4, Đường Kim Giang, Phường Đại Kim, Quận Hoàng Mai, Hà Nội, Bùi Xương Trạch, Phường Khương Đình, Quận Thanh Xuân, Hà Nội, Đường Lĩnh Nam, Phường Mai Động, Quận Hoàng Mai, Hà Nội, Đường Tôn Thất Tùng, Phường Trung Tự, Quận Đống Đa, Hà Nội, văn phu, Phường Kiến Hưng, Quận Hà Đông, Hà Nội, Đường Núi Trúc, Phường Trúc Bạch, Quận Ba Đình, Hà Nội, 88, Đường Phạm Văn Đồng, Phường Cổ Nhuế 1, Quận Bắc Từ Liêm, Hà Nội, Đường Đào Tấn, Phường Cống Vị, Quận Ba Đình, Hà Nội, đức giang, Phường Đức Giang, Quận Long Biên, Hà Nội, Đường Nguyễn Cơ Thạch, Phường Mỹ Đình 2, Quận Nam Từ Liêm, Hà Nội, Đường Lạc Long Quân, Phường Bưởi, Quận Tây Hồ, Hà Nội, Đường Minh Khai, Phường Minh Khai, Quận Hai Bà Trưng, Hà Nội, Đường Chùa Láng, Phường Láng Hạ, Quận Đống Đa, Hà Nội, Khương Hạ, Phường Khương Đình, Quận Thanh Xuân, Hà Nội, tả thanh oai, Xã Tả Thanh Oai, Huyện Thanh Trì, Hà Nội, Đường Xã Đàn 2, Phường Ô Chợ Dừa, Quận Đống Đa, Hà Nội, Đường Bùi Xương Trạch, Phường Khương Đình, Quận Thanh Xuân, Hà Nội, Đường Phố Trạm, Phường Long Biên, Quận Long Biên, Hà Nội, Đường Đền Lừ, Phường Hoàng Văn Thụ, Quận Hoàng Mai, Hà Nội, Đường Doãn Kế Thiện, Phường Mai Dịch, Quận Cầu Giấy, Hà Nội, Đường Hoàng Mai, Phường Hoàng Văn Thụ, Quận Hoàng Mai, Hà Nội, Đường Quan Nhân, Phường Nhân Chính, Quận Thanh Xuân, Hà Nội, Đường Gốc Đề, Phường Minh Khai, Quận Hai Bà Trưng, Hà Nội, Đường Vạn Phúc, Phường Vạn Phúc, Quận Hà Đông, Hà Nội, Đường Ngọc Hà, Phường Ngọc Hà, Quận Ba Đình, Hà Nội, Đường Hào Nam, Phường Ô Chợ Dừa, Quận Đống Đa, Hà Nội, Lĩnh nam, Phường Lĩnh Nam, Quận Hoàng Mai, Hà Nội, Đường Khương Hạ, Phường Khương Đình, Quận Thanh Xuân, Hà Nội, Xuân Đinh, Phường Xuân Đỉnh, Quận Bắc Từ Liêm, Hà Nội, Đường Phú Đô, Phường Phú Đô, Quận Nam Từ Liêm, Hà Nội, Đường Văn Cao, Phường Liễu Giai, Quận Ba Đình, Hà Nội, 1, Đường Nguyễn Khánh Toàn, Phường Quan Hoa, Quận Cầu Giấy, Hà Nội, Nguyễn Thái Học, Thị trấn Phùng, Huyện Đan Phượng, Hà Nội, Đường Đê La Thành, Phường Kim Liên, Quận Đống Đa, Hà Nội, Đường Đức Diễn, Phường Phúc Diễn, Quận Bắc Từ Liêm, Hà Nội, Đường Kim Mã, Phường Kim Mã, Quận Ba Đình, Hà Nội, Đường Trung Phụng, Phường Trung Phụng, Quận Đống Đa, Hà Nội, Đường Lĩnh Nam, Phường Lĩnh Nam, Quận Hoàng Mai, Hà Nội, Đường Đền Lừ 1, Phường Tân Mai, Quận Hoàng Mai, Hà Nội, Đường Hàm Nghi, Phường Cầu Diễn, Quận Nam Từ Liêm, Hà Nội, Văn Phú, Phường La Khê, Quận Hà Đông, Hà Nội, Tây Sơn, Phường Ngã Tư Sở, Quận Đống Đa, Hà Nội, Đường Phùng Khoang, Phường Trung Văn, Quận Nam Từ Liêm, Hà Nội, Đường Nguyễn Trãi, Phường Thượng Đình, Quận Thanh Xuân, Hà Nội, Đường Tây Sơn, Phường Ngã Tư Sở, Quận Đống Đa, Hà Nội, Đường Thái Hà, Phường Trung Liệt, Quận Đống Đa, Hà Nội, Đường Bằng B, NHÂN MỸ, Phường Mỹ Đình 2, Quận Nam Từ Liêm, Hà Nội, Đường Quốc lộ 32, Phường Minh Khai, Quận Bắc Từ Liêm, Hà Nội, Đường Giáp Nhị, Phường Thịnh Liệt, Quận Hoàng Mai, Hà Nội, tôn đức thắng, Phường Quốc Tử Giám, Quận Đống Đa, Hà Nội, Đường Trích Sài, Phường Thụy Khuê, Quận Tây Hồ, Hà Nội, Đường Văn Quán, Phường Văn Quán, Quận Hà Đông, Hà Nội, Đường Khâm Thiên, Phường Khâm Thiên, Quận Đống Đa, Hà Nội, Đường Trương Định, Phường Trương Định, Quận Hai Bà Trưng, Hà Nội, Đường Huỳnh Thúc Kháng, Phường Láng Hạ, Quận Đống Đa, Hà Nội, Đường Phạm Văn Đồng, Phường Cổ Nhuế 1, Quận Bắc Từ Liêm, Hà Nội, Đường Khâm Thiên||377, Phường Khâm Thiên, Quận Đống Đa, Hà Nội, Đường Phú Diễn, Phường Phú Diễn, Quận Bắc Từ Liêm, Hà Nội, Đường Thái Thịnh 1, Phường Trung Liệt, Quận Đống Đa, Hà Nội, ...]   \n",
       "\n",
       "                                                                                                                                                                                                                                                                                                                                                                                                                                                                                                                                                                                                                                                           Area  \\\n",
       "missing_ratio  0.001212                                                                                                                                                                                                                                                                                                                                                                                                                                                                                                                                                                                                                                           \n",
       "num_diff_vals  504                                                                                                                                                                                                                                                                                                                                                                                                                                                                                                                                                                                                                                                \n",
       "diff vals      [46.0, 37.0, 40.0, 51.0, 36.0, 52.0, 32.0, 75.0, 41.0, 35.0, 30.0, 50.0, 52.8, 165.0, 70.0, 34.0, 65.0, 45.0, 79.0, 90.0, 73.0, 18.0, 42.0, 43.0, 25.0, 38.0, 49.0, 33.0, 120.0, 200.0, 47.0, 55.0, 77.0, 27.0, 60.0, 81.0, 20.0, 54.0, 28.0, 113.0, 76.0, 62.0, 11.0, 44.0, 21.0, 58.0, 196.0, 48.0, 24.0, 56.0, 104.0, 83.0, 68.0, 31.0, 64.0, 32.1, 185.0, 61.0, 23.0, 92.0, 85.0, 30.2, 26.0, 140.0, 31.5, 63.0, 39.0, 80.0, 57.0, 16.0, 13.0, 67.0, 35.22, 110.0, 35.21, 138.0, 3.0, 40.22, 22.0, 32.22, 82.0, 53.0, 86.0, 47.3, 33.33, 87.0, 96.0, 66.0, 451.0, 108.0, 32.07, 125.0, 33.1, 39.8, 36.5, 59.0, 443.0, 35.5, 46.4, 69.0, ...]   \n",
       "\n",
       "                                                                                                                                                                                                                                                                                                                                                                                                                                                                                                                                                                                                                                                                                                                                                                                                                                                                                                                                                                                                                                                                                                                                                                                                                                                                                                                                                                                                                                                                                                                                                                                                                                                                                                                                                                                                                                                                                                                                                                                                                                                                                                                                                                                                    Date  \\\n",
       "missing_ratio  0.0                                                                                                                                                                                                                                                                                                                                                                                                                                                                                                                                                                                                                                                                                                                                                                                                                                                                                                                                                                                                                                                                                                                                                                                                                                                                                                                                                                                                                                                                                                                                                                                                                                                                                                                                                                                                                                                                                                                                                                                                                                                                                                                                                                                         \n",
       "num_diff_vals  174                                                                                                                                                                                                                                                                                                                                                                                                                                                                                                                                                                                                                                                                                                                                                                                                                                                                                                                                                                                                                                                                                                                                                                                                                                                                                                                                                                                                                                                                                                                                                                                                                                                                                                                                                                                                                                                                                                                                                                                                                                                                                                                                                                                         \n",
       "diff vals      [2020-08-05 00:00:00, 2020-08-04 00:00:00, 2020-08-03 00:00:00, 2020-08-02 00:00:00, 2020-08-01 00:00:00, 2020-07-31 00:00:00, 2020-07-30 00:00:00, 2020-07-29 00:00:00, 2020-07-28 00:00:00, 2020-07-27 00:00:00, 2020-07-26 00:00:00, 2020-07-25 00:00:00, 2020-07-24 00:00:00, 2020-07-23 00:00:00, 2020-07-22 00:00:00, 2020-07-21 00:00:00, 2020-07-20 00:00:00, 2020-07-19 00:00:00, 2020-07-18 00:00:00, 2020-07-17 00:00:00, 2020-07-16 00:00:00, 2020-07-15 00:00:00, 2020-07-14 00:00:00, 2020-07-13 00:00:00, 2020-07-12 00:00:00, 2020-07-11 00:00:00, 2020-07-10 00:00:00, 2020-07-09 00:00:00, 2020-07-08 00:00:00, 2020-07-07 00:00:00, 2020-07-06 00:00:00, 2020-07-05 00:00:00, 2020-07-04 00:00:00, 2020-07-03 00:00:00, 2020-07-02 00:00:00, 2020-07-01 00:00:00, 2020-06-30 00:00:00, 2020-06-29 00:00:00, 2020-06-28 00:00:00, 2020-06-27 00:00:00, 2020-06-26 00:00:00, 2020-06-25 00:00:00, 2020-06-24 00:00:00, 2020-06-23 00:00:00, 2020-06-22 00:00:00, 2020-06-21 00:00:00, 2020-06-20 00:00:00, 2020-06-19 00:00:00, 2020-06-18 00:00:00, 2020-06-17 00:00:00, 2020-06-16 00:00:00, 2020-06-15 00:00:00, 2020-06-14 00:00:00, 2020-06-13 00:00:00, 2020-06-12 00:00:00, 2020-06-11 00:00:00, 2020-06-10 00:00:00, 2020-06-09 00:00:00, 2020-06-08 00:00:00, 2020-06-07 00:00:00, 2020-06-06 00:00:00, 2020-06-05 00:00:00, 2020-06-04 00:00:00, 2020-06-03 00:00:00, 2020-06-02 00:00:00, 2020-06-01 00:00:00, 2020-05-31 00:00:00, 2020-05-30 00:00:00, 2020-05-29 00:00:00, 2020-05-28 00:00:00, 2020-05-27 00:00:00, 2020-05-26 00:00:00, 2020-05-25 00:00:00, 2020-05-24 00:00:00, 2020-05-23 00:00:00, 2020-05-22 00:00:00, 2020-05-21 00:00:00, 2020-05-20 00:00:00, 2020-05-19 00:00:00, 2020-05-18 00:00:00, 2020-05-17 00:00:00, 2020-05-16 00:00:00, 2020-05-15 00:00:00, 2020-05-14 00:00:00, 2020-05-13 00:00:00, 2020-05-12 00:00:00, 2020-05-11 00:00:00, 2020-05-10 00:00:00, 2020-05-09 00:00:00, 2020-05-08 00:00:00, 2020-05-07 00:00:00, 2020-05-06 00:00:00, 2020-05-05 00:00:00, 2020-05-04 00:00:00, 2020-05-03 00:00:00, 2020-05-01 00:00:00, 2020-04-30 00:00:00, 2020-04-29 00:00:00, 2020-04-28 00:00:00, 2020-04-27 00:00:00, ...]   \n",
       "\n",
       "                                                                                                                                                                                                                                                                                                                                                                                                                                                                                       District  \\\n",
       "missing_ratio  0.001212                                                                                                                                                                                                                                                                                                                                                                                                                                                                           \n",
       "num_diff_vals  29                                                                                                                                                                                                                                                                                                                                                                                                                                                                                 \n",
       "diff vals      [Quận Cầu Giấy, Quận Thanh Xuân, Quận Hai Bà Trưng, Quận Tây Hồ, Quận Đống Đa, Quận Hà Đông, Huyện Thanh Trì, Quận Hoàng Mai, Quận Long Biên, Quận Hoàn Kiếm, Quận Nam Từ Liêm, Quận Ba Đình, Huyện Hoài Đức, Quận Bắc Từ Liêm, Huyện Đan Phượng, Huyện Thanh Oai, Huyện Sóc Sơn, Huyện Gia Lâm, Huyện Chương Mỹ, Huyện Đông Anh, Huyện Thường Tín, Thị xã Sơn Tây, Huyện Mê Linh, Huyện Thạch Thất, Huyện Quốc Oai, Huyện Phúc Thọ, Huyện Phú Xuyên, Huyện Ba Vì, Huyện Mỹ Đức]   \n",
       "\n",
       "                                               Legal  \\\n",
       "missing_ratio  35.015031                               \n",
       "num_diff_vals  3                                       \n",
       "diff vals      [Đã có sổ, Đang chờ sổ, Giấy tờ khác]   \n",
       "\n",
       "                                                                                                                                                                                                                                                                                                                                                                                                                                                                                                                                                                                                        Length  \\\n",
       "missing_ratio  75.966107                                                                                                                                                                                                                                                                                                                                                                                                                                                                                                                                                                                         \n",
       "num_diff_vals  487                                                                                                                                                                                                                                                                                                                                                                                                                                                                                                                                                                                               \n",
       "diff vals      [10.0, 12.75, 9.0, 12.1, 12.0, 13.0, 15.2, 18.0, 6.6, 11.0, 22.0, 17.0, 8.5, 6.0, 8.0, 22.5, 6.5, 7.0, 9.5, 20.0, 9.2, 4.0, 3.0, 50.0, 8.7, 8.75, 15.0, 8.04, 16.57, 9.72, 4.6, 11.7, 7.5, 21.0, 22.6, 16.0, 5.0, 8.14, 14.0, 5.6, 12.25, 15.7, 16.55, 4.2, 1430.0, 30.0, 48.0, 10.6, 8.96, 10.5, 8.3, 6.2, 19.0, 6.7, 10.2, 5.5, 7.8, 10.4, 9.7, 11.25, 9.4, 2.7, 10.1, 12.5, 35.0, 9.8, 5.8, 7.81, 8.2, 12.3, 7.4, 11.5, 4.5, 8.8, 3.8, 9.1, 9.3, 6.09, 25.0, 14.8, 23.0, 105.0, 7.38, 13.1, 8.4, 7.7, 125.0, 3.1, 13.8, 6.8, 11.1, 5.99, 2.0, 10.17, 38.0, 6.02, 24.0, 9.75, 7.2, 13.9, ...]   \n",
       "\n",
       "                                                      Number of bedrooms  \\\n",
       "missing_ratio  0.046063                                                    \n",
       "num_diff_vals  11                                                          \n",
       "diff vals      [5.0, 3.0, 4.0, 6.0, 11.0, 8.0, 2.0, 7.0, 9.0, 1.0, 10.0]   \n",
       "\n",
       "                                                        Number of floors  \\\n",
       "missing_ratio  55.877861                                                   \n",
       "num_diff_vals  11                                                          \n",
       "diff vals      [4.0, 6.0, 5.0, 7.0, 2.0, 3.0, 8.0, 1.0, 9.0, 11.0, 10.0]   \n",
       "\n",
       "                                                                                                                                                                                                                                                                                                                                                                                                                                                                                                                                                                                                                                                                                                                                                                                                                                                                                                                                                                                                                                                                                                                                                                                                                                                                                                                                                                                                                                                                                                                                                                                                                                                                Price/m2  \\\n",
       "missing_ratio  0.014546                                                                                                                                                                                                                                                                                                                                                                                                                                                                                                                                                                                                                                                                                                                                                                                                                                                                                                                                                                                                                                                                                                                                                                                                                                                                                                                                                                                                                                                                                                                                                                                                                                                    \n",
       "num_diff_vals  8345                                                                                                                                                                                                                                                                                                                                                                                                                                                                                                                                                                                                                                                                                                                                                                                                                                                                                                                                                                                                                                                                                                                                                                                                                                                                                                                                                                                                                                                                                                                                                                                                                                                        \n",
       "diff vals      [86,96 triệu/m², 116,22 triệu/m², 65 triệu/m², 100 triệu/m², 86,11 triệu/m², 104,35 triệu/m², 112,5 triệu/m², 184,38 triệu/m², 120 triệu/m², 64,63 triệu/m², 45,71 triệu/m², 83,33 triệu/m², 93,27 triệu/m², 86 triệu/m², 75 triệu/m², 103,03 triệu/m², 102,86 triệu/m², 82,35 triệu/m², 51,56 triệu/m², 75,38 triệu/m², 64,44 triệu/m², 112,66 triệu/m², 108,89 triệu/m², 106,85 triệu/m², 250 triệu/m², 107,5 triệu/m², 133,33 triệu/m², 60,94 triệu/m², 69,44 triệu/m², 83,81 triệu/m², 58,33 triệu/m², 95,56 triệu/m², 29,76 triệu/m², 80,43 triệu/m², 361,9 triệu/m², 50 triệu/m², 96 triệu/m², 51,11 triệu/m², 80,86 triệu/m², 68,42 triệu/m², 55,71 triệu/m², 36,73 triệu/m², 80,3 triệu/m², 73,68 triệu/m², 96,88 triệu/m², 125 triệu/m², 47,25 triệu/m², 57,45 triệu/m², 309,09 triệu/m², 61,67 triệu/m², 130 triệu/m², 62,75 triệu/m², 56,25 triệu/m², 114,29 triệu/m², 105,95 triệu/m², 98,75 triệu/m², 59,72 triệu/m², 91,67 triệu/m², 2,08 triệu/m², 120,59 triệu/m², 72,22 triệu/m², 104,41 triệu/m², 82,67 triệu/m², 105,56 triệu/m², 136,36 triệu/m², 225 triệu/m², 81,25 triệu/m², 77,5 triệu/m², 89,06 triệu/m², 39,51 triệu/m², 97,5 triệu/m², 101,85 triệu/m², 109,17 triệu/m², 68,75 triệu/m², 36,25 triệu/m², 70 triệu/m², 136,25 triệu/m², 67,86 triệu/m², 84,38 triệu/m², 54,55 triệu/m², 65,79 triệu/m², 131,58 triệu/m², 80,61 triệu/m², 247.787 đ/m², 60 triệu/m², 118,33 triệu/m², 53,51 triệu/m², 61,18 triệu/m², 71,11 triệu/m², 125,81 triệu/m², 207,32 triệu/m², 81,52 triệu/m², 131,82 triệu/m², 89,77 triệu/m², 76,47 triệu/m², 276,67 triệu/m², 46,61 triệu/m², 71,43 triệu/m², 393,33 triệu/m², 118,18 triệu/m², ...]   \n",
       "\n",
       "                                                                               Type  \\\n",
       "missing_ratio  0.037578                                                               \n",
       "num_diff_vals  4                                                                      \n",
       "diff vals      [Nhà ngõ, hẻm, Nhà mặt phố, mặt tiền, Nhà biệt thự, Nhà phố liền kề]   \n",
       "\n",
       "                                  Unit  \\\n",
       "missing_ratio  0.014546                  \n",
       "num_diff_vals  3                         \n",
       "diff vals      [triệu/m², đ/m², tỷ/m²]   \n",
       "\n",
       "                                                                                                                                                                                                                                                                                                                                                                                                                                                                                                                                                                                                                                                                                                                                                                                                                                                                                                                                                                                                                                                                                                                                                                                                                                                                                                                                                                                                                                                                                                                                                                                                                                                                                                                                                                                                                                               Ward  \\\n",
       "missing_ratio  0.056972                                                                                                                                                                                                                                                                                                                                                                                                                                                                                                                                                                                                                                                                                                                                                                                                                                                                                                                                                                                                                                                                                                                                                                                                                                                                                                                                                                                                                                                                                                                                                                                                                                                                                                                                                                                                                               \n",
       "num_diff_vals  309                                                                                                                                                                                                                                                                                                                                                                                                                                                                                                                                                                                                                                                                                                                                                                                                                                                                                                                                                                                                                                                                                                                                                                                                                                                                                                                                                                                                                                                                                                                                                                                                                                                                                                                                                                                                                                    \n",
       "diff vals      [Phường Nghĩa Đô, Phường Kim Giang, Phường Minh Khai, Phường Thụy Khuê, Phường Yên Hoà, Phường Trung Liệt, Phường Đống Mác, Phường Xuân La, Phường Văn Quán, Thị trấn Văn Điển, Phường Định Công, Phường Bồ Đề, Phường Quang Trung, Phường Thanh Lương, Phường Khương Trung, Phường Phúc Tân, Phường Gia Thụy, Phường Khương Đình, Phường Phương Canh, Phường Tương Mai, Phường La Khê, Phường Mễ Trì, Phường Khương Mai, Phường Láng Hạ, Phường Quan Hoa, Phường Tây Mỗ, Phường Ngọc Khánh, Phường Đại Mỗ, Xã Tả Thanh Oai, Phường Mỹ Đình 1, Xã Tam Hiệp, Phường Cống Vị, Phường Bách Khoa, Phường Vĩnh Phúc, Xã Kim Chung, Phường Đại Kim, Phường Mai Động, Phường Trung Tự, Phường Kiến Hưng, Phường Trúc Bạch, Phường Cổ Nhuế 1, Phường Đức Giang, Phường Mỹ Đình 2, Phường Bưởi, Phường Ô Chợ Dừa, Phường Long Biên, Phường Hoàng Văn Thụ, Phường Mai Dịch, Phường Nhân Chính, Phường Vạn Phúc, Phường Ngọc Hà, Phường Lĩnh Nam, Phường Xuân Đỉnh, Phường Phú Đô, Phường Liễu Giai, Thị trấn Phùng, Phường Kim Liên, Phường Phúc Diễn, Phường Kim Mã, Phường Trung Phụng, Phường Tân Mai, Phường Cầu Diễn, Phường Ngã Tư Sở, Phường Trung Văn, Phường Thượng Đình, Phường Hoàng Liệt, Phường Thịnh Liệt, Phường Quốc Tử Giám, Phường Khâm Thiên, Phường Trương Định, Phường Phú Diễn, Phường Thạch Bàn, Phường Ngọc Thụy, Phường Cầu Dền, Phường Phú Lương, Phường Bạch Đằng, Phường Phú La, Phường Hà Cầu, Phường Láng Thượng, Phường Phương Liệt, Phường Vĩnh Hưng, Phường Thanh Nhàn, Phường Cự Khối, Phường Đội Cấn, Phường Thịnh Quang, Phường Trung Hoà, Phường Quỳnh Mai, Phường Nam Đồng, Phường Dịch Vọng Hậu, Phường Nghĩa Tân, Xã Cự Khê, Phường Vĩnh Tuy, Phường Quảng An, Phường Yên Nghĩa, Phường Thành Công, Phường Giáp Bát, Phường Dịch Vọng, Phường Thanh Xuân Bắc, Phường Phương Mai, Phường Bạch Mai, ...]   \n",
       "\n",
       "                                                                                                                                                                                                                                                                                                                                                                                                                                                                                                                                                                                           Width  \n",
       "missing_ratio  57.03428                                                                                                                                                                                                                                                                                                                                                                                                                                                                                                                                                                           \n",
       "num_diff_vals  410                                                                                                                                                                                                                                                                                                                                                                                                                                                                                                                                                                                \n",
       "diff vals      [4.0, 3.8, 4.5, 6.8, 6.5, 3.5, 5.0, 3.9, 4.2, 5.3, 7.0, 8.0, 3.1, 3.0, 4.3, 9.0, 3.4, 3.2, 3.6, 3.25, 53.0, 6.0, 7.55, 3.7, 4.8, 4.1, 4.55, 3.3, 3.73, 5.6, 38.0, 33.0, 32.0, 13.0, 45.0, 42.0, 7.3, 6.3, 3.78, 3.65, 5.5, 4.6, 3.75, 12.0, 3500.0, 3.46, 2.9, 35.0, 6.2, 4.16, 3.06, 5.7, 3.55, 6.1, 5.4, 6.6, 4.4, 37.0, 5.1, 41.0, 7.4, 348.0, 2.0, 4.29, 5.94, 30.0, 4.12, 10.0, 85.0, 7.2, 5.2, 5.9, 3.57, 5.8, 3.95, 7.6, 3.53, 15.0, 5.58, 18.0, 2.8, 6.05, 6.7, 4.9, 34.0, 36.0, 500.0, 3600.0, 25.0, 2.7, 8.85, 13.5, 52.0, 7.8, 39.0, 430.0, 9.5, 4.33, 1.0, 3.85, ...]  "
      ]
     },
     "execution_count": 1628,
     "metadata": {},
     "output_type": "execute_result"
    }
   ],
   "source": [
    "columns = housing_df.columns\n",
    "cate_profiles = {'missing_ratio': housing_df[columns].isna().sum() * 100.0/len (housing_df[columns]),\n",
    "                    'num_diff_vals': housing_df[columns].nunique (dropna=True),\n",
    "                    'diff vals': housing_df[columns].stack(dropna=True).groupby(level= [1]). unique (),\n",
    "}\n",
    "cate_col_profiles_df = pd.DataFrame(cate_profiles).transpose()\n",
    "cate_col_profiles_df"
   ]
  },
  {
   "cell_type": "code",
   "execution_count": 1629,
   "metadata": {},
   "outputs": [],
   "source": [
    "housing_df.to_csv(\"./csv/EDA_Preprocessing.csv\")"
   ]
  },
  {
   "attachments": {},
   "cell_type": "markdown",
   "metadata": {},
   "source": [
    "# **LƯU Ý**<br>\n",
    "- Chỉnh lại kiểu dữ liệu cho cột `Date` nếu tạo file ipynb cho phần `Đặt câu hỏi`"
   ]
  }
 ],
 "metadata": {
  "kernelspec": {
   "display_name": "Python 3",
   "language": "python",
   "name": "python3"
  },
  "language_info": {
   "codemirror_mode": {
    "name": "ipython",
    "version": 3
   },
   "file_extension": ".py",
   "mimetype": "text/x-python",
   "name": "python",
   "nbconvert_exporter": "python",
   "pygments_lexer": "ipython3",
   "version": "3.11.0"
  },
  "orig_nbformat": 4,
  "vscode": {
   "interpreter": {
    "hash": "5f80c455da1dc101d9f66a16923589bd6dbb3429340af280f1efed2f72025e97"
   }
  }
 },
 "nbformat": 4,
 "nbformat_minor": 2
}
